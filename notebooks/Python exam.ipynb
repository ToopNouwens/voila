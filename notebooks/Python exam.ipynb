{
  "nbformat": 4,
  "nbformat_minor": 0,
  "metadata": {
    "colab": {
      "provenance": []
    },
    "kernelspec": {
      "name": "python3",
      "display_name": "Python 3"
    },
    "language_info": {
      "name": "python"
    }
  },
  "cells": [
    {
      "cell_type": "markdown",
      "source": [
        "Dirk Steijger & Toop Nouwens student id: i6234938\n",
        "\n",
        "\n"
      ],
      "metadata": {
        "id": "CwokYDO7-HfM"
      }
    },
    {
      "cell_type": "code",
      "source": [],
      "metadata": {
        "id": "kUvMnby3CTOO"
      },
      "execution_count": null,
      "outputs": []
    },
    {
      "cell_type": "markdown",
      "source": [],
      "metadata": {
        "id": "xAJQP1Ut-deq"
      }
    },
    {
      "cell_type": "markdown",
      "source": [
        "# Introduction\n",
        "The aim of this study was to investigate whether the effect of schooling on life expectancy and mortality rates is postive or negative in a developing country (Burundi) compared to a developed country (The Netherlands)."
      ],
      "metadata": {
        "id": "jI30kdJJ-RPc"
      }
    },
    {
      "cell_type": "markdown",
      "source": [
        "# Data Preparation, Exploration and Cleaning"
      ],
      "metadata": {
        "id": "kb-EUGBT-bpl"
      }
    },
    {
      "cell_type": "code",
      "execution_count": null,
      "metadata": {
        "id": "COvBZp_ZWqcW"
      },
      "outputs": [],
      "source": [
        "# important pandas, altair and the dataset\n",
        "import pandas as pd\n",
        "import altair as alt\n",
        "health = (pd.read_csv('https://raw.githubusercontent.com/NHameleers/dtz2025-datasets/master/CountryHealthFactors.csv'))\n"
      ]
    },
    {
      "cell_type": "code",
      "source": [
        "# removing spaces from column titles\n",
        "health.columns = health.columns.str.strip()"
      ],
      "metadata": {
        "id": "KNDp3Cg1XEiS"
      },
      "execution_count": null,
      "outputs": []
    },
    {
      "cell_type": "code",
      "source": [
        "# removing irrelevant rows\n",
        "health.drop(['Alcohol', 'percentage expenditure', 'Hepatitis B', 'Measles', 'Total expenditure', 'Diphtheria', 'GDP', 'thinness  1-19 years', 'thinness 5-9 years','BMI', 'Polio', 'Income composition of resources', 'HIV/AIDS'], axis=1)\n",
        "health = health.drop(['Alcohol', 'percentage expenditure', 'Hepatitis B', 'Measles', 'Total expenditure', 'Diphtheria', 'GDP', 'thinness  1-19 years', 'thinness 5-9 years','BMI', 'Polio', 'Income composition of resources', 'HIV/AIDS'], axis=1)"
      ],
      "metadata": {
        "id": "Vup2MYHlZ8GP"
      },
      "execution_count": null,
      "outputs": []
    },
    {
      "cell_type": "code",
      "source": [
        "# making column names consistent\n",
        "health.rename(columns = {'infant deaths': 'Infant deaths', 'Adult Mortality': 'Adult mortality', 'under-five deaths': 'Under-five deaths', 'Life expectancy ': 'Life expectancy'})\n",
        "health = health.rename(columns = {'infant deaths': 'Infant deaths', 'Adult Mortality': 'Adult mortality', 'under-five deaths': 'Under-five deaths', 'Life expectancy ': 'Life expectancy'})"
      ],
      "metadata": {
        "id": "S0NYFBsyaoi6"
      },
      "execution_count": null,
      "outputs": []
    },
    {
      "cell_type": "code",
      "source": [
        "# overview of country names\n",
        "unique_countries = health['Country']. unique()\n",
        "print(unique_countries)"
      ],
      "metadata": {
        "colab": {
          "base_uri": "https://localhost:8080/"
        },
        "id": "Us1EQNFHbegO",
        "outputId": "31c56b3c-e08e-450d-b19d-7898e9dda5cf"
      },
      "execution_count": null,
      "outputs": [
        {
          "output_type": "stream",
          "name": "stdout",
          "text": [
            "['Afghanistan' 'Albania' 'Algeria' 'Angola' 'Antigua and Barbuda'\n",
            " 'Argentina' 'Armenia' 'Australia' 'Austria' 'Azerbaijan' 'Bahamas'\n",
            " 'Bahrain' 'Bangladesh' 'Barbados' 'Belarus' 'Belgium' 'Belize' 'Benin'\n",
            " 'Bhutan' 'Bolivia (Plurinational State of)' 'Bosnia and Herzegovina'\n",
            " 'Botswana' 'Brazil' 'Brunei Darussalam' 'Bulgaria' 'Burkina Faso'\n",
            " 'Burundi' \"Côte d'Ivoire\" 'Cabo Verde' 'Cambodia' 'Cameroon' 'Canada'\n",
            " 'Central African Republic' 'Chad' 'Chile' 'China' 'Colombia' 'Comoros'\n",
            " 'Congo' 'Cook Islands' 'Costa Rica' 'Croatia' 'Cuba' 'Cyprus' 'Czechia'\n",
            " \"Democratic People's Republic of Korea\"\n",
            " 'Democratic Republic of the Congo' 'Denmark' 'Djibouti' 'Dominica'\n",
            " 'Dominican Republic' 'Ecuador' 'Egypt' 'El Salvador' 'Equatorial Guinea'\n",
            " 'Eritrea' 'Estonia' 'Ethiopia' 'Fiji' 'Finland' 'France' 'Gabon' 'Gambia'\n",
            " 'Georgia' 'Germany' 'Ghana' 'Greece' 'Grenada' 'Guatemala' 'Guinea'\n",
            " 'Guinea-Bissau' 'Guyana' 'Haiti' 'Honduras' 'Hungary' 'Iceland' 'India'\n",
            " 'Indonesia' 'Iran (Islamic Republic of)' 'Iraq' 'Ireland' 'Israel'\n",
            " 'Italy' 'Jamaica' 'Japan' 'Jordan' 'Kazakhstan' 'Kenya' 'Kiribati'\n",
            " 'Kuwait' 'Kyrgyzstan' \"Lao People's Democratic Republic\" 'Latvia'\n",
            " 'Lebanon' 'Lesotho' 'Liberia' 'Libya' 'Lithuania' 'Luxembourg'\n",
            " 'Madagascar' 'Malawi' 'Malaysia' 'Maldives' 'Mali' 'Malta'\n",
            " 'Marshall Islands' 'Mauritania' 'Mauritius' 'Mexico'\n",
            " 'Micronesia (Federated States of)' 'Monaco' 'Mongolia' 'Montenegro'\n",
            " 'Morocco' 'Mozambique' 'Myanmar' 'Namibia' 'Nauru' 'Nepal' 'Netherlands'\n",
            " 'New Zealand' 'Nicaragua' 'Niger' 'Nigeria' 'Niue' 'Norway' 'Oman'\n",
            " 'Pakistan' 'Palau' 'Panama' 'Papua New Guinea' 'Paraguay' 'Peru'\n",
            " 'Philippines' 'Poland' 'Portugal' 'Qatar' 'Republic of Korea'\n",
            " 'Republic of Moldova' 'Romania' 'Russian Federation' 'Rwanda'\n",
            " 'Saint Kitts and Nevis' 'Saint Lucia' 'Saint Vincent and the Grenadines'\n",
            " 'Samoa' 'San Marino' 'Sao Tome and Principe' 'Saudi Arabia' 'Senegal'\n",
            " 'Serbia' 'Seychelles' 'Sierra Leone' 'Singapore' 'Slovakia' 'Slovenia'\n",
            " 'Solomon Islands' 'Somalia' 'South Africa' 'South Sudan' 'Spain'\n",
            " 'Sri Lanka' 'Sudan' 'Suriname' 'Swaziland' 'Sweden' 'Switzerland'\n",
            " 'Syrian Arab Republic' 'Tajikistan' 'Thailand'\n",
            " 'The former Yugoslav republic of Macedonia' 'Timor-Leste' 'Togo' 'Tonga'\n",
            " 'Trinidad and Tobago' 'Tunisia' 'Turkey' 'Turkmenistan' 'Tuvalu' 'Uganda'\n",
            " 'Ukraine' 'United Arab Emirates'\n",
            " 'United Kingdom of Great Britain and Northern Ireland'\n",
            " 'United Republic of Tanzania' 'United States of America' 'Uruguay'\n",
            " 'Uzbekistan' 'Vanuatu' 'Venezuela (Bolivarian Republic of)' 'Viet Nam'\n",
            " 'Yemen' 'Zambia' 'Zimbabwe']\n"
          ]
        }
      ]
    },
    {
      "cell_type": "code",
      "source": [
        "# getting Burundi rows\n",
        "Burundi_rows = health[health['Country'] == 'Burundi']\n",
        "print(Burundi_rows)"
      ],
      "metadata": {
        "id": "tnxMZ5F9Y6uO",
        "colab": {
          "base_uri": "https://localhost:8080/"
        },
        "outputId": "8010a24a-9cc0-43fc-8829-6865e547fc76"
      },
      "execution_count": null,
      "outputs": [
        {
          "output_type": "stream",
          "name": "stdout",
          "text": [
            "     Country  Year      Status  Life expectancy  Adult mortality  \\\n",
            "416  Burundi  2015  Developing             59.6            288.0   \n",
            "417  Burundi  2014  Developing             59.1            297.0   \n",
            "418  Burundi  2013  Developing             58.6             33.0   \n",
            "419  Burundi  2012  Developing             58.0            312.0   \n",
            "420  Burundi  2011  Developing             57.4            321.0   \n",
            "421  Burundi  2010  Developing             56.8             33.0   \n",
            "422  Burundi  2009  Developing             56.2            338.0   \n",
            "423  Burundi  2008  Developing             55.3             35.0   \n",
            "424  Burundi  2007  Developing             54.8            355.0   \n",
            "425  Burundi  2006  Developing             54.1            361.0   \n",
            "426  Burundi  2005  Developing             53.4            369.0   \n",
            "427  Burundi  2004  Developing             52.6            378.0   \n",
            "428  Burundi  2003  Developing             51.9            387.0   \n",
            "429  Burundi  2002  Developing             51.5            387.0   \n",
            "430  Burundi  2001  Developing             51.3            385.0   \n",
            "431  Burundi  2000  Developing             58.0            386.0   \n",
            "\n",
            "     Infant deaths  Under-five deaths  Population  Schooling  \n",
            "416             21                 31    119927.0       10.6  \n",
            "417             22                 32    989179.0       10.6  \n",
            "418             22                 32     96186.0       10.5  \n",
            "419             22                 33    931971.0       10.3  \n",
            "420             22                 33     94358.0        9.9  \n",
            "421             23                 34    876693.0        9.3  \n",
            "422             23                 34    848931.0        8.6  \n",
            "423             23                 35   8212264.0        7.9  \n",
            "424             24                 36   7939573.0        7.2  \n",
            "425             24                 36   7675338.0        5.9  \n",
            "426             24                 37   7423289.0        5.6  \n",
            "427             24                 38   7182451.0        5.2  \n",
            "428             24                 38   6953113.0        4.7  \n",
            "429             24                 39   6741569.0        4.4  \n",
            "430             25                 40   6555829.0        4.5  \n",
            "431             25                 41      6476.0        4.5  \n"
          ]
        }
      ]
    },
    {
      "cell_type": "code",
      "source": [
        "# saving the rows of Burundi\n",
        "subset_Burundi = health.iloc[416:432, :]\n",
        "subset_Burundi.to_csv('subset_Burundi.csc', index= True)"
      ],
      "metadata": {
        "id": "n2qQu1YbbcIg"
      },
      "execution_count": null,
      "outputs": []
    },
    {
      "cell_type": "code",
      "source": [
        "# checking for missing values in Burundi\n",
        "print(subset_Burundi.isnull().sum())"
      ],
      "metadata": {
        "colab": {
          "base_uri": "https://localhost:8080/"
        },
        "id": "WiZLYE3vler_",
        "outputId": "755be7e2-1699-40ea-aa23-65bcc3be71ca"
      },
      "execution_count": null,
      "outputs": [
        {
          "output_type": "stream",
          "name": "stdout",
          "text": [
            "Country              0\n",
            "Year                 0\n",
            "Status               0\n",
            "Life expectancy      0\n",
            "Adult mortality      0\n",
            "Infant deaths        0\n",
            "Under-five deaths    0\n",
            "Population           0\n",
            "Schooling            0\n",
            "dtype: int64\n"
          ]
        }
      ]
    },
    {
      "cell_type": "code",
      "source": [
        "# creating box plots for Burundi\n",
        "for column in subset_Burundi.select_dtypes(include=['float64', 'int64']).columns:\n",
        "    # Create a box plot for the current column\n",
        "    chart = alt.Chart(subset_Burundi).mark_boxplot().encode(\n",
        "        y=alt.Y(f'{column}:Q', title=column)  # Using f-string for dynamic column naming\n",
        "    ).properties(\n",
        "        width=400,\n",
        "        height=300,\n",
        "        title=f'Box Plot of {column}'\n",
        "    )\n",
        "\n",
        "    # Display the chart\n",
        "    chart.display()"
      ],
      "metadata": {
        "colab": {
          "base_uri": "https://localhost:8080/",
          "height": 1000
        },
        "id": "jqW3GIAhmMYN",
        "outputId": "8bc50af6-d98a-4977-bb03-50943c568e51"
      },
      "execution_count": null,
      "outputs": [
        {
          "output_type": "display_data",
          "data": {
            "text/html": [
              "\n",
              "<div id=\"altair-viz-b3e518a01bbb4edcb8c14ea8ffb50d63\"></div>\n",
              "<script type=\"text/javascript\">\n",
              "  var VEGA_DEBUG = (typeof VEGA_DEBUG == \"undefined\") ? {} : VEGA_DEBUG;\n",
              "  (function(spec, embedOpt){\n",
              "    let outputDiv = document.currentScript.previousElementSibling;\n",
              "    if (outputDiv.id !== \"altair-viz-b3e518a01bbb4edcb8c14ea8ffb50d63\") {\n",
              "      outputDiv = document.getElementById(\"altair-viz-b3e518a01bbb4edcb8c14ea8ffb50d63\");\n",
              "    }\n",
              "    const paths = {\n",
              "      \"vega\": \"https://cdn.jsdelivr.net/npm//vega@5?noext\",\n",
              "      \"vega-lib\": \"https://cdn.jsdelivr.net/npm//vega-lib?noext\",\n",
              "      \"vega-lite\": \"https://cdn.jsdelivr.net/npm//vega-lite@4.17.0?noext\",\n",
              "      \"vega-embed\": \"https://cdn.jsdelivr.net/npm//vega-embed@6?noext\",\n",
              "    };\n",
              "\n",
              "    function maybeLoadScript(lib, version) {\n",
              "      var key = `${lib.replace(\"-\", \"\")}_version`;\n",
              "      return (VEGA_DEBUG[key] == version) ?\n",
              "        Promise.resolve(paths[lib]) :\n",
              "        new Promise(function(resolve, reject) {\n",
              "          var s = document.createElement('script');\n",
              "          document.getElementsByTagName(\"head\")[0].appendChild(s);\n",
              "          s.async = true;\n",
              "          s.onload = () => {\n",
              "            VEGA_DEBUG[key] = version;\n",
              "            return resolve(paths[lib]);\n",
              "          };\n",
              "          s.onerror = () => reject(`Error loading script: ${paths[lib]}`);\n",
              "          s.src = paths[lib];\n",
              "        });\n",
              "    }\n",
              "\n",
              "    function showError(err) {\n",
              "      outputDiv.innerHTML = `<div class=\"error\" style=\"color:red;\">${err}</div>`;\n",
              "      throw err;\n",
              "    }\n",
              "\n",
              "    function displayChart(vegaEmbed) {\n",
              "      vegaEmbed(outputDiv, spec, embedOpt)\n",
              "        .catch(err => showError(`Javascript Error: ${err.message}<br>This usually means there's a typo in your chart specification. See the javascript console for the full traceback.`));\n",
              "    }\n",
              "\n",
              "    if(typeof define === \"function\" && define.amd) {\n",
              "      requirejs.config({paths});\n",
              "      require([\"vega-embed\"], displayChart, err => showError(`Error loading script: ${err.message}`));\n",
              "    } else {\n",
              "      maybeLoadScript(\"vega\", \"5\")\n",
              "        .then(() => maybeLoadScript(\"vega-lite\", \"4.17.0\"))\n",
              "        .then(() => maybeLoadScript(\"vega-embed\", \"6\"))\n",
              "        .catch(showError)\n",
              "        .then(() => displayChart(vegaEmbed));\n",
              "    }\n",
              "  })({\"config\": {\"view\": {\"continuousWidth\": 400, \"continuousHeight\": 300}}, \"data\": {\"name\": \"data-131a47cd570fb7d24b7988a96d06887f\"}, \"mark\": \"boxplot\", \"encoding\": {\"y\": {\"field\": \"Year\", \"title\": \"Year\", \"type\": \"quantitative\"}}, \"height\": 300, \"title\": \"Box Plot of Year\", \"width\": 400, \"$schema\": \"https://vega.github.io/schema/vega-lite/v4.17.0.json\", \"datasets\": {\"data-131a47cd570fb7d24b7988a96d06887f\": [{\"Country\": \"Burundi\", \"Year\": 2015, \"Status\": \"Developing\", \"Life expectancy\": 59.6, \"Adult mortality\": 288.0, \"Infant deaths\": 21, \"Under-five deaths\": 31, \"Population\": 119927.0, \"Schooling\": 10.6}, {\"Country\": \"Burundi\", \"Year\": 2014, \"Status\": \"Developing\", \"Life expectancy\": 59.1, \"Adult mortality\": 297.0, \"Infant deaths\": 22, \"Under-five deaths\": 32, \"Population\": 989179.0, \"Schooling\": 10.6}, {\"Country\": \"Burundi\", \"Year\": 2013, \"Status\": \"Developing\", \"Life expectancy\": 58.6, \"Adult mortality\": 33.0, \"Infant deaths\": 22, \"Under-five deaths\": 32, \"Population\": 96186.0, \"Schooling\": 10.5}, {\"Country\": \"Burundi\", \"Year\": 2012, \"Status\": \"Developing\", \"Life expectancy\": 58.0, \"Adult mortality\": 312.0, \"Infant deaths\": 22, \"Under-five deaths\": 33, \"Population\": 931971.0, \"Schooling\": 10.3}, {\"Country\": \"Burundi\", \"Year\": 2011, \"Status\": \"Developing\", \"Life expectancy\": 57.4, \"Adult mortality\": 321.0, \"Infant deaths\": 22, \"Under-five deaths\": 33, \"Population\": 94358.0, \"Schooling\": 9.9}, {\"Country\": \"Burundi\", \"Year\": 2010, \"Status\": \"Developing\", \"Life expectancy\": 56.8, \"Adult mortality\": 33.0, \"Infant deaths\": 23, \"Under-five deaths\": 34, \"Population\": 876693.0, \"Schooling\": 9.3}, {\"Country\": \"Burundi\", \"Year\": 2009, \"Status\": \"Developing\", \"Life expectancy\": 56.2, \"Adult mortality\": 338.0, \"Infant deaths\": 23, \"Under-five deaths\": 34, \"Population\": 848931.0, \"Schooling\": 8.6}, {\"Country\": \"Burundi\", \"Year\": 2008, \"Status\": \"Developing\", \"Life expectancy\": 55.3, \"Adult mortality\": 35.0, \"Infant deaths\": 23, \"Under-five deaths\": 35, \"Population\": 8212264.0, \"Schooling\": 7.9}, {\"Country\": \"Burundi\", \"Year\": 2007, \"Status\": \"Developing\", \"Life expectancy\": 54.8, \"Adult mortality\": 355.0, \"Infant deaths\": 24, \"Under-five deaths\": 36, \"Population\": 7939573.0, \"Schooling\": 7.2}, {\"Country\": \"Burundi\", \"Year\": 2006, \"Status\": \"Developing\", \"Life expectancy\": 54.1, \"Adult mortality\": 361.0, \"Infant deaths\": 24, \"Under-five deaths\": 36, \"Population\": 7675338.0, \"Schooling\": 5.9}, {\"Country\": \"Burundi\", \"Year\": 2005, \"Status\": \"Developing\", \"Life expectancy\": 53.4, \"Adult mortality\": 369.0, \"Infant deaths\": 24, \"Under-five deaths\": 37, \"Population\": 7423289.0, \"Schooling\": 5.6}, {\"Country\": \"Burundi\", \"Year\": 2004, \"Status\": \"Developing\", \"Life expectancy\": 52.6, \"Adult mortality\": 378.0, \"Infant deaths\": 24, \"Under-five deaths\": 38, \"Population\": 7182451.0, \"Schooling\": 5.2}, {\"Country\": \"Burundi\", \"Year\": 2003, \"Status\": \"Developing\", \"Life expectancy\": 51.9, \"Adult mortality\": 387.0, \"Infant deaths\": 24, \"Under-five deaths\": 38, \"Population\": 6953113.0, \"Schooling\": 4.7}, {\"Country\": \"Burundi\", \"Year\": 2002, \"Status\": \"Developing\", \"Life expectancy\": 51.5, \"Adult mortality\": 387.0, \"Infant deaths\": 24, \"Under-five deaths\": 39, \"Population\": 6741569.0, \"Schooling\": 4.4}, {\"Country\": \"Burundi\", \"Year\": 2001, \"Status\": \"Developing\", \"Life expectancy\": 51.3, \"Adult mortality\": 385.0, \"Infant deaths\": 25, \"Under-five deaths\": 40, \"Population\": 6555829.0, \"Schooling\": 4.5}, {\"Country\": \"Burundi\", \"Year\": 2000, \"Status\": \"Developing\", \"Life expectancy\": 58.0, \"Adult mortality\": 386.0, \"Infant deaths\": 25, \"Under-five deaths\": 41, \"Population\": 6476.0, \"Schooling\": 4.5}]}}, {\"mode\": \"vega-lite\"});\n",
              "</script>"
            ],
            "text/plain": [
              "alt.Chart(...)"
            ]
          },
          "metadata": {}
        },
        {
          "output_type": "display_data",
          "data": {
            "text/html": [
              "\n",
              "<div id=\"altair-viz-913f025a51af42978c83e4fc8e3a5ae6\"></div>\n",
              "<script type=\"text/javascript\">\n",
              "  var VEGA_DEBUG = (typeof VEGA_DEBUG == \"undefined\") ? {} : VEGA_DEBUG;\n",
              "  (function(spec, embedOpt){\n",
              "    let outputDiv = document.currentScript.previousElementSibling;\n",
              "    if (outputDiv.id !== \"altair-viz-913f025a51af42978c83e4fc8e3a5ae6\") {\n",
              "      outputDiv = document.getElementById(\"altair-viz-913f025a51af42978c83e4fc8e3a5ae6\");\n",
              "    }\n",
              "    const paths = {\n",
              "      \"vega\": \"https://cdn.jsdelivr.net/npm//vega@5?noext\",\n",
              "      \"vega-lib\": \"https://cdn.jsdelivr.net/npm//vega-lib?noext\",\n",
              "      \"vega-lite\": \"https://cdn.jsdelivr.net/npm//vega-lite@4.17.0?noext\",\n",
              "      \"vega-embed\": \"https://cdn.jsdelivr.net/npm//vega-embed@6?noext\",\n",
              "    };\n",
              "\n",
              "    function maybeLoadScript(lib, version) {\n",
              "      var key = `${lib.replace(\"-\", \"\")}_version`;\n",
              "      return (VEGA_DEBUG[key] == version) ?\n",
              "        Promise.resolve(paths[lib]) :\n",
              "        new Promise(function(resolve, reject) {\n",
              "          var s = document.createElement('script');\n",
              "          document.getElementsByTagName(\"head\")[0].appendChild(s);\n",
              "          s.async = true;\n",
              "          s.onload = () => {\n",
              "            VEGA_DEBUG[key] = version;\n",
              "            return resolve(paths[lib]);\n",
              "          };\n",
              "          s.onerror = () => reject(`Error loading script: ${paths[lib]}`);\n",
              "          s.src = paths[lib];\n",
              "        });\n",
              "    }\n",
              "\n",
              "    function showError(err) {\n",
              "      outputDiv.innerHTML = `<div class=\"error\" style=\"color:red;\">${err}</div>`;\n",
              "      throw err;\n",
              "    }\n",
              "\n",
              "    function displayChart(vegaEmbed) {\n",
              "      vegaEmbed(outputDiv, spec, embedOpt)\n",
              "        .catch(err => showError(`Javascript Error: ${err.message}<br>This usually means there's a typo in your chart specification. See the javascript console for the full traceback.`));\n",
              "    }\n",
              "\n",
              "    if(typeof define === \"function\" && define.amd) {\n",
              "      requirejs.config({paths});\n",
              "      require([\"vega-embed\"], displayChart, err => showError(`Error loading script: ${err.message}`));\n",
              "    } else {\n",
              "      maybeLoadScript(\"vega\", \"5\")\n",
              "        .then(() => maybeLoadScript(\"vega-lite\", \"4.17.0\"))\n",
              "        .then(() => maybeLoadScript(\"vega-embed\", \"6\"))\n",
              "        .catch(showError)\n",
              "        .then(() => displayChart(vegaEmbed));\n",
              "    }\n",
              "  })({\"config\": {\"view\": {\"continuousWidth\": 400, \"continuousHeight\": 300}}, \"data\": {\"name\": \"data-131a47cd570fb7d24b7988a96d06887f\"}, \"mark\": \"boxplot\", \"encoding\": {\"y\": {\"field\": \"Life expectancy\", \"title\": \"Life expectancy\", \"type\": \"quantitative\"}}, \"height\": 300, \"title\": \"Box Plot of Life expectancy\", \"width\": 400, \"$schema\": \"https://vega.github.io/schema/vega-lite/v4.17.0.json\", \"datasets\": {\"data-131a47cd570fb7d24b7988a96d06887f\": [{\"Country\": \"Burundi\", \"Year\": 2015, \"Status\": \"Developing\", \"Life expectancy\": 59.6, \"Adult mortality\": 288.0, \"Infant deaths\": 21, \"Under-five deaths\": 31, \"Population\": 119927.0, \"Schooling\": 10.6}, {\"Country\": \"Burundi\", \"Year\": 2014, \"Status\": \"Developing\", \"Life expectancy\": 59.1, \"Adult mortality\": 297.0, \"Infant deaths\": 22, \"Under-five deaths\": 32, \"Population\": 989179.0, \"Schooling\": 10.6}, {\"Country\": \"Burundi\", \"Year\": 2013, \"Status\": \"Developing\", \"Life expectancy\": 58.6, \"Adult mortality\": 33.0, \"Infant deaths\": 22, \"Under-five deaths\": 32, \"Population\": 96186.0, \"Schooling\": 10.5}, {\"Country\": \"Burundi\", \"Year\": 2012, \"Status\": \"Developing\", \"Life expectancy\": 58.0, \"Adult mortality\": 312.0, \"Infant deaths\": 22, \"Under-five deaths\": 33, \"Population\": 931971.0, \"Schooling\": 10.3}, {\"Country\": \"Burundi\", \"Year\": 2011, \"Status\": \"Developing\", \"Life expectancy\": 57.4, \"Adult mortality\": 321.0, \"Infant deaths\": 22, \"Under-five deaths\": 33, \"Population\": 94358.0, \"Schooling\": 9.9}, {\"Country\": \"Burundi\", \"Year\": 2010, \"Status\": \"Developing\", \"Life expectancy\": 56.8, \"Adult mortality\": 33.0, \"Infant deaths\": 23, \"Under-five deaths\": 34, \"Population\": 876693.0, \"Schooling\": 9.3}, {\"Country\": \"Burundi\", \"Year\": 2009, \"Status\": \"Developing\", \"Life expectancy\": 56.2, \"Adult mortality\": 338.0, \"Infant deaths\": 23, \"Under-five deaths\": 34, \"Population\": 848931.0, \"Schooling\": 8.6}, {\"Country\": \"Burundi\", \"Year\": 2008, \"Status\": \"Developing\", \"Life expectancy\": 55.3, \"Adult mortality\": 35.0, \"Infant deaths\": 23, \"Under-five deaths\": 35, \"Population\": 8212264.0, \"Schooling\": 7.9}, {\"Country\": \"Burundi\", \"Year\": 2007, \"Status\": \"Developing\", \"Life expectancy\": 54.8, \"Adult mortality\": 355.0, \"Infant deaths\": 24, \"Under-five deaths\": 36, \"Population\": 7939573.0, \"Schooling\": 7.2}, {\"Country\": \"Burundi\", \"Year\": 2006, \"Status\": \"Developing\", \"Life expectancy\": 54.1, \"Adult mortality\": 361.0, \"Infant deaths\": 24, \"Under-five deaths\": 36, \"Population\": 7675338.0, \"Schooling\": 5.9}, {\"Country\": \"Burundi\", \"Year\": 2005, \"Status\": \"Developing\", \"Life expectancy\": 53.4, \"Adult mortality\": 369.0, \"Infant deaths\": 24, \"Under-five deaths\": 37, \"Population\": 7423289.0, \"Schooling\": 5.6}, {\"Country\": \"Burundi\", \"Year\": 2004, \"Status\": \"Developing\", \"Life expectancy\": 52.6, \"Adult mortality\": 378.0, \"Infant deaths\": 24, \"Under-five deaths\": 38, \"Population\": 7182451.0, \"Schooling\": 5.2}, {\"Country\": \"Burundi\", \"Year\": 2003, \"Status\": \"Developing\", \"Life expectancy\": 51.9, \"Adult mortality\": 387.0, \"Infant deaths\": 24, \"Under-five deaths\": 38, \"Population\": 6953113.0, \"Schooling\": 4.7}, {\"Country\": \"Burundi\", \"Year\": 2002, \"Status\": \"Developing\", \"Life expectancy\": 51.5, \"Adult mortality\": 387.0, \"Infant deaths\": 24, \"Under-five deaths\": 39, \"Population\": 6741569.0, \"Schooling\": 4.4}, {\"Country\": \"Burundi\", \"Year\": 2001, \"Status\": \"Developing\", \"Life expectancy\": 51.3, \"Adult mortality\": 385.0, \"Infant deaths\": 25, \"Under-five deaths\": 40, \"Population\": 6555829.0, \"Schooling\": 4.5}, {\"Country\": \"Burundi\", \"Year\": 2000, \"Status\": \"Developing\", \"Life expectancy\": 58.0, \"Adult mortality\": 386.0, \"Infant deaths\": 25, \"Under-five deaths\": 41, \"Population\": 6476.0, \"Schooling\": 4.5}]}}, {\"mode\": \"vega-lite\"});\n",
              "</script>"
            ],
            "text/plain": [
              "alt.Chart(...)"
            ]
          },
          "metadata": {}
        },
        {
          "output_type": "display_data",
          "data": {
            "text/html": [
              "\n",
              "<div id=\"altair-viz-cac985bbe38c4896bf89183471823235\"></div>\n",
              "<script type=\"text/javascript\">\n",
              "  var VEGA_DEBUG = (typeof VEGA_DEBUG == \"undefined\") ? {} : VEGA_DEBUG;\n",
              "  (function(spec, embedOpt){\n",
              "    let outputDiv = document.currentScript.previousElementSibling;\n",
              "    if (outputDiv.id !== \"altair-viz-cac985bbe38c4896bf89183471823235\") {\n",
              "      outputDiv = document.getElementById(\"altair-viz-cac985bbe38c4896bf89183471823235\");\n",
              "    }\n",
              "    const paths = {\n",
              "      \"vega\": \"https://cdn.jsdelivr.net/npm//vega@5?noext\",\n",
              "      \"vega-lib\": \"https://cdn.jsdelivr.net/npm//vega-lib?noext\",\n",
              "      \"vega-lite\": \"https://cdn.jsdelivr.net/npm//vega-lite@4.17.0?noext\",\n",
              "      \"vega-embed\": \"https://cdn.jsdelivr.net/npm//vega-embed@6?noext\",\n",
              "    };\n",
              "\n",
              "    function maybeLoadScript(lib, version) {\n",
              "      var key = `${lib.replace(\"-\", \"\")}_version`;\n",
              "      return (VEGA_DEBUG[key] == version) ?\n",
              "        Promise.resolve(paths[lib]) :\n",
              "        new Promise(function(resolve, reject) {\n",
              "          var s = document.createElement('script');\n",
              "          document.getElementsByTagName(\"head\")[0].appendChild(s);\n",
              "          s.async = true;\n",
              "          s.onload = () => {\n",
              "            VEGA_DEBUG[key] = version;\n",
              "            return resolve(paths[lib]);\n",
              "          };\n",
              "          s.onerror = () => reject(`Error loading script: ${paths[lib]}`);\n",
              "          s.src = paths[lib];\n",
              "        });\n",
              "    }\n",
              "\n",
              "    function showError(err) {\n",
              "      outputDiv.innerHTML = `<div class=\"error\" style=\"color:red;\">${err}</div>`;\n",
              "      throw err;\n",
              "    }\n",
              "\n",
              "    function displayChart(vegaEmbed) {\n",
              "      vegaEmbed(outputDiv, spec, embedOpt)\n",
              "        .catch(err => showError(`Javascript Error: ${err.message}<br>This usually means there's a typo in your chart specification. See the javascript console for the full traceback.`));\n",
              "    }\n",
              "\n",
              "    if(typeof define === \"function\" && define.amd) {\n",
              "      requirejs.config({paths});\n",
              "      require([\"vega-embed\"], displayChart, err => showError(`Error loading script: ${err.message}`));\n",
              "    } else {\n",
              "      maybeLoadScript(\"vega\", \"5\")\n",
              "        .then(() => maybeLoadScript(\"vega-lite\", \"4.17.0\"))\n",
              "        .then(() => maybeLoadScript(\"vega-embed\", \"6\"))\n",
              "        .catch(showError)\n",
              "        .then(() => displayChart(vegaEmbed));\n",
              "    }\n",
              "  })({\"config\": {\"view\": {\"continuousWidth\": 400, \"continuousHeight\": 300}}, \"data\": {\"name\": \"data-131a47cd570fb7d24b7988a96d06887f\"}, \"mark\": \"boxplot\", \"encoding\": {\"y\": {\"field\": \"Adult mortality\", \"title\": \"Adult mortality\", \"type\": \"quantitative\"}}, \"height\": 300, \"title\": \"Box Plot of Adult mortality\", \"width\": 400, \"$schema\": \"https://vega.github.io/schema/vega-lite/v4.17.0.json\", \"datasets\": {\"data-131a47cd570fb7d24b7988a96d06887f\": [{\"Country\": \"Burundi\", \"Year\": 2015, \"Status\": \"Developing\", \"Life expectancy\": 59.6, \"Adult mortality\": 288.0, \"Infant deaths\": 21, \"Under-five deaths\": 31, \"Population\": 119927.0, \"Schooling\": 10.6}, {\"Country\": \"Burundi\", \"Year\": 2014, \"Status\": \"Developing\", \"Life expectancy\": 59.1, \"Adult mortality\": 297.0, \"Infant deaths\": 22, \"Under-five deaths\": 32, \"Population\": 989179.0, \"Schooling\": 10.6}, {\"Country\": \"Burundi\", \"Year\": 2013, \"Status\": \"Developing\", \"Life expectancy\": 58.6, \"Adult mortality\": 33.0, \"Infant deaths\": 22, \"Under-five deaths\": 32, \"Population\": 96186.0, \"Schooling\": 10.5}, {\"Country\": \"Burundi\", \"Year\": 2012, \"Status\": \"Developing\", \"Life expectancy\": 58.0, \"Adult mortality\": 312.0, \"Infant deaths\": 22, \"Under-five deaths\": 33, \"Population\": 931971.0, \"Schooling\": 10.3}, {\"Country\": \"Burundi\", \"Year\": 2011, \"Status\": \"Developing\", \"Life expectancy\": 57.4, \"Adult mortality\": 321.0, \"Infant deaths\": 22, \"Under-five deaths\": 33, \"Population\": 94358.0, \"Schooling\": 9.9}, {\"Country\": \"Burundi\", \"Year\": 2010, \"Status\": \"Developing\", \"Life expectancy\": 56.8, \"Adult mortality\": 33.0, \"Infant deaths\": 23, \"Under-five deaths\": 34, \"Population\": 876693.0, \"Schooling\": 9.3}, {\"Country\": \"Burundi\", \"Year\": 2009, \"Status\": \"Developing\", \"Life expectancy\": 56.2, \"Adult mortality\": 338.0, \"Infant deaths\": 23, \"Under-five deaths\": 34, \"Population\": 848931.0, \"Schooling\": 8.6}, {\"Country\": \"Burundi\", \"Year\": 2008, \"Status\": \"Developing\", \"Life expectancy\": 55.3, \"Adult mortality\": 35.0, \"Infant deaths\": 23, \"Under-five deaths\": 35, \"Population\": 8212264.0, \"Schooling\": 7.9}, {\"Country\": \"Burundi\", \"Year\": 2007, \"Status\": \"Developing\", \"Life expectancy\": 54.8, \"Adult mortality\": 355.0, \"Infant deaths\": 24, \"Under-five deaths\": 36, \"Population\": 7939573.0, \"Schooling\": 7.2}, {\"Country\": \"Burundi\", \"Year\": 2006, \"Status\": \"Developing\", \"Life expectancy\": 54.1, \"Adult mortality\": 361.0, \"Infant deaths\": 24, \"Under-five deaths\": 36, \"Population\": 7675338.0, \"Schooling\": 5.9}, {\"Country\": \"Burundi\", \"Year\": 2005, \"Status\": \"Developing\", \"Life expectancy\": 53.4, \"Adult mortality\": 369.0, \"Infant deaths\": 24, \"Under-five deaths\": 37, \"Population\": 7423289.0, \"Schooling\": 5.6}, {\"Country\": \"Burundi\", \"Year\": 2004, \"Status\": \"Developing\", \"Life expectancy\": 52.6, \"Adult mortality\": 378.0, \"Infant deaths\": 24, \"Under-five deaths\": 38, \"Population\": 7182451.0, \"Schooling\": 5.2}, {\"Country\": \"Burundi\", \"Year\": 2003, \"Status\": \"Developing\", \"Life expectancy\": 51.9, \"Adult mortality\": 387.0, \"Infant deaths\": 24, \"Under-five deaths\": 38, \"Population\": 6953113.0, \"Schooling\": 4.7}, {\"Country\": \"Burundi\", \"Year\": 2002, \"Status\": \"Developing\", \"Life expectancy\": 51.5, \"Adult mortality\": 387.0, \"Infant deaths\": 24, \"Under-five deaths\": 39, \"Population\": 6741569.0, \"Schooling\": 4.4}, {\"Country\": \"Burundi\", \"Year\": 2001, \"Status\": \"Developing\", \"Life expectancy\": 51.3, \"Adult mortality\": 385.0, \"Infant deaths\": 25, \"Under-five deaths\": 40, \"Population\": 6555829.0, \"Schooling\": 4.5}, {\"Country\": \"Burundi\", \"Year\": 2000, \"Status\": \"Developing\", \"Life expectancy\": 58.0, \"Adult mortality\": 386.0, \"Infant deaths\": 25, \"Under-five deaths\": 41, \"Population\": 6476.0, \"Schooling\": 4.5}]}}, {\"mode\": \"vega-lite\"});\n",
              "</script>"
            ],
            "text/plain": [
              "alt.Chart(...)"
            ]
          },
          "metadata": {}
        },
        {
          "output_type": "display_data",
          "data": {
            "text/html": [
              "\n",
              "<div id=\"altair-viz-a916a4e4104c4d6b91ae3d8f89c15c5d\"></div>\n",
              "<script type=\"text/javascript\">\n",
              "  var VEGA_DEBUG = (typeof VEGA_DEBUG == \"undefined\") ? {} : VEGA_DEBUG;\n",
              "  (function(spec, embedOpt){\n",
              "    let outputDiv = document.currentScript.previousElementSibling;\n",
              "    if (outputDiv.id !== \"altair-viz-a916a4e4104c4d6b91ae3d8f89c15c5d\") {\n",
              "      outputDiv = document.getElementById(\"altair-viz-a916a4e4104c4d6b91ae3d8f89c15c5d\");\n",
              "    }\n",
              "    const paths = {\n",
              "      \"vega\": \"https://cdn.jsdelivr.net/npm//vega@5?noext\",\n",
              "      \"vega-lib\": \"https://cdn.jsdelivr.net/npm//vega-lib?noext\",\n",
              "      \"vega-lite\": \"https://cdn.jsdelivr.net/npm//vega-lite@4.17.0?noext\",\n",
              "      \"vega-embed\": \"https://cdn.jsdelivr.net/npm//vega-embed@6?noext\",\n",
              "    };\n",
              "\n",
              "    function maybeLoadScript(lib, version) {\n",
              "      var key = `${lib.replace(\"-\", \"\")}_version`;\n",
              "      return (VEGA_DEBUG[key] == version) ?\n",
              "        Promise.resolve(paths[lib]) :\n",
              "        new Promise(function(resolve, reject) {\n",
              "          var s = document.createElement('script');\n",
              "          document.getElementsByTagName(\"head\")[0].appendChild(s);\n",
              "          s.async = true;\n",
              "          s.onload = () => {\n",
              "            VEGA_DEBUG[key] = version;\n",
              "            return resolve(paths[lib]);\n",
              "          };\n",
              "          s.onerror = () => reject(`Error loading script: ${paths[lib]}`);\n",
              "          s.src = paths[lib];\n",
              "        });\n",
              "    }\n",
              "\n",
              "    function showError(err) {\n",
              "      outputDiv.innerHTML = `<div class=\"error\" style=\"color:red;\">${err}</div>`;\n",
              "      throw err;\n",
              "    }\n",
              "\n",
              "    function displayChart(vegaEmbed) {\n",
              "      vegaEmbed(outputDiv, spec, embedOpt)\n",
              "        .catch(err => showError(`Javascript Error: ${err.message}<br>This usually means there's a typo in your chart specification. See the javascript console for the full traceback.`));\n",
              "    }\n",
              "\n",
              "    if(typeof define === \"function\" && define.amd) {\n",
              "      requirejs.config({paths});\n",
              "      require([\"vega-embed\"], displayChart, err => showError(`Error loading script: ${err.message}`));\n",
              "    } else {\n",
              "      maybeLoadScript(\"vega\", \"5\")\n",
              "        .then(() => maybeLoadScript(\"vega-lite\", \"4.17.0\"))\n",
              "        .then(() => maybeLoadScript(\"vega-embed\", \"6\"))\n",
              "        .catch(showError)\n",
              "        .then(() => displayChart(vegaEmbed));\n",
              "    }\n",
              "  })({\"config\": {\"view\": {\"continuousWidth\": 400, \"continuousHeight\": 300}}, \"data\": {\"name\": \"data-131a47cd570fb7d24b7988a96d06887f\"}, \"mark\": \"boxplot\", \"encoding\": {\"y\": {\"field\": \"Infant deaths\", \"title\": \"Infant deaths\", \"type\": \"quantitative\"}}, \"height\": 300, \"title\": \"Box Plot of Infant deaths\", \"width\": 400, \"$schema\": \"https://vega.github.io/schema/vega-lite/v4.17.0.json\", \"datasets\": {\"data-131a47cd570fb7d24b7988a96d06887f\": [{\"Country\": \"Burundi\", \"Year\": 2015, \"Status\": \"Developing\", \"Life expectancy\": 59.6, \"Adult mortality\": 288.0, \"Infant deaths\": 21, \"Under-five deaths\": 31, \"Population\": 119927.0, \"Schooling\": 10.6}, {\"Country\": \"Burundi\", \"Year\": 2014, \"Status\": \"Developing\", \"Life expectancy\": 59.1, \"Adult mortality\": 297.0, \"Infant deaths\": 22, \"Under-five deaths\": 32, \"Population\": 989179.0, \"Schooling\": 10.6}, {\"Country\": \"Burundi\", \"Year\": 2013, \"Status\": \"Developing\", \"Life expectancy\": 58.6, \"Adult mortality\": 33.0, \"Infant deaths\": 22, \"Under-five deaths\": 32, \"Population\": 96186.0, \"Schooling\": 10.5}, {\"Country\": \"Burundi\", \"Year\": 2012, \"Status\": \"Developing\", \"Life expectancy\": 58.0, \"Adult mortality\": 312.0, \"Infant deaths\": 22, \"Under-five deaths\": 33, \"Population\": 931971.0, \"Schooling\": 10.3}, {\"Country\": \"Burundi\", \"Year\": 2011, \"Status\": \"Developing\", \"Life expectancy\": 57.4, \"Adult mortality\": 321.0, \"Infant deaths\": 22, \"Under-five deaths\": 33, \"Population\": 94358.0, \"Schooling\": 9.9}, {\"Country\": \"Burundi\", \"Year\": 2010, \"Status\": \"Developing\", \"Life expectancy\": 56.8, \"Adult mortality\": 33.0, \"Infant deaths\": 23, \"Under-five deaths\": 34, \"Population\": 876693.0, \"Schooling\": 9.3}, {\"Country\": \"Burundi\", \"Year\": 2009, \"Status\": \"Developing\", \"Life expectancy\": 56.2, \"Adult mortality\": 338.0, \"Infant deaths\": 23, \"Under-five deaths\": 34, \"Population\": 848931.0, \"Schooling\": 8.6}, {\"Country\": \"Burundi\", \"Year\": 2008, \"Status\": \"Developing\", \"Life expectancy\": 55.3, \"Adult mortality\": 35.0, \"Infant deaths\": 23, \"Under-five deaths\": 35, \"Population\": 8212264.0, \"Schooling\": 7.9}, {\"Country\": \"Burundi\", \"Year\": 2007, \"Status\": \"Developing\", \"Life expectancy\": 54.8, \"Adult mortality\": 355.0, \"Infant deaths\": 24, \"Under-five deaths\": 36, \"Population\": 7939573.0, \"Schooling\": 7.2}, {\"Country\": \"Burundi\", \"Year\": 2006, \"Status\": \"Developing\", \"Life expectancy\": 54.1, \"Adult mortality\": 361.0, \"Infant deaths\": 24, \"Under-five deaths\": 36, \"Population\": 7675338.0, \"Schooling\": 5.9}, {\"Country\": \"Burundi\", \"Year\": 2005, \"Status\": \"Developing\", \"Life expectancy\": 53.4, \"Adult mortality\": 369.0, \"Infant deaths\": 24, \"Under-five deaths\": 37, \"Population\": 7423289.0, \"Schooling\": 5.6}, {\"Country\": \"Burundi\", \"Year\": 2004, \"Status\": \"Developing\", \"Life expectancy\": 52.6, \"Adult mortality\": 378.0, \"Infant deaths\": 24, \"Under-five deaths\": 38, \"Population\": 7182451.0, \"Schooling\": 5.2}, {\"Country\": \"Burundi\", \"Year\": 2003, \"Status\": \"Developing\", \"Life expectancy\": 51.9, \"Adult mortality\": 387.0, \"Infant deaths\": 24, \"Under-five deaths\": 38, \"Population\": 6953113.0, \"Schooling\": 4.7}, {\"Country\": \"Burundi\", \"Year\": 2002, \"Status\": \"Developing\", \"Life expectancy\": 51.5, \"Adult mortality\": 387.0, \"Infant deaths\": 24, \"Under-five deaths\": 39, \"Population\": 6741569.0, \"Schooling\": 4.4}, {\"Country\": \"Burundi\", \"Year\": 2001, \"Status\": \"Developing\", \"Life expectancy\": 51.3, \"Adult mortality\": 385.0, \"Infant deaths\": 25, \"Under-five deaths\": 40, \"Population\": 6555829.0, \"Schooling\": 4.5}, {\"Country\": \"Burundi\", \"Year\": 2000, \"Status\": \"Developing\", \"Life expectancy\": 58.0, \"Adult mortality\": 386.0, \"Infant deaths\": 25, \"Under-five deaths\": 41, \"Population\": 6476.0, \"Schooling\": 4.5}]}}, {\"mode\": \"vega-lite\"});\n",
              "</script>"
            ],
            "text/plain": [
              "alt.Chart(...)"
            ]
          },
          "metadata": {}
        },
        {
          "output_type": "display_data",
          "data": {
            "text/html": [
              "\n",
              "<div id=\"altair-viz-778dbe3d66774ef583b540c2514590ee\"></div>\n",
              "<script type=\"text/javascript\">\n",
              "  var VEGA_DEBUG = (typeof VEGA_DEBUG == \"undefined\") ? {} : VEGA_DEBUG;\n",
              "  (function(spec, embedOpt){\n",
              "    let outputDiv = document.currentScript.previousElementSibling;\n",
              "    if (outputDiv.id !== \"altair-viz-778dbe3d66774ef583b540c2514590ee\") {\n",
              "      outputDiv = document.getElementById(\"altair-viz-778dbe3d66774ef583b540c2514590ee\");\n",
              "    }\n",
              "    const paths = {\n",
              "      \"vega\": \"https://cdn.jsdelivr.net/npm//vega@5?noext\",\n",
              "      \"vega-lib\": \"https://cdn.jsdelivr.net/npm//vega-lib?noext\",\n",
              "      \"vega-lite\": \"https://cdn.jsdelivr.net/npm//vega-lite@4.17.0?noext\",\n",
              "      \"vega-embed\": \"https://cdn.jsdelivr.net/npm//vega-embed@6?noext\",\n",
              "    };\n",
              "\n",
              "    function maybeLoadScript(lib, version) {\n",
              "      var key = `${lib.replace(\"-\", \"\")}_version`;\n",
              "      return (VEGA_DEBUG[key] == version) ?\n",
              "        Promise.resolve(paths[lib]) :\n",
              "        new Promise(function(resolve, reject) {\n",
              "          var s = document.createElement('script');\n",
              "          document.getElementsByTagName(\"head\")[0].appendChild(s);\n",
              "          s.async = true;\n",
              "          s.onload = () => {\n",
              "            VEGA_DEBUG[key] = version;\n",
              "            return resolve(paths[lib]);\n",
              "          };\n",
              "          s.onerror = () => reject(`Error loading script: ${paths[lib]}`);\n",
              "          s.src = paths[lib];\n",
              "        });\n",
              "    }\n",
              "\n",
              "    function showError(err) {\n",
              "      outputDiv.innerHTML = `<div class=\"error\" style=\"color:red;\">${err}</div>`;\n",
              "      throw err;\n",
              "    }\n",
              "\n",
              "    function displayChart(vegaEmbed) {\n",
              "      vegaEmbed(outputDiv, spec, embedOpt)\n",
              "        .catch(err => showError(`Javascript Error: ${err.message}<br>This usually means there's a typo in your chart specification. See the javascript console for the full traceback.`));\n",
              "    }\n",
              "\n",
              "    if(typeof define === \"function\" && define.amd) {\n",
              "      requirejs.config({paths});\n",
              "      require([\"vega-embed\"], displayChart, err => showError(`Error loading script: ${err.message}`));\n",
              "    } else {\n",
              "      maybeLoadScript(\"vega\", \"5\")\n",
              "        .then(() => maybeLoadScript(\"vega-lite\", \"4.17.0\"))\n",
              "        .then(() => maybeLoadScript(\"vega-embed\", \"6\"))\n",
              "        .catch(showError)\n",
              "        .then(() => displayChart(vegaEmbed));\n",
              "    }\n",
              "  })({\"config\": {\"view\": {\"continuousWidth\": 400, \"continuousHeight\": 300}}, \"data\": {\"name\": \"data-131a47cd570fb7d24b7988a96d06887f\"}, \"mark\": \"boxplot\", \"encoding\": {\"y\": {\"field\": \"Under-five deaths\", \"title\": \"Under-five deaths\", \"type\": \"quantitative\"}}, \"height\": 300, \"title\": \"Box Plot of Under-five deaths\", \"width\": 400, \"$schema\": \"https://vega.github.io/schema/vega-lite/v4.17.0.json\", \"datasets\": {\"data-131a47cd570fb7d24b7988a96d06887f\": [{\"Country\": \"Burundi\", \"Year\": 2015, \"Status\": \"Developing\", \"Life expectancy\": 59.6, \"Adult mortality\": 288.0, \"Infant deaths\": 21, \"Under-five deaths\": 31, \"Population\": 119927.0, \"Schooling\": 10.6}, {\"Country\": \"Burundi\", \"Year\": 2014, \"Status\": \"Developing\", \"Life expectancy\": 59.1, \"Adult mortality\": 297.0, \"Infant deaths\": 22, \"Under-five deaths\": 32, \"Population\": 989179.0, \"Schooling\": 10.6}, {\"Country\": \"Burundi\", \"Year\": 2013, \"Status\": \"Developing\", \"Life expectancy\": 58.6, \"Adult mortality\": 33.0, \"Infant deaths\": 22, \"Under-five deaths\": 32, \"Population\": 96186.0, \"Schooling\": 10.5}, {\"Country\": \"Burundi\", \"Year\": 2012, \"Status\": \"Developing\", \"Life expectancy\": 58.0, \"Adult mortality\": 312.0, \"Infant deaths\": 22, \"Under-five deaths\": 33, \"Population\": 931971.0, \"Schooling\": 10.3}, {\"Country\": \"Burundi\", \"Year\": 2011, \"Status\": \"Developing\", \"Life expectancy\": 57.4, \"Adult mortality\": 321.0, \"Infant deaths\": 22, \"Under-five deaths\": 33, \"Population\": 94358.0, \"Schooling\": 9.9}, {\"Country\": \"Burundi\", \"Year\": 2010, \"Status\": \"Developing\", \"Life expectancy\": 56.8, \"Adult mortality\": 33.0, \"Infant deaths\": 23, \"Under-five deaths\": 34, \"Population\": 876693.0, \"Schooling\": 9.3}, {\"Country\": \"Burundi\", \"Year\": 2009, \"Status\": \"Developing\", \"Life expectancy\": 56.2, \"Adult mortality\": 338.0, \"Infant deaths\": 23, \"Under-five deaths\": 34, \"Population\": 848931.0, \"Schooling\": 8.6}, {\"Country\": \"Burundi\", \"Year\": 2008, \"Status\": \"Developing\", \"Life expectancy\": 55.3, \"Adult mortality\": 35.0, \"Infant deaths\": 23, \"Under-five deaths\": 35, \"Population\": 8212264.0, \"Schooling\": 7.9}, {\"Country\": \"Burundi\", \"Year\": 2007, \"Status\": \"Developing\", \"Life expectancy\": 54.8, \"Adult mortality\": 355.0, \"Infant deaths\": 24, \"Under-five deaths\": 36, \"Population\": 7939573.0, \"Schooling\": 7.2}, {\"Country\": \"Burundi\", \"Year\": 2006, \"Status\": \"Developing\", \"Life expectancy\": 54.1, \"Adult mortality\": 361.0, \"Infant deaths\": 24, \"Under-five deaths\": 36, \"Population\": 7675338.0, \"Schooling\": 5.9}, {\"Country\": \"Burundi\", \"Year\": 2005, \"Status\": \"Developing\", \"Life expectancy\": 53.4, \"Adult mortality\": 369.0, \"Infant deaths\": 24, \"Under-five deaths\": 37, \"Population\": 7423289.0, \"Schooling\": 5.6}, {\"Country\": \"Burundi\", \"Year\": 2004, \"Status\": \"Developing\", \"Life expectancy\": 52.6, \"Adult mortality\": 378.0, \"Infant deaths\": 24, \"Under-five deaths\": 38, \"Population\": 7182451.0, \"Schooling\": 5.2}, {\"Country\": \"Burundi\", \"Year\": 2003, \"Status\": \"Developing\", \"Life expectancy\": 51.9, \"Adult mortality\": 387.0, \"Infant deaths\": 24, \"Under-five deaths\": 38, \"Population\": 6953113.0, \"Schooling\": 4.7}, {\"Country\": \"Burundi\", \"Year\": 2002, \"Status\": \"Developing\", \"Life expectancy\": 51.5, \"Adult mortality\": 387.0, \"Infant deaths\": 24, \"Under-five deaths\": 39, \"Population\": 6741569.0, \"Schooling\": 4.4}, {\"Country\": \"Burundi\", \"Year\": 2001, \"Status\": \"Developing\", \"Life expectancy\": 51.3, \"Adult mortality\": 385.0, \"Infant deaths\": 25, \"Under-five deaths\": 40, \"Population\": 6555829.0, \"Schooling\": 4.5}, {\"Country\": \"Burundi\", \"Year\": 2000, \"Status\": \"Developing\", \"Life expectancy\": 58.0, \"Adult mortality\": 386.0, \"Infant deaths\": 25, \"Under-five deaths\": 41, \"Population\": 6476.0, \"Schooling\": 4.5}]}}, {\"mode\": \"vega-lite\"});\n",
              "</script>"
            ],
            "text/plain": [
              "alt.Chart(...)"
            ]
          },
          "metadata": {}
        },
        {
          "output_type": "display_data",
          "data": {
            "text/html": [
              "\n",
              "<div id=\"altair-viz-1190cc7831fb490d900d0dc853297663\"></div>\n",
              "<script type=\"text/javascript\">\n",
              "  var VEGA_DEBUG = (typeof VEGA_DEBUG == \"undefined\") ? {} : VEGA_DEBUG;\n",
              "  (function(spec, embedOpt){\n",
              "    let outputDiv = document.currentScript.previousElementSibling;\n",
              "    if (outputDiv.id !== \"altair-viz-1190cc7831fb490d900d0dc853297663\") {\n",
              "      outputDiv = document.getElementById(\"altair-viz-1190cc7831fb490d900d0dc853297663\");\n",
              "    }\n",
              "    const paths = {\n",
              "      \"vega\": \"https://cdn.jsdelivr.net/npm//vega@5?noext\",\n",
              "      \"vega-lib\": \"https://cdn.jsdelivr.net/npm//vega-lib?noext\",\n",
              "      \"vega-lite\": \"https://cdn.jsdelivr.net/npm//vega-lite@4.17.0?noext\",\n",
              "      \"vega-embed\": \"https://cdn.jsdelivr.net/npm//vega-embed@6?noext\",\n",
              "    };\n",
              "\n",
              "    function maybeLoadScript(lib, version) {\n",
              "      var key = `${lib.replace(\"-\", \"\")}_version`;\n",
              "      return (VEGA_DEBUG[key] == version) ?\n",
              "        Promise.resolve(paths[lib]) :\n",
              "        new Promise(function(resolve, reject) {\n",
              "          var s = document.createElement('script');\n",
              "          document.getElementsByTagName(\"head\")[0].appendChild(s);\n",
              "          s.async = true;\n",
              "          s.onload = () => {\n",
              "            VEGA_DEBUG[key] = version;\n",
              "            return resolve(paths[lib]);\n",
              "          };\n",
              "          s.onerror = () => reject(`Error loading script: ${paths[lib]}`);\n",
              "          s.src = paths[lib];\n",
              "        });\n",
              "    }\n",
              "\n",
              "    function showError(err) {\n",
              "      outputDiv.innerHTML = `<div class=\"error\" style=\"color:red;\">${err}</div>`;\n",
              "      throw err;\n",
              "    }\n",
              "\n",
              "    function displayChart(vegaEmbed) {\n",
              "      vegaEmbed(outputDiv, spec, embedOpt)\n",
              "        .catch(err => showError(`Javascript Error: ${err.message}<br>This usually means there's a typo in your chart specification. See the javascript console for the full traceback.`));\n",
              "    }\n",
              "\n",
              "    if(typeof define === \"function\" && define.amd) {\n",
              "      requirejs.config({paths});\n",
              "      require([\"vega-embed\"], displayChart, err => showError(`Error loading script: ${err.message}`));\n",
              "    } else {\n",
              "      maybeLoadScript(\"vega\", \"5\")\n",
              "        .then(() => maybeLoadScript(\"vega-lite\", \"4.17.0\"))\n",
              "        .then(() => maybeLoadScript(\"vega-embed\", \"6\"))\n",
              "        .catch(showError)\n",
              "        .then(() => displayChart(vegaEmbed));\n",
              "    }\n",
              "  })({\"config\": {\"view\": {\"continuousWidth\": 400, \"continuousHeight\": 300}}, \"data\": {\"name\": \"data-131a47cd570fb7d24b7988a96d06887f\"}, \"mark\": \"boxplot\", \"encoding\": {\"y\": {\"field\": \"Population\", \"title\": \"Population\", \"type\": \"quantitative\"}}, \"height\": 300, \"title\": \"Box Plot of Population\", \"width\": 400, \"$schema\": \"https://vega.github.io/schema/vega-lite/v4.17.0.json\", \"datasets\": {\"data-131a47cd570fb7d24b7988a96d06887f\": [{\"Country\": \"Burundi\", \"Year\": 2015, \"Status\": \"Developing\", \"Life expectancy\": 59.6, \"Adult mortality\": 288.0, \"Infant deaths\": 21, \"Under-five deaths\": 31, \"Population\": 119927.0, \"Schooling\": 10.6}, {\"Country\": \"Burundi\", \"Year\": 2014, \"Status\": \"Developing\", \"Life expectancy\": 59.1, \"Adult mortality\": 297.0, \"Infant deaths\": 22, \"Under-five deaths\": 32, \"Population\": 989179.0, \"Schooling\": 10.6}, {\"Country\": \"Burundi\", \"Year\": 2013, \"Status\": \"Developing\", \"Life expectancy\": 58.6, \"Adult mortality\": 33.0, \"Infant deaths\": 22, \"Under-five deaths\": 32, \"Population\": 96186.0, \"Schooling\": 10.5}, {\"Country\": \"Burundi\", \"Year\": 2012, \"Status\": \"Developing\", \"Life expectancy\": 58.0, \"Adult mortality\": 312.0, \"Infant deaths\": 22, \"Under-five deaths\": 33, \"Population\": 931971.0, \"Schooling\": 10.3}, {\"Country\": \"Burundi\", \"Year\": 2011, \"Status\": \"Developing\", \"Life expectancy\": 57.4, \"Adult mortality\": 321.0, \"Infant deaths\": 22, \"Under-five deaths\": 33, \"Population\": 94358.0, \"Schooling\": 9.9}, {\"Country\": \"Burundi\", \"Year\": 2010, \"Status\": \"Developing\", \"Life expectancy\": 56.8, \"Adult mortality\": 33.0, \"Infant deaths\": 23, \"Under-five deaths\": 34, \"Population\": 876693.0, \"Schooling\": 9.3}, {\"Country\": \"Burundi\", \"Year\": 2009, \"Status\": \"Developing\", \"Life expectancy\": 56.2, \"Adult mortality\": 338.0, \"Infant deaths\": 23, \"Under-five deaths\": 34, \"Population\": 848931.0, \"Schooling\": 8.6}, {\"Country\": \"Burundi\", \"Year\": 2008, \"Status\": \"Developing\", \"Life expectancy\": 55.3, \"Adult mortality\": 35.0, \"Infant deaths\": 23, \"Under-five deaths\": 35, \"Population\": 8212264.0, \"Schooling\": 7.9}, {\"Country\": \"Burundi\", \"Year\": 2007, \"Status\": \"Developing\", \"Life expectancy\": 54.8, \"Adult mortality\": 355.0, \"Infant deaths\": 24, \"Under-five deaths\": 36, \"Population\": 7939573.0, \"Schooling\": 7.2}, {\"Country\": \"Burundi\", \"Year\": 2006, \"Status\": \"Developing\", \"Life expectancy\": 54.1, \"Adult mortality\": 361.0, \"Infant deaths\": 24, \"Under-five deaths\": 36, \"Population\": 7675338.0, \"Schooling\": 5.9}, {\"Country\": \"Burundi\", \"Year\": 2005, \"Status\": \"Developing\", \"Life expectancy\": 53.4, \"Adult mortality\": 369.0, \"Infant deaths\": 24, \"Under-five deaths\": 37, \"Population\": 7423289.0, \"Schooling\": 5.6}, {\"Country\": \"Burundi\", \"Year\": 2004, \"Status\": \"Developing\", \"Life expectancy\": 52.6, \"Adult mortality\": 378.0, \"Infant deaths\": 24, \"Under-five deaths\": 38, \"Population\": 7182451.0, \"Schooling\": 5.2}, {\"Country\": \"Burundi\", \"Year\": 2003, \"Status\": \"Developing\", \"Life expectancy\": 51.9, \"Adult mortality\": 387.0, \"Infant deaths\": 24, \"Under-five deaths\": 38, \"Population\": 6953113.0, \"Schooling\": 4.7}, {\"Country\": \"Burundi\", \"Year\": 2002, \"Status\": \"Developing\", \"Life expectancy\": 51.5, \"Adult mortality\": 387.0, \"Infant deaths\": 24, \"Under-five deaths\": 39, \"Population\": 6741569.0, \"Schooling\": 4.4}, {\"Country\": \"Burundi\", \"Year\": 2001, \"Status\": \"Developing\", \"Life expectancy\": 51.3, \"Adult mortality\": 385.0, \"Infant deaths\": 25, \"Under-five deaths\": 40, \"Population\": 6555829.0, \"Schooling\": 4.5}, {\"Country\": \"Burundi\", \"Year\": 2000, \"Status\": \"Developing\", \"Life expectancy\": 58.0, \"Adult mortality\": 386.0, \"Infant deaths\": 25, \"Under-five deaths\": 41, \"Population\": 6476.0, \"Schooling\": 4.5}]}}, {\"mode\": \"vega-lite\"});\n",
              "</script>"
            ],
            "text/plain": [
              "alt.Chart(...)"
            ]
          },
          "metadata": {}
        },
        {
          "output_type": "display_data",
          "data": {
            "text/html": [
              "\n",
              "<div id=\"altair-viz-18ef9d4a2bc24e668c1a1a81152b41fb\"></div>\n",
              "<script type=\"text/javascript\">\n",
              "  var VEGA_DEBUG = (typeof VEGA_DEBUG == \"undefined\") ? {} : VEGA_DEBUG;\n",
              "  (function(spec, embedOpt){\n",
              "    let outputDiv = document.currentScript.previousElementSibling;\n",
              "    if (outputDiv.id !== \"altair-viz-18ef9d4a2bc24e668c1a1a81152b41fb\") {\n",
              "      outputDiv = document.getElementById(\"altair-viz-18ef9d4a2bc24e668c1a1a81152b41fb\");\n",
              "    }\n",
              "    const paths = {\n",
              "      \"vega\": \"https://cdn.jsdelivr.net/npm//vega@5?noext\",\n",
              "      \"vega-lib\": \"https://cdn.jsdelivr.net/npm//vega-lib?noext\",\n",
              "      \"vega-lite\": \"https://cdn.jsdelivr.net/npm//vega-lite@4.17.0?noext\",\n",
              "      \"vega-embed\": \"https://cdn.jsdelivr.net/npm//vega-embed@6?noext\",\n",
              "    };\n",
              "\n",
              "    function maybeLoadScript(lib, version) {\n",
              "      var key = `${lib.replace(\"-\", \"\")}_version`;\n",
              "      return (VEGA_DEBUG[key] == version) ?\n",
              "        Promise.resolve(paths[lib]) :\n",
              "        new Promise(function(resolve, reject) {\n",
              "          var s = document.createElement('script');\n",
              "          document.getElementsByTagName(\"head\")[0].appendChild(s);\n",
              "          s.async = true;\n",
              "          s.onload = () => {\n",
              "            VEGA_DEBUG[key] = version;\n",
              "            return resolve(paths[lib]);\n",
              "          };\n",
              "          s.onerror = () => reject(`Error loading script: ${paths[lib]}`);\n",
              "          s.src = paths[lib];\n",
              "        });\n",
              "    }\n",
              "\n",
              "    function showError(err) {\n",
              "      outputDiv.innerHTML = `<div class=\"error\" style=\"color:red;\">${err}</div>`;\n",
              "      throw err;\n",
              "    }\n",
              "\n",
              "    function displayChart(vegaEmbed) {\n",
              "      vegaEmbed(outputDiv, spec, embedOpt)\n",
              "        .catch(err => showError(`Javascript Error: ${err.message}<br>This usually means there's a typo in your chart specification. See the javascript console for the full traceback.`));\n",
              "    }\n",
              "\n",
              "    if(typeof define === \"function\" && define.amd) {\n",
              "      requirejs.config({paths});\n",
              "      require([\"vega-embed\"], displayChart, err => showError(`Error loading script: ${err.message}`));\n",
              "    } else {\n",
              "      maybeLoadScript(\"vega\", \"5\")\n",
              "        .then(() => maybeLoadScript(\"vega-lite\", \"4.17.0\"))\n",
              "        .then(() => maybeLoadScript(\"vega-embed\", \"6\"))\n",
              "        .catch(showError)\n",
              "        .then(() => displayChart(vegaEmbed));\n",
              "    }\n",
              "  })({\"config\": {\"view\": {\"continuousWidth\": 400, \"continuousHeight\": 300}}, \"data\": {\"name\": \"data-131a47cd570fb7d24b7988a96d06887f\"}, \"mark\": \"boxplot\", \"encoding\": {\"y\": {\"field\": \"Schooling\", \"title\": \"Schooling\", \"type\": \"quantitative\"}}, \"height\": 300, \"title\": \"Box Plot of Schooling\", \"width\": 400, \"$schema\": \"https://vega.github.io/schema/vega-lite/v4.17.0.json\", \"datasets\": {\"data-131a47cd570fb7d24b7988a96d06887f\": [{\"Country\": \"Burundi\", \"Year\": 2015, \"Status\": \"Developing\", \"Life expectancy\": 59.6, \"Adult mortality\": 288.0, \"Infant deaths\": 21, \"Under-five deaths\": 31, \"Population\": 119927.0, \"Schooling\": 10.6}, {\"Country\": \"Burundi\", \"Year\": 2014, \"Status\": \"Developing\", \"Life expectancy\": 59.1, \"Adult mortality\": 297.0, \"Infant deaths\": 22, \"Under-five deaths\": 32, \"Population\": 989179.0, \"Schooling\": 10.6}, {\"Country\": \"Burundi\", \"Year\": 2013, \"Status\": \"Developing\", \"Life expectancy\": 58.6, \"Adult mortality\": 33.0, \"Infant deaths\": 22, \"Under-five deaths\": 32, \"Population\": 96186.0, \"Schooling\": 10.5}, {\"Country\": \"Burundi\", \"Year\": 2012, \"Status\": \"Developing\", \"Life expectancy\": 58.0, \"Adult mortality\": 312.0, \"Infant deaths\": 22, \"Under-five deaths\": 33, \"Population\": 931971.0, \"Schooling\": 10.3}, {\"Country\": \"Burundi\", \"Year\": 2011, \"Status\": \"Developing\", \"Life expectancy\": 57.4, \"Adult mortality\": 321.0, \"Infant deaths\": 22, \"Under-five deaths\": 33, \"Population\": 94358.0, \"Schooling\": 9.9}, {\"Country\": \"Burundi\", \"Year\": 2010, \"Status\": \"Developing\", \"Life expectancy\": 56.8, \"Adult mortality\": 33.0, \"Infant deaths\": 23, \"Under-five deaths\": 34, \"Population\": 876693.0, \"Schooling\": 9.3}, {\"Country\": \"Burundi\", \"Year\": 2009, \"Status\": \"Developing\", \"Life expectancy\": 56.2, \"Adult mortality\": 338.0, \"Infant deaths\": 23, \"Under-five deaths\": 34, \"Population\": 848931.0, \"Schooling\": 8.6}, {\"Country\": \"Burundi\", \"Year\": 2008, \"Status\": \"Developing\", \"Life expectancy\": 55.3, \"Adult mortality\": 35.0, \"Infant deaths\": 23, \"Under-five deaths\": 35, \"Population\": 8212264.0, \"Schooling\": 7.9}, {\"Country\": \"Burundi\", \"Year\": 2007, \"Status\": \"Developing\", \"Life expectancy\": 54.8, \"Adult mortality\": 355.0, \"Infant deaths\": 24, \"Under-five deaths\": 36, \"Population\": 7939573.0, \"Schooling\": 7.2}, {\"Country\": \"Burundi\", \"Year\": 2006, \"Status\": \"Developing\", \"Life expectancy\": 54.1, \"Adult mortality\": 361.0, \"Infant deaths\": 24, \"Under-five deaths\": 36, \"Population\": 7675338.0, \"Schooling\": 5.9}, {\"Country\": \"Burundi\", \"Year\": 2005, \"Status\": \"Developing\", \"Life expectancy\": 53.4, \"Adult mortality\": 369.0, \"Infant deaths\": 24, \"Under-five deaths\": 37, \"Population\": 7423289.0, \"Schooling\": 5.6}, {\"Country\": \"Burundi\", \"Year\": 2004, \"Status\": \"Developing\", \"Life expectancy\": 52.6, \"Adult mortality\": 378.0, \"Infant deaths\": 24, \"Under-five deaths\": 38, \"Population\": 7182451.0, \"Schooling\": 5.2}, {\"Country\": \"Burundi\", \"Year\": 2003, \"Status\": \"Developing\", \"Life expectancy\": 51.9, \"Adult mortality\": 387.0, \"Infant deaths\": 24, \"Under-five deaths\": 38, \"Population\": 6953113.0, \"Schooling\": 4.7}, {\"Country\": \"Burundi\", \"Year\": 2002, \"Status\": \"Developing\", \"Life expectancy\": 51.5, \"Adult mortality\": 387.0, \"Infant deaths\": 24, \"Under-five deaths\": 39, \"Population\": 6741569.0, \"Schooling\": 4.4}, {\"Country\": \"Burundi\", \"Year\": 2001, \"Status\": \"Developing\", \"Life expectancy\": 51.3, \"Adult mortality\": 385.0, \"Infant deaths\": 25, \"Under-five deaths\": 40, \"Population\": 6555829.0, \"Schooling\": 4.5}, {\"Country\": \"Burundi\", \"Year\": 2000, \"Status\": \"Developing\", \"Life expectancy\": 58.0, \"Adult mortality\": 386.0, \"Infant deaths\": 25, \"Under-five deaths\": 41, \"Population\": 6476.0, \"Schooling\": 4.5}]}}, {\"mode\": \"vega-lite\"});\n",
              "</script>"
            ],
            "text/plain": [
              "alt.Chart(...)"
            ]
          },
          "metadata": {}
        }
      ]
    },
    {
      "cell_type": "code",
      "source": [
        "# editing illogical values for Adult Mortality in Burundi\n",
        "Change_Adult_mortality = subset_Burundi.loc[subset_Burundi['Adult mortality'] == 33.0, 'Adult mortality'] = 330.0\n",
        "Change_Adult_Mortality = subset_Burundi.loc[subset_Burundi['Adult mortality'] == 35.0, 'Adult mortality'] = 350.0\n",
        "Remove_integer_Adult_mortality = subset_Burundi['Adult mortality'] = subset_Burundi['Adult mortality'].astype(int)\n",
        "print(subset_Burundi)"
      ],
      "metadata": {
        "colab": {
          "base_uri": "https://localhost:8080/"
        },
        "id": "7IHHtpUpcDnR",
        "outputId": "b6e0c427-f293-45ee-c246-45f9172bee94"
      },
      "execution_count": null,
      "outputs": [
        {
          "output_type": "stream",
          "name": "stdout",
          "text": [
            "     Country  Year      Status  Life expectancy  Adult mortality  \\\n",
            "416  Burundi  2015  Developing             59.6              288   \n",
            "417  Burundi  2014  Developing             59.1              297   \n",
            "418  Burundi  2013  Developing             58.6              330   \n",
            "419  Burundi  2012  Developing             58.0              312   \n",
            "420  Burundi  2011  Developing             57.4              321   \n",
            "421  Burundi  2010  Developing             56.8              330   \n",
            "422  Burundi  2009  Developing             56.2              338   \n",
            "423  Burundi  2008  Developing             55.3              350   \n",
            "424  Burundi  2007  Developing             54.8              355   \n",
            "425  Burundi  2006  Developing             54.1              361   \n",
            "426  Burundi  2005  Developing             53.4              369   \n",
            "427  Burundi  2004  Developing             52.6              378   \n",
            "428  Burundi  2003  Developing             51.9              387   \n",
            "429  Burundi  2002  Developing             51.5              387   \n",
            "430  Burundi  2001  Developing             51.3              385   \n",
            "431  Burundi  2000  Developing             58.0              386   \n",
            "\n",
            "     Infant deaths  Under-five deaths  Population  Schooling  \n",
            "416             21                 31    119927.0       10.6  \n",
            "417             22                 32    989179.0       10.6  \n",
            "418             22                 32     96186.0       10.5  \n",
            "419             22                 33    931971.0       10.3  \n",
            "420             22                 33     94358.0        9.9  \n",
            "421             23                 34    876693.0        9.3  \n",
            "422             23                 34    848931.0        8.6  \n",
            "423             23                 35   8212264.0        7.9  \n",
            "424             24                 36   7939573.0        7.2  \n",
            "425             24                 36   7675338.0        5.9  \n",
            "426             24                 37   7423289.0        5.6  \n",
            "427             24                 38   7182451.0        5.2  \n",
            "428             24                 38   6953113.0        4.7  \n",
            "429             24                 39   6741569.0        4.4  \n",
            "430             25                 40   6555829.0        4.5  \n",
            "431             25                 41      6476.0        4.5  \n"
          ]
        },
        {
          "output_type": "stream",
          "name": "stderr",
          "text": [
            "<ipython-input-14-ed26aaeea7eb>:3: SettingWithCopyWarning: \n",
            "A value is trying to be set on a copy of a slice from a DataFrame.\n",
            "Try using .loc[row_indexer,col_indexer] = value instead\n",
            "\n",
            "See the caveats in the documentation: https://pandas.pydata.org/pandas-docs/stable/user_guide/indexing.html#returning-a-view-versus-a-copy\n",
            "  Remove_integer_Adult_mortality = subset_Burundi['Adult mortality'] = subset_Burundi['Adult mortality'].astype(int)\n"
          ]
        }
      ]
    },
    {
      "cell_type": "code",
      "source": [
        "# editing illogical values for population in Burundi\n",
        "subset_Burundi = subset_Burundi.copy()\n",
        "index_to_change = subset_Burundi.loc[subset_Burundi['Population'] == 6476.0].index\n",
        "subset_Burundi.loc[index_to_change, 'Population'] =  6476000.0\n",
        "index_to_change = subset_Burundi.loc[subset_Burundi['Population'] == 848931.0].index\n",
        "subset_Burundi.loc[index_to_change, 'Population'] =  8489310.0\n",
        "index_to_change = subset_Burundi.loc[subset_Burundi['Population'] == 876693.0].index\n",
        "subset_Burundi.loc[index_to_change, 'Population'] =  8766930.0\n",
        "index_to_change = subset_Burundi.loc[subset_Burundi['Population'] == 94358.0].index\n",
        "subset_Burundi.loc[index_to_change, 'Population'] =  9435800.0\n",
        "index_to_change = subset_Burundi.loc[subset_Burundi['Population'] == 931971.0].index\n",
        "subset_Burundi.loc[index_to_change, 'Population'] =  9319710.0\n",
        "index_to_change = subset_Burundi.loc[subset_Burundi['Population'] == 96186.0].index\n",
        "subset_Burundi.loc[index_to_change, 'Population'] =  9618600.0\n",
        "index_to_change = subset_Burundi.loc[subset_Burundi['Population'] == 989179.0].index\n",
        "subset_Burundi.loc[index_to_change, 'Population'] =  9891790.0\n",
        "index_to_change = subset_Burundi.loc[subset_Burundi['Population'] == 119927.0].index\n",
        "subset_Burundi.loc[index_to_change, 'Population'] =  11992700.0\n",
        "print(subset_Burundi)"
      ],
      "metadata": {
        "colab": {
          "base_uri": "https://localhost:8080/"
        },
        "id": "UUFqp7ZbdL87",
        "outputId": "7bcf59ad-cd41-410b-c307-e5301e716603"
      },
      "execution_count": null,
      "outputs": [
        {
          "output_type": "stream",
          "name": "stdout",
          "text": [
            "     Country  Year      Status  Life expectancy  Adult mortality  \\\n",
            "416  Burundi  2015  Developing             59.6              288   \n",
            "417  Burundi  2014  Developing             59.1              297   \n",
            "418  Burundi  2013  Developing             58.6              330   \n",
            "419  Burundi  2012  Developing             58.0              312   \n",
            "420  Burundi  2011  Developing             57.4              321   \n",
            "421  Burundi  2010  Developing             56.8              330   \n",
            "422  Burundi  2009  Developing             56.2              338   \n",
            "423  Burundi  2008  Developing             55.3              350   \n",
            "424  Burundi  2007  Developing             54.8              355   \n",
            "425  Burundi  2006  Developing             54.1              361   \n",
            "426  Burundi  2005  Developing             53.4              369   \n",
            "427  Burundi  2004  Developing             52.6              378   \n",
            "428  Burundi  2003  Developing             51.9              387   \n",
            "429  Burundi  2002  Developing             51.5              387   \n",
            "430  Burundi  2001  Developing             51.3              385   \n",
            "431  Burundi  2000  Developing             58.0              386   \n",
            "\n",
            "     Infant deaths  Under-five deaths  Population  Schooling  \n",
            "416             21                 31  11992700.0       10.6  \n",
            "417             22                 32   9891790.0       10.6  \n",
            "418             22                 32   9618600.0       10.5  \n",
            "419             22                 33   9319710.0       10.3  \n",
            "420             22                 33   9435800.0        9.9  \n",
            "421             23                 34   8766930.0        9.3  \n",
            "422             23                 34   8489310.0        8.6  \n",
            "423             23                 35   8212264.0        7.9  \n",
            "424             24                 36   7939573.0        7.2  \n",
            "425             24                 36   7675338.0        5.9  \n",
            "426             24                 37   7423289.0        5.6  \n",
            "427             24                 38   7182451.0        5.2  \n",
            "428             24                 38   6953113.0        4.7  \n",
            "429             24                 39   6741569.0        4.4  \n",
            "430             25                 40   6555829.0        4.5  \n",
            "431             25                 41   6476000.0        4.5  \n"
          ]
        }
      ]
    },
    {
      "cell_type": "code",
      "source": [
        "# getting the rows for the Netherlands\n",
        "Netherlands_rows = health[health['Country'] == 'Netherlands']\n",
        "print(Netherlands_rows)"
      ],
      "metadata": {
        "colab": {
          "base_uri": "https://localhost:8080/"
        },
        "id": "9cNKZKWgfHA_",
        "outputId": "ecab4f8f-0512-4c53-ed58-d4007f8127dd"
      },
      "execution_count": null,
      "outputs": [
        {
          "output_type": "stream",
          "name": "stdout",
          "text": [
            "          Country  Year     Status  Life expectancy  Adult mortality  \\\n",
            "1829  Netherlands  2015  Developed             81.9             57.0   \n",
            "1830  Netherlands  2014  Developed             81.7             58.0   \n",
            "1831  Netherlands  2013  Developed             81.4              6.0   \n",
            "1832  Netherlands  2012  Developed             81.1             62.0   \n",
            "1833  Netherlands  2011  Developed             81.1             63.0   \n",
            "1834  Netherlands  2010  Developed             88.0             64.0   \n",
            "1835  Netherlands  2009  Developed             86.0             65.0   \n",
            "1836  Netherlands  2008  Developed             83.0             68.0   \n",
            "1837  Netherlands  2007  Developed             82.0             68.0   \n",
            "1838  Netherlands  2006  Developed             79.8             71.0   \n",
            "1839  Netherlands  2005  Developed             79.4             72.0   \n",
            "1840  Netherlands  2004  Developed             79.2             77.0   \n",
            "1841  Netherlands  2003  Developed             78.7              8.0   \n",
            "1842  Netherlands  2002  Developed             78.4             81.0   \n",
            "1843  Netherlands  2001  Developed             78.3             82.0   \n",
            "1844  Netherlands  2000  Developed             78.1             84.0   \n",
            "\n",
            "      Infant deaths  Under-five deaths  Population  Schooling  \n",
            "1829              1                  1  16939923.0       18.1  \n",
            "1830              1                  1    168658.0       18.1  \n",
            "1831              1                  1   1684432.0       18.1  \n",
            "1832              1                  1  16754962.0       18.1  \n",
            "1833              1                  1   1669374.0       17.2  \n",
            "1834              1                  1  16615394.0       17.0  \n",
            "1835              1                  1   1653388.0       16.9  \n",
            "1836              1                  1  16445593.0       16.8  \n",
            "1837              1                  1  16381696.0       16.6  \n",
            "1838              1                  1   1634611.0       16.5  \n",
            "1839              1                  1  16319868.0       16.4  \n",
            "1840              1                  1  16281779.0       16.5  \n",
            "1841              1                  1   1622532.0       16.5  \n",
            "1842              1                  1  16148929.0       16.9  \n",
            "1843              1                  1    164618.0       16.7  \n",
            "1844              1                  1  15925513.0       16.5  \n"
          ]
        }
      ]
    },
    {
      "cell_type": "code",
      "source": [
        "# saving the rows for the Netherlands\n",
        "subset_Netherlands = health.iloc[1829:1845, :]\n",
        "subset_Netherlands.to_csv('subset_Netherlands.csc', index= True)"
      ],
      "metadata": {
        "id": "WQ3O41d-fV9M"
      },
      "execution_count": null,
      "outputs": []
    },
    {
      "cell_type": "code",
      "source": [
        "# checking for missing values in the Netherlands\n",
        "print(subset_Netherlands.isnull().sum())"
      ],
      "metadata": {
        "colab": {
          "base_uri": "https://localhost:8080/"
        },
        "id": "HsvsVD-u9Xul",
        "outputId": "c49a8284-0eb5-4b5e-d282-298ce135b573"
      },
      "execution_count": null,
      "outputs": [
        {
          "output_type": "stream",
          "name": "stdout",
          "text": [
            "Country              0\n",
            "Year                 0\n",
            "Status               0\n",
            "Life expectancy      0\n",
            "Adult mortality      0\n",
            "Infant deaths        0\n",
            "Under-five deaths    0\n",
            "Population           0\n",
            "Schooling            0\n",
            "dtype: int64\n"
          ]
        }
      ]
    },
    {
      "cell_type": "code",
      "source": [
        "# getting the boxplots for the Netherlands\n",
        "for column in subset_Netherlands.select_dtypes(include=['float64', 'int64']).columns:\n",
        "    # Create a box plot for the current column\n",
        "    chart = alt.Chart(subset_Netherlands).mark_boxplot().encode(\n",
        "        y=alt.Y(f'{column}:Q', title=column)  # Using f-string for dynamic column naming\n",
        "    ).properties(\n",
        "        width=400,\n",
        "        height=300,\n",
        "        title=f'Box Plot of {column}'\n",
        "    )\n",
        "\n",
        "    # Display the chart\n",
        "    chart.display()"
      ],
      "metadata": {
        "colab": {
          "base_uri": "https://localhost:8080/",
          "height": 1000
        },
        "id": "cutzKFR-9dmW",
        "outputId": "eb9d0cd7-bb5c-4a2c-93a8-05b124e2f63a"
      },
      "execution_count": null,
      "outputs": [
        {
          "output_type": "display_data",
          "data": {
            "text/html": [
              "\n",
              "<div id=\"altair-viz-b2a49947606f48a880d31275eada8dbd\"></div>\n",
              "<script type=\"text/javascript\">\n",
              "  var VEGA_DEBUG = (typeof VEGA_DEBUG == \"undefined\") ? {} : VEGA_DEBUG;\n",
              "  (function(spec, embedOpt){\n",
              "    let outputDiv = document.currentScript.previousElementSibling;\n",
              "    if (outputDiv.id !== \"altair-viz-b2a49947606f48a880d31275eada8dbd\") {\n",
              "      outputDiv = document.getElementById(\"altair-viz-b2a49947606f48a880d31275eada8dbd\");\n",
              "    }\n",
              "    const paths = {\n",
              "      \"vega\": \"https://cdn.jsdelivr.net/npm//vega@5?noext\",\n",
              "      \"vega-lib\": \"https://cdn.jsdelivr.net/npm//vega-lib?noext\",\n",
              "      \"vega-lite\": \"https://cdn.jsdelivr.net/npm//vega-lite@4.17.0?noext\",\n",
              "      \"vega-embed\": \"https://cdn.jsdelivr.net/npm//vega-embed@6?noext\",\n",
              "    };\n",
              "\n",
              "    function maybeLoadScript(lib, version) {\n",
              "      var key = `${lib.replace(\"-\", \"\")}_version`;\n",
              "      return (VEGA_DEBUG[key] == version) ?\n",
              "        Promise.resolve(paths[lib]) :\n",
              "        new Promise(function(resolve, reject) {\n",
              "          var s = document.createElement('script');\n",
              "          document.getElementsByTagName(\"head\")[0].appendChild(s);\n",
              "          s.async = true;\n",
              "          s.onload = () => {\n",
              "            VEGA_DEBUG[key] = version;\n",
              "            return resolve(paths[lib]);\n",
              "          };\n",
              "          s.onerror = () => reject(`Error loading script: ${paths[lib]}`);\n",
              "          s.src = paths[lib];\n",
              "        });\n",
              "    }\n",
              "\n",
              "    function showError(err) {\n",
              "      outputDiv.innerHTML = `<div class=\"error\" style=\"color:red;\">${err}</div>`;\n",
              "      throw err;\n",
              "    }\n",
              "\n",
              "    function displayChart(vegaEmbed) {\n",
              "      vegaEmbed(outputDiv, spec, embedOpt)\n",
              "        .catch(err => showError(`Javascript Error: ${err.message}<br>This usually means there's a typo in your chart specification. See the javascript console for the full traceback.`));\n",
              "    }\n",
              "\n",
              "    if(typeof define === \"function\" && define.amd) {\n",
              "      requirejs.config({paths});\n",
              "      require([\"vega-embed\"], displayChart, err => showError(`Error loading script: ${err.message}`));\n",
              "    } else {\n",
              "      maybeLoadScript(\"vega\", \"5\")\n",
              "        .then(() => maybeLoadScript(\"vega-lite\", \"4.17.0\"))\n",
              "        .then(() => maybeLoadScript(\"vega-embed\", \"6\"))\n",
              "        .catch(showError)\n",
              "        .then(() => displayChart(vegaEmbed));\n",
              "    }\n",
              "  })({\"config\": {\"view\": {\"continuousWidth\": 400, \"continuousHeight\": 300}}, \"data\": {\"name\": \"data-e1091ad9083535560c70525333a9b06f\"}, \"mark\": \"boxplot\", \"encoding\": {\"y\": {\"field\": \"Year\", \"title\": \"Year\", \"type\": \"quantitative\"}}, \"height\": 300, \"title\": \"Box Plot of Year\", \"width\": 400, \"$schema\": \"https://vega.github.io/schema/vega-lite/v4.17.0.json\", \"datasets\": {\"data-e1091ad9083535560c70525333a9b06f\": [{\"Country\": \"Netherlands\", \"Year\": 2015, \"Status\": \"Developed\", \"Life expectancy\": 81.9, \"Adult mortality\": 57.0, \"Infant deaths\": 1, \"Under-five deaths\": 1, \"Population\": 16939923, \"Schooling\": 18.1}, {\"Country\": \"Netherlands\", \"Year\": 2014, \"Status\": \"Developed\", \"Life expectancy\": 81.7, \"Adult mortality\": 58.0, \"Infant deaths\": 1, \"Under-five deaths\": 1, \"Population\": 16865800, \"Schooling\": 18.1}, {\"Country\": \"Netherlands\", \"Year\": 2013, \"Status\": \"Developed\", \"Life expectancy\": 81.4, \"Adult mortality\": 60.0, \"Infant deaths\": 1, \"Under-five deaths\": 1, \"Population\": 16844320, \"Schooling\": 18.1}, {\"Country\": \"Netherlands\", \"Year\": 2012, \"Status\": \"Developed\", \"Life expectancy\": 81.1, \"Adult mortality\": 62.0, \"Infant deaths\": 1, \"Under-five deaths\": 1, \"Population\": 16754962, \"Schooling\": 18.1}, {\"Country\": \"Netherlands\", \"Year\": 2011, \"Status\": \"Developed\", \"Life expectancy\": 81.1, \"Adult mortality\": 63.0, \"Infant deaths\": 1, \"Under-five deaths\": 1, \"Population\": 16693740, \"Schooling\": 17.2}, {\"Country\": \"Netherlands\", \"Year\": 2010, \"Status\": \"Developed\", \"Life expectancy\": 88.0, \"Adult mortality\": 64.0, \"Infant deaths\": 1, \"Under-five deaths\": 1, \"Population\": 16615394, \"Schooling\": 17.0}, {\"Country\": \"Netherlands\", \"Year\": 2009, \"Status\": \"Developed\", \"Life expectancy\": 86.0, \"Adult mortality\": 65.0, \"Infant deaths\": 1, \"Under-five deaths\": 1, \"Population\": 16533880, \"Schooling\": 16.9}, {\"Country\": \"Netherlands\", \"Year\": 2008, \"Status\": \"Developed\", \"Life expectancy\": 83.0, \"Adult mortality\": 68.0, \"Infant deaths\": 1, \"Under-five deaths\": 1, \"Population\": 16445593, \"Schooling\": 16.8}, {\"Country\": \"Netherlands\", \"Year\": 2007, \"Status\": \"Developed\", \"Life expectancy\": 82.0, \"Adult mortality\": 68.0, \"Infant deaths\": 1, \"Under-five deaths\": 1, \"Population\": 16381696, \"Schooling\": 16.6}, {\"Country\": \"Netherlands\", \"Year\": 2006, \"Status\": \"Developed\", \"Life expectancy\": 79.8, \"Adult mortality\": 71.0, \"Infant deaths\": 1, \"Under-five deaths\": 1, \"Population\": 16346110, \"Schooling\": 16.5}, {\"Country\": \"Netherlands\", \"Year\": 2005, \"Status\": \"Developed\", \"Life expectancy\": 79.4, \"Adult mortality\": 72.0, \"Infant deaths\": 1, \"Under-five deaths\": 1, \"Population\": 16319868, \"Schooling\": 16.4}, {\"Country\": \"Netherlands\", \"Year\": 2004, \"Status\": \"Developed\", \"Life expectancy\": 79.2, \"Adult mortality\": 77.0, \"Infant deaths\": 1, \"Under-five deaths\": 1, \"Population\": 16281779, \"Schooling\": 16.5}, {\"Country\": \"Netherlands\", \"Year\": 2003, \"Status\": \"Developed\", \"Life expectancy\": 78.7, \"Adult mortality\": 80.0, \"Infant deaths\": 1, \"Under-five deaths\": 1, \"Population\": 16225320, \"Schooling\": 16.5}, {\"Country\": \"Netherlands\", \"Year\": 2002, \"Status\": \"Developed\", \"Life expectancy\": 78.4, \"Adult mortality\": 81.0, \"Infant deaths\": 1, \"Under-five deaths\": 1, \"Population\": 16148929, \"Schooling\": 16.9}, {\"Country\": \"Netherlands\", \"Year\": 2001, \"Status\": \"Developed\", \"Life expectancy\": 78.3, \"Adult mortality\": 82.0, \"Infant deaths\": 1, \"Under-five deaths\": 1, \"Population\": 16225320, \"Schooling\": 16.7}, {\"Country\": \"Netherlands\", \"Year\": 2000, \"Status\": \"Developed\", \"Life expectancy\": 78.1, \"Adult mortality\": 84.0, \"Infant deaths\": 1, \"Under-five deaths\": 1, \"Population\": 15925513, \"Schooling\": 16.5}]}}, {\"mode\": \"vega-lite\"});\n",
              "</script>"
            ],
            "text/plain": [
              "alt.Chart(...)"
            ]
          },
          "metadata": {}
        },
        {
          "output_type": "display_data",
          "data": {
            "text/html": [
              "\n",
              "<div id=\"altair-viz-04c5a4c090c34fdabf85ad00694bc037\"></div>\n",
              "<script type=\"text/javascript\">\n",
              "  var VEGA_DEBUG = (typeof VEGA_DEBUG == \"undefined\") ? {} : VEGA_DEBUG;\n",
              "  (function(spec, embedOpt){\n",
              "    let outputDiv = document.currentScript.previousElementSibling;\n",
              "    if (outputDiv.id !== \"altair-viz-04c5a4c090c34fdabf85ad00694bc037\") {\n",
              "      outputDiv = document.getElementById(\"altair-viz-04c5a4c090c34fdabf85ad00694bc037\");\n",
              "    }\n",
              "    const paths = {\n",
              "      \"vega\": \"https://cdn.jsdelivr.net/npm//vega@5?noext\",\n",
              "      \"vega-lib\": \"https://cdn.jsdelivr.net/npm//vega-lib?noext\",\n",
              "      \"vega-lite\": \"https://cdn.jsdelivr.net/npm//vega-lite@4.17.0?noext\",\n",
              "      \"vega-embed\": \"https://cdn.jsdelivr.net/npm//vega-embed@6?noext\",\n",
              "    };\n",
              "\n",
              "    function maybeLoadScript(lib, version) {\n",
              "      var key = `${lib.replace(\"-\", \"\")}_version`;\n",
              "      return (VEGA_DEBUG[key] == version) ?\n",
              "        Promise.resolve(paths[lib]) :\n",
              "        new Promise(function(resolve, reject) {\n",
              "          var s = document.createElement('script');\n",
              "          document.getElementsByTagName(\"head\")[0].appendChild(s);\n",
              "          s.async = true;\n",
              "          s.onload = () => {\n",
              "            VEGA_DEBUG[key] = version;\n",
              "            return resolve(paths[lib]);\n",
              "          };\n",
              "          s.onerror = () => reject(`Error loading script: ${paths[lib]}`);\n",
              "          s.src = paths[lib];\n",
              "        });\n",
              "    }\n",
              "\n",
              "    function showError(err) {\n",
              "      outputDiv.innerHTML = `<div class=\"error\" style=\"color:red;\">${err}</div>`;\n",
              "      throw err;\n",
              "    }\n",
              "\n",
              "    function displayChart(vegaEmbed) {\n",
              "      vegaEmbed(outputDiv, spec, embedOpt)\n",
              "        .catch(err => showError(`Javascript Error: ${err.message}<br>This usually means there's a typo in your chart specification. See the javascript console for the full traceback.`));\n",
              "    }\n",
              "\n",
              "    if(typeof define === \"function\" && define.amd) {\n",
              "      requirejs.config({paths});\n",
              "      require([\"vega-embed\"], displayChart, err => showError(`Error loading script: ${err.message}`));\n",
              "    } else {\n",
              "      maybeLoadScript(\"vega\", \"5\")\n",
              "        .then(() => maybeLoadScript(\"vega-lite\", \"4.17.0\"))\n",
              "        .then(() => maybeLoadScript(\"vega-embed\", \"6\"))\n",
              "        .catch(showError)\n",
              "        .then(() => displayChart(vegaEmbed));\n",
              "    }\n",
              "  })({\"config\": {\"view\": {\"continuousWidth\": 400, \"continuousHeight\": 300}}, \"data\": {\"name\": \"data-e1091ad9083535560c70525333a9b06f\"}, \"mark\": \"boxplot\", \"encoding\": {\"y\": {\"field\": \"Life expectancy\", \"title\": \"Life expectancy\", \"type\": \"quantitative\"}}, \"height\": 300, \"title\": \"Box Plot of Life expectancy\", \"width\": 400, \"$schema\": \"https://vega.github.io/schema/vega-lite/v4.17.0.json\", \"datasets\": {\"data-e1091ad9083535560c70525333a9b06f\": [{\"Country\": \"Netherlands\", \"Year\": 2015, \"Status\": \"Developed\", \"Life expectancy\": 81.9, \"Adult mortality\": 57.0, \"Infant deaths\": 1, \"Under-five deaths\": 1, \"Population\": 16939923, \"Schooling\": 18.1}, {\"Country\": \"Netherlands\", \"Year\": 2014, \"Status\": \"Developed\", \"Life expectancy\": 81.7, \"Adult mortality\": 58.0, \"Infant deaths\": 1, \"Under-five deaths\": 1, \"Population\": 16865800, \"Schooling\": 18.1}, {\"Country\": \"Netherlands\", \"Year\": 2013, \"Status\": \"Developed\", \"Life expectancy\": 81.4, \"Adult mortality\": 60.0, \"Infant deaths\": 1, \"Under-five deaths\": 1, \"Population\": 16844320, \"Schooling\": 18.1}, {\"Country\": \"Netherlands\", \"Year\": 2012, \"Status\": \"Developed\", \"Life expectancy\": 81.1, \"Adult mortality\": 62.0, \"Infant deaths\": 1, \"Under-five deaths\": 1, \"Population\": 16754962, \"Schooling\": 18.1}, {\"Country\": \"Netherlands\", \"Year\": 2011, \"Status\": \"Developed\", \"Life expectancy\": 81.1, \"Adult mortality\": 63.0, \"Infant deaths\": 1, \"Under-five deaths\": 1, \"Population\": 16693740, \"Schooling\": 17.2}, {\"Country\": \"Netherlands\", \"Year\": 2010, \"Status\": \"Developed\", \"Life expectancy\": 88.0, \"Adult mortality\": 64.0, \"Infant deaths\": 1, \"Under-five deaths\": 1, \"Population\": 16615394, \"Schooling\": 17.0}, {\"Country\": \"Netherlands\", \"Year\": 2009, \"Status\": \"Developed\", \"Life expectancy\": 86.0, \"Adult mortality\": 65.0, \"Infant deaths\": 1, \"Under-five deaths\": 1, \"Population\": 16533880, \"Schooling\": 16.9}, {\"Country\": \"Netherlands\", \"Year\": 2008, \"Status\": \"Developed\", \"Life expectancy\": 83.0, \"Adult mortality\": 68.0, \"Infant deaths\": 1, \"Under-five deaths\": 1, \"Population\": 16445593, \"Schooling\": 16.8}, {\"Country\": \"Netherlands\", \"Year\": 2007, \"Status\": \"Developed\", \"Life expectancy\": 82.0, \"Adult mortality\": 68.0, \"Infant deaths\": 1, \"Under-five deaths\": 1, \"Population\": 16381696, \"Schooling\": 16.6}, {\"Country\": \"Netherlands\", \"Year\": 2006, \"Status\": \"Developed\", \"Life expectancy\": 79.8, \"Adult mortality\": 71.0, \"Infant deaths\": 1, \"Under-five deaths\": 1, \"Population\": 16346110, \"Schooling\": 16.5}, {\"Country\": \"Netherlands\", \"Year\": 2005, \"Status\": \"Developed\", \"Life expectancy\": 79.4, \"Adult mortality\": 72.0, \"Infant deaths\": 1, \"Under-five deaths\": 1, \"Population\": 16319868, \"Schooling\": 16.4}, {\"Country\": \"Netherlands\", \"Year\": 2004, \"Status\": \"Developed\", \"Life expectancy\": 79.2, \"Adult mortality\": 77.0, \"Infant deaths\": 1, \"Under-five deaths\": 1, \"Population\": 16281779, \"Schooling\": 16.5}, {\"Country\": \"Netherlands\", \"Year\": 2003, \"Status\": \"Developed\", \"Life expectancy\": 78.7, \"Adult mortality\": 80.0, \"Infant deaths\": 1, \"Under-five deaths\": 1, \"Population\": 16225320, \"Schooling\": 16.5}, {\"Country\": \"Netherlands\", \"Year\": 2002, \"Status\": \"Developed\", \"Life expectancy\": 78.4, \"Adult mortality\": 81.0, \"Infant deaths\": 1, \"Under-five deaths\": 1, \"Population\": 16148929, \"Schooling\": 16.9}, {\"Country\": \"Netherlands\", \"Year\": 2001, \"Status\": \"Developed\", \"Life expectancy\": 78.3, \"Adult mortality\": 82.0, \"Infant deaths\": 1, \"Under-five deaths\": 1, \"Population\": 16225320, \"Schooling\": 16.7}, {\"Country\": \"Netherlands\", \"Year\": 2000, \"Status\": \"Developed\", \"Life expectancy\": 78.1, \"Adult mortality\": 84.0, \"Infant deaths\": 1, \"Under-five deaths\": 1, \"Population\": 15925513, \"Schooling\": 16.5}]}}, {\"mode\": \"vega-lite\"});\n",
              "</script>"
            ],
            "text/plain": [
              "alt.Chart(...)"
            ]
          },
          "metadata": {}
        },
        {
          "output_type": "display_data",
          "data": {
            "text/html": [
              "\n",
              "<div id=\"altair-viz-1eb5a7b5dcd047238723b689271e0146\"></div>\n",
              "<script type=\"text/javascript\">\n",
              "  var VEGA_DEBUG = (typeof VEGA_DEBUG == \"undefined\") ? {} : VEGA_DEBUG;\n",
              "  (function(spec, embedOpt){\n",
              "    let outputDiv = document.currentScript.previousElementSibling;\n",
              "    if (outputDiv.id !== \"altair-viz-1eb5a7b5dcd047238723b689271e0146\") {\n",
              "      outputDiv = document.getElementById(\"altair-viz-1eb5a7b5dcd047238723b689271e0146\");\n",
              "    }\n",
              "    const paths = {\n",
              "      \"vega\": \"https://cdn.jsdelivr.net/npm//vega@5?noext\",\n",
              "      \"vega-lib\": \"https://cdn.jsdelivr.net/npm//vega-lib?noext\",\n",
              "      \"vega-lite\": \"https://cdn.jsdelivr.net/npm//vega-lite@4.17.0?noext\",\n",
              "      \"vega-embed\": \"https://cdn.jsdelivr.net/npm//vega-embed@6?noext\",\n",
              "    };\n",
              "\n",
              "    function maybeLoadScript(lib, version) {\n",
              "      var key = `${lib.replace(\"-\", \"\")}_version`;\n",
              "      return (VEGA_DEBUG[key] == version) ?\n",
              "        Promise.resolve(paths[lib]) :\n",
              "        new Promise(function(resolve, reject) {\n",
              "          var s = document.createElement('script');\n",
              "          document.getElementsByTagName(\"head\")[0].appendChild(s);\n",
              "          s.async = true;\n",
              "          s.onload = () => {\n",
              "            VEGA_DEBUG[key] = version;\n",
              "            return resolve(paths[lib]);\n",
              "          };\n",
              "          s.onerror = () => reject(`Error loading script: ${paths[lib]}`);\n",
              "          s.src = paths[lib];\n",
              "        });\n",
              "    }\n",
              "\n",
              "    function showError(err) {\n",
              "      outputDiv.innerHTML = `<div class=\"error\" style=\"color:red;\">${err}</div>`;\n",
              "      throw err;\n",
              "    }\n",
              "\n",
              "    function displayChart(vegaEmbed) {\n",
              "      vegaEmbed(outputDiv, spec, embedOpt)\n",
              "        .catch(err => showError(`Javascript Error: ${err.message}<br>This usually means there's a typo in your chart specification. See the javascript console for the full traceback.`));\n",
              "    }\n",
              "\n",
              "    if(typeof define === \"function\" && define.amd) {\n",
              "      requirejs.config({paths});\n",
              "      require([\"vega-embed\"], displayChart, err => showError(`Error loading script: ${err.message}`));\n",
              "    } else {\n",
              "      maybeLoadScript(\"vega\", \"5\")\n",
              "        .then(() => maybeLoadScript(\"vega-lite\", \"4.17.0\"))\n",
              "        .then(() => maybeLoadScript(\"vega-embed\", \"6\"))\n",
              "        .catch(showError)\n",
              "        .then(() => displayChart(vegaEmbed));\n",
              "    }\n",
              "  })({\"config\": {\"view\": {\"continuousWidth\": 400, \"continuousHeight\": 300}}, \"data\": {\"name\": \"data-e1091ad9083535560c70525333a9b06f\"}, \"mark\": \"boxplot\", \"encoding\": {\"y\": {\"field\": \"Adult mortality\", \"title\": \"Adult mortality\", \"type\": \"quantitative\"}}, \"height\": 300, \"title\": \"Box Plot of Adult mortality\", \"width\": 400, \"$schema\": \"https://vega.github.io/schema/vega-lite/v4.17.0.json\", \"datasets\": {\"data-e1091ad9083535560c70525333a9b06f\": [{\"Country\": \"Netherlands\", \"Year\": 2015, \"Status\": \"Developed\", \"Life expectancy\": 81.9, \"Adult mortality\": 57.0, \"Infant deaths\": 1, \"Under-five deaths\": 1, \"Population\": 16939923, \"Schooling\": 18.1}, {\"Country\": \"Netherlands\", \"Year\": 2014, \"Status\": \"Developed\", \"Life expectancy\": 81.7, \"Adult mortality\": 58.0, \"Infant deaths\": 1, \"Under-five deaths\": 1, \"Population\": 16865800, \"Schooling\": 18.1}, {\"Country\": \"Netherlands\", \"Year\": 2013, \"Status\": \"Developed\", \"Life expectancy\": 81.4, \"Adult mortality\": 60.0, \"Infant deaths\": 1, \"Under-five deaths\": 1, \"Population\": 16844320, \"Schooling\": 18.1}, {\"Country\": \"Netherlands\", \"Year\": 2012, \"Status\": \"Developed\", \"Life expectancy\": 81.1, \"Adult mortality\": 62.0, \"Infant deaths\": 1, \"Under-five deaths\": 1, \"Population\": 16754962, \"Schooling\": 18.1}, {\"Country\": \"Netherlands\", \"Year\": 2011, \"Status\": \"Developed\", \"Life expectancy\": 81.1, \"Adult mortality\": 63.0, \"Infant deaths\": 1, \"Under-five deaths\": 1, \"Population\": 16693740, \"Schooling\": 17.2}, {\"Country\": \"Netherlands\", \"Year\": 2010, \"Status\": \"Developed\", \"Life expectancy\": 88.0, \"Adult mortality\": 64.0, \"Infant deaths\": 1, \"Under-five deaths\": 1, \"Population\": 16615394, \"Schooling\": 17.0}, {\"Country\": \"Netherlands\", \"Year\": 2009, \"Status\": \"Developed\", \"Life expectancy\": 86.0, \"Adult mortality\": 65.0, \"Infant deaths\": 1, \"Under-five deaths\": 1, \"Population\": 16533880, \"Schooling\": 16.9}, {\"Country\": \"Netherlands\", \"Year\": 2008, \"Status\": \"Developed\", \"Life expectancy\": 83.0, \"Adult mortality\": 68.0, \"Infant deaths\": 1, \"Under-five deaths\": 1, \"Population\": 16445593, \"Schooling\": 16.8}, {\"Country\": \"Netherlands\", \"Year\": 2007, \"Status\": \"Developed\", \"Life expectancy\": 82.0, \"Adult mortality\": 68.0, \"Infant deaths\": 1, \"Under-five deaths\": 1, \"Population\": 16381696, \"Schooling\": 16.6}, {\"Country\": \"Netherlands\", \"Year\": 2006, \"Status\": \"Developed\", \"Life expectancy\": 79.8, \"Adult mortality\": 71.0, \"Infant deaths\": 1, \"Under-five deaths\": 1, \"Population\": 16346110, \"Schooling\": 16.5}, {\"Country\": \"Netherlands\", \"Year\": 2005, \"Status\": \"Developed\", \"Life expectancy\": 79.4, \"Adult mortality\": 72.0, \"Infant deaths\": 1, \"Under-five deaths\": 1, \"Population\": 16319868, \"Schooling\": 16.4}, {\"Country\": \"Netherlands\", \"Year\": 2004, \"Status\": \"Developed\", \"Life expectancy\": 79.2, \"Adult mortality\": 77.0, \"Infant deaths\": 1, \"Under-five deaths\": 1, \"Population\": 16281779, \"Schooling\": 16.5}, {\"Country\": \"Netherlands\", \"Year\": 2003, \"Status\": \"Developed\", \"Life expectancy\": 78.7, \"Adult mortality\": 80.0, \"Infant deaths\": 1, \"Under-five deaths\": 1, \"Population\": 16225320, \"Schooling\": 16.5}, {\"Country\": \"Netherlands\", \"Year\": 2002, \"Status\": \"Developed\", \"Life expectancy\": 78.4, \"Adult mortality\": 81.0, \"Infant deaths\": 1, \"Under-five deaths\": 1, \"Population\": 16148929, \"Schooling\": 16.9}, {\"Country\": \"Netherlands\", \"Year\": 2001, \"Status\": \"Developed\", \"Life expectancy\": 78.3, \"Adult mortality\": 82.0, \"Infant deaths\": 1, \"Under-five deaths\": 1, \"Population\": 16225320, \"Schooling\": 16.7}, {\"Country\": \"Netherlands\", \"Year\": 2000, \"Status\": \"Developed\", \"Life expectancy\": 78.1, \"Adult mortality\": 84.0, \"Infant deaths\": 1, \"Under-five deaths\": 1, \"Population\": 15925513, \"Schooling\": 16.5}]}}, {\"mode\": \"vega-lite\"});\n",
              "</script>"
            ],
            "text/plain": [
              "alt.Chart(...)"
            ]
          },
          "metadata": {}
        },
        {
          "output_type": "display_data",
          "data": {
            "text/html": [
              "\n",
              "<div id=\"altair-viz-c8add585fea74af0b4bb4d2279b8ae2d\"></div>\n",
              "<script type=\"text/javascript\">\n",
              "  var VEGA_DEBUG = (typeof VEGA_DEBUG == \"undefined\") ? {} : VEGA_DEBUG;\n",
              "  (function(spec, embedOpt){\n",
              "    let outputDiv = document.currentScript.previousElementSibling;\n",
              "    if (outputDiv.id !== \"altair-viz-c8add585fea74af0b4bb4d2279b8ae2d\") {\n",
              "      outputDiv = document.getElementById(\"altair-viz-c8add585fea74af0b4bb4d2279b8ae2d\");\n",
              "    }\n",
              "    const paths = {\n",
              "      \"vega\": \"https://cdn.jsdelivr.net/npm//vega@5?noext\",\n",
              "      \"vega-lib\": \"https://cdn.jsdelivr.net/npm//vega-lib?noext\",\n",
              "      \"vega-lite\": \"https://cdn.jsdelivr.net/npm//vega-lite@4.17.0?noext\",\n",
              "      \"vega-embed\": \"https://cdn.jsdelivr.net/npm//vega-embed@6?noext\",\n",
              "    };\n",
              "\n",
              "    function maybeLoadScript(lib, version) {\n",
              "      var key = `${lib.replace(\"-\", \"\")}_version`;\n",
              "      return (VEGA_DEBUG[key] == version) ?\n",
              "        Promise.resolve(paths[lib]) :\n",
              "        new Promise(function(resolve, reject) {\n",
              "          var s = document.createElement('script');\n",
              "          document.getElementsByTagName(\"head\")[0].appendChild(s);\n",
              "          s.async = true;\n",
              "          s.onload = () => {\n",
              "            VEGA_DEBUG[key] = version;\n",
              "            return resolve(paths[lib]);\n",
              "          };\n",
              "          s.onerror = () => reject(`Error loading script: ${paths[lib]}`);\n",
              "          s.src = paths[lib];\n",
              "        });\n",
              "    }\n",
              "\n",
              "    function showError(err) {\n",
              "      outputDiv.innerHTML = `<div class=\"error\" style=\"color:red;\">${err}</div>`;\n",
              "      throw err;\n",
              "    }\n",
              "\n",
              "    function displayChart(vegaEmbed) {\n",
              "      vegaEmbed(outputDiv, spec, embedOpt)\n",
              "        .catch(err => showError(`Javascript Error: ${err.message}<br>This usually means there's a typo in your chart specification. See the javascript console for the full traceback.`));\n",
              "    }\n",
              "\n",
              "    if(typeof define === \"function\" && define.amd) {\n",
              "      requirejs.config({paths});\n",
              "      require([\"vega-embed\"], displayChart, err => showError(`Error loading script: ${err.message}`));\n",
              "    } else {\n",
              "      maybeLoadScript(\"vega\", \"5\")\n",
              "        .then(() => maybeLoadScript(\"vega-lite\", \"4.17.0\"))\n",
              "        .then(() => maybeLoadScript(\"vega-embed\", \"6\"))\n",
              "        .catch(showError)\n",
              "        .then(() => displayChart(vegaEmbed));\n",
              "    }\n",
              "  })({\"config\": {\"view\": {\"continuousWidth\": 400, \"continuousHeight\": 300}}, \"data\": {\"name\": \"data-e1091ad9083535560c70525333a9b06f\"}, \"mark\": \"boxplot\", \"encoding\": {\"y\": {\"field\": \"Infant deaths\", \"title\": \"Infant deaths\", \"type\": \"quantitative\"}}, \"height\": 300, \"title\": \"Box Plot of Infant deaths\", \"width\": 400, \"$schema\": \"https://vega.github.io/schema/vega-lite/v4.17.0.json\", \"datasets\": {\"data-e1091ad9083535560c70525333a9b06f\": [{\"Country\": \"Netherlands\", \"Year\": 2015, \"Status\": \"Developed\", \"Life expectancy\": 81.9, \"Adult mortality\": 57.0, \"Infant deaths\": 1, \"Under-five deaths\": 1, \"Population\": 16939923, \"Schooling\": 18.1}, {\"Country\": \"Netherlands\", \"Year\": 2014, \"Status\": \"Developed\", \"Life expectancy\": 81.7, \"Adult mortality\": 58.0, \"Infant deaths\": 1, \"Under-five deaths\": 1, \"Population\": 16865800, \"Schooling\": 18.1}, {\"Country\": \"Netherlands\", \"Year\": 2013, \"Status\": \"Developed\", \"Life expectancy\": 81.4, \"Adult mortality\": 60.0, \"Infant deaths\": 1, \"Under-five deaths\": 1, \"Population\": 16844320, \"Schooling\": 18.1}, {\"Country\": \"Netherlands\", \"Year\": 2012, \"Status\": \"Developed\", \"Life expectancy\": 81.1, \"Adult mortality\": 62.0, \"Infant deaths\": 1, \"Under-five deaths\": 1, \"Population\": 16754962, \"Schooling\": 18.1}, {\"Country\": \"Netherlands\", \"Year\": 2011, \"Status\": \"Developed\", \"Life expectancy\": 81.1, \"Adult mortality\": 63.0, \"Infant deaths\": 1, \"Under-five deaths\": 1, \"Population\": 16693740, \"Schooling\": 17.2}, {\"Country\": \"Netherlands\", \"Year\": 2010, \"Status\": \"Developed\", \"Life expectancy\": 88.0, \"Adult mortality\": 64.0, \"Infant deaths\": 1, \"Under-five deaths\": 1, \"Population\": 16615394, \"Schooling\": 17.0}, {\"Country\": \"Netherlands\", \"Year\": 2009, \"Status\": \"Developed\", \"Life expectancy\": 86.0, \"Adult mortality\": 65.0, \"Infant deaths\": 1, \"Under-five deaths\": 1, \"Population\": 16533880, \"Schooling\": 16.9}, {\"Country\": \"Netherlands\", \"Year\": 2008, \"Status\": \"Developed\", \"Life expectancy\": 83.0, \"Adult mortality\": 68.0, \"Infant deaths\": 1, \"Under-five deaths\": 1, \"Population\": 16445593, \"Schooling\": 16.8}, {\"Country\": \"Netherlands\", \"Year\": 2007, \"Status\": \"Developed\", \"Life expectancy\": 82.0, \"Adult mortality\": 68.0, \"Infant deaths\": 1, \"Under-five deaths\": 1, \"Population\": 16381696, \"Schooling\": 16.6}, {\"Country\": \"Netherlands\", \"Year\": 2006, \"Status\": \"Developed\", \"Life expectancy\": 79.8, \"Adult mortality\": 71.0, \"Infant deaths\": 1, \"Under-five deaths\": 1, \"Population\": 16346110, \"Schooling\": 16.5}, {\"Country\": \"Netherlands\", \"Year\": 2005, \"Status\": \"Developed\", \"Life expectancy\": 79.4, \"Adult mortality\": 72.0, \"Infant deaths\": 1, \"Under-five deaths\": 1, \"Population\": 16319868, \"Schooling\": 16.4}, {\"Country\": \"Netherlands\", \"Year\": 2004, \"Status\": \"Developed\", \"Life expectancy\": 79.2, \"Adult mortality\": 77.0, \"Infant deaths\": 1, \"Under-five deaths\": 1, \"Population\": 16281779, \"Schooling\": 16.5}, {\"Country\": \"Netherlands\", \"Year\": 2003, \"Status\": \"Developed\", \"Life expectancy\": 78.7, \"Adult mortality\": 80.0, \"Infant deaths\": 1, \"Under-five deaths\": 1, \"Population\": 16225320, \"Schooling\": 16.5}, {\"Country\": \"Netherlands\", \"Year\": 2002, \"Status\": \"Developed\", \"Life expectancy\": 78.4, \"Adult mortality\": 81.0, \"Infant deaths\": 1, \"Under-five deaths\": 1, \"Population\": 16148929, \"Schooling\": 16.9}, {\"Country\": \"Netherlands\", \"Year\": 2001, \"Status\": \"Developed\", \"Life expectancy\": 78.3, \"Adult mortality\": 82.0, \"Infant deaths\": 1, \"Under-five deaths\": 1, \"Population\": 16225320, \"Schooling\": 16.7}, {\"Country\": \"Netherlands\", \"Year\": 2000, \"Status\": \"Developed\", \"Life expectancy\": 78.1, \"Adult mortality\": 84.0, \"Infant deaths\": 1, \"Under-five deaths\": 1, \"Population\": 15925513, \"Schooling\": 16.5}]}}, {\"mode\": \"vega-lite\"});\n",
              "</script>"
            ],
            "text/plain": [
              "alt.Chart(...)"
            ]
          },
          "metadata": {}
        },
        {
          "output_type": "display_data",
          "data": {
            "text/html": [
              "\n",
              "<div id=\"altair-viz-07cf191cb6854beb88d0e75907c1cb88\"></div>\n",
              "<script type=\"text/javascript\">\n",
              "  var VEGA_DEBUG = (typeof VEGA_DEBUG == \"undefined\") ? {} : VEGA_DEBUG;\n",
              "  (function(spec, embedOpt){\n",
              "    let outputDiv = document.currentScript.previousElementSibling;\n",
              "    if (outputDiv.id !== \"altair-viz-07cf191cb6854beb88d0e75907c1cb88\") {\n",
              "      outputDiv = document.getElementById(\"altair-viz-07cf191cb6854beb88d0e75907c1cb88\");\n",
              "    }\n",
              "    const paths = {\n",
              "      \"vega\": \"https://cdn.jsdelivr.net/npm//vega@5?noext\",\n",
              "      \"vega-lib\": \"https://cdn.jsdelivr.net/npm//vega-lib?noext\",\n",
              "      \"vega-lite\": \"https://cdn.jsdelivr.net/npm//vega-lite@4.17.0?noext\",\n",
              "      \"vega-embed\": \"https://cdn.jsdelivr.net/npm//vega-embed@6?noext\",\n",
              "    };\n",
              "\n",
              "    function maybeLoadScript(lib, version) {\n",
              "      var key = `${lib.replace(\"-\", \"\")}_version`;\n",
              "      return (VEGA_DEBUG[key] == version) ?\n",
              "        Promise.resolve(paths[lib]) :\n",
              "        new Promise(function(resolve, reject) {\n",
              "          var s = document.createElement('script');\n",
              "          document.getElementsByTagName(\"head\")[0].appendChild(s);\n",
              "          s.async = true;\n",
              "          s.onload = () => {\n",
              "            VEGA_DEBUG[key] = version;\n",
              "            return resolve(paths[lib]);\n",
              "          };\n",
              "          s.onerror = () => reject(`Error loading script: ${paths[lib]}`);\n",
              "          s.src = paths[lib];\n",
              "        });\n",
              "    }\n",
              "\n",
              "    function showError(err) {\n",
              "      outputDiv.innerHTML = `<div class=\"error\" style=\"color:red;\">${err}</div>`;\n",
              "      throw err;\n",
              "    }\n",
              "\n",
              "    function displayChart(vegaEmbed) {\n",
              "      vegaEmbed(outputDiv, spec, embedOpt)\n",
              "        .catch(err => showError(`Javascript Error: ${err.message}<br>This usually means there's a typo in your chart specification. See the javascript console for the full traceback.`));\n",
              "    }\n",
              "\n",
              "    if(typeof define === \"function\" && define.amd) {\n",
              "      requirejs.config({paths});\n",
              "      require([\"vega-embed\"], displayChart, err => showError(`Error loading script: ${err.message}`));\n",
              "    } else {\n",
              "      maybeLoadScript(\"vega\", \"5\")\n",
              "        .then(() => maybeLoadScript(\"vega-lite\", \"4.17.0\"))\n",
              "        .then(() => maybeLoadScript(\"vega-embed\", \"6\"))\n",
              "        .catch(showError)\n",
              "        .then(() => displayChart(vegaEmbed));\n",
              "    }\n",
              "  })({\"config\": {\"view\": {\"continuousWidth\": 400, \"continuousHeight\": 300}}, \"data\": {\"name\": \"data-e1091ad9083535560c70525333a9b06f\"}, \"mark\": \"boxplot\", \"encoding\": {\"y\": {\"field\": \"Under-five deaths\", \"title\": \"Under-five deaths\", \"type\": \"quantitative\"}}, \"height\": 300, \"title\": \"Box Plot of Under-five deaths\", \"width\": 400, \"$schema\": \"https://vega.github.io/schema/vega-lite/v4.17.0.json\", \"datasets\": {\"data-e1091ad9083535560c70525333a9b06f\": [{\"Country\": \"Netherlands\", \"Year\": 2015, \"Status\": \"Developed\", \"Life expectancy\": 81.9, \"Adult mortality\": 57.0, \"Infant deaths\": 1, \"Under-five deaths\": 1, \"Population\": 16939923, \"Schooling\": 18.1}, {\"Country\": \"Netherlands\", \"Year\": 2014, \"Status\": \"Developed\", \"Life expectancy\": 81.7, \"Adult mortality\": 58.0, \"Infant deaths\": 1, \"Under-five deaths\": 1, \"Population\": 16865800, \"Schooling\": 18.1}, {\"Country\": \"Netherlands\", \"Year\": 2013, \"Status\": \"Developed\", \"Life expectancy\": 81.4, \"Adult mortality\": 60.0, \"Infant deaths\": 1, \"Under-five deaths\": 1, \"Population\": 16844320, \"Schooling\": 18.1}, {\"Country\": \"Netherlands\", \"Year\": 2012, \"Status\": \"Developed\", \"Life expectancy\": 81.1, \"Adult mortality\": 62.0, \"Infant deaths\": 1, \"Under-five deaths\": 1, \"Population\": 16754962, \"Schooling\": 18.1}, {\"Country\": \"Netherlands\", \"Year\": 2011, \"Status\": \"Developed\", \"Life expectancy\": 81.1, \"Adult mortality\": 63.0, \"Infant deaths\": 1, \"Under-five deaths\": 1, \"Population\": 16693740, \"Schooling\": 17.2}, {\"Country\": \"Netherlands\", \"Year\": 2010, \"Status\": \"Developed\", \"Life expectancy\": 88.0, \"Adult mortality\": 64.0, \"Infant deaths\": 1, \"Under-five deaths\": 1, \"Population\": 16615394, \"Schooling\": 17.0}, {\"Country\": \"Netherlands\", \"Year\": 2009, \"Status\": \"Developed\", \"Life expectancy\": 86.0, \"Adult mortality\": 65.0, \"Infant deaths\": 1, \"Under-five deaths\": 1, \"Population\": 16533880, \"Schooling\": 16.9}, {\"Country\": \"Netherlands\", \"Year\": 2008, \"Status\": \"Developed\", \"Life expectancy\": 83.0, \"Adult mortality\": 68.0, \"Infant deaths\": 1, \"Under-five deaths\": 1, \"Population\": 16445593, \"Schooling\": 16.8}, {\"Country\": \"Netherlands\", \"Year\": 2007, \"Status\": \"Developed\", \"Life expectancy\": 82.0, \"Adult mortality\": 68.0, \"Infant deaths\": 1, \"Under-five deaths\": 1, \"Population\": 16381696, \"Schooling\": 16.6}, {\"Country\": \"Netherlands\", \"Year\": 2006, \"Status\": \"Developed\", \"Life expectancy\": 79.8, \"Adult mortality\": 71.0, \"Infant deaths\": 1, \"Under-five deaths\": 1, \"Population\": 16346110, \"Schooling\": 16.5}, {\"Country\": \"Netherlands\", \"Year\": 2005, \"Status\": \"Developed\", \"Life expectancy\": 79.4, \"Adult mortality\": 72.0, \"Infant deaths\": 1, \"Under-five deaths\": 1, \"Population\": 16319868, \"Schooling\": 16.4}, {\"Country\": \"Netherlands\", \"Year\": 2004, \"Status\": \"Developed\", \"Life expectancy\": 79.2, \"Adult mortality\": 77.0, \"Infant deaths\": 1, \"Under-five deaths\": 1, \"Population\": 16281779, \"Schooling\": 16.5}, {\"Country\": \"Netherlands\", \"Year\": 2003, \"Status\": \"Developed\", \"Life expectancy\": 78.7, \"Adult mortality\": 80.0, \"Infant deaths\": 1, \"Under-five deaths\": 1, \"Population\": 16225320, \"Schooling\": 16.5}, {\"Country\": \"Netherlands\", \"Year\": 2002, \"Status\": \"Developed\", \"Life expectancy\": 78.4, \"Adult mortality\": 81.0, \"Infant deaths\": 1, \"Under-five deaths\": 1, \"Population\": 16148929, \"Schooling\": 16.9}, {\"Country\": \"Netherlands\", \"Year\": 2001, \"Status\": \"Developed\", \"Life expectancy\": 78.3, \"Adult mortality\": 82.0, \"Infant deaths\": 1, \"Under-five deaths\": 1, \"Population\": 16225320, \"Schooling\": 16.7}, {\"Country\": \"Netherlands\", \"Year\": 2000, \"Status\": \"Developed\", \"Life expectancy\": 78.1, \"Adult mortality\": 84.0, \"Infant deaths\": 1, \"Under-five deaths\": 1, \"Population\": 15925513, \"Schooling\": 16.5}]}}, {\"mode\": \"vega-lite\"});\n",
              "</script>"
            ],
            "text/plain": [
              "alt.Chart(...)"
            ]
          },
          "metadata": {}
        },
        {
          "output_type": "display_data",
          "data": {
            "text/html": [
              "\n",
              "<div id=\"altair-viz-999bfb27f22e44c2b04fb1121db86ebe\"></div>\n",
              "<script type=\"text/javascript\">\n",
              "  var VEGA_DEBUG = (typeof VEGA_DEBUG == \"undefined\") ? {} : VEGA_DEBUG;\n",
              "  (function(spec, embedOpt){\n",
              "    let outputDiv = document.currentScript.previousElementSibling;\n",
              "    if (outputDiv.id !== \"altair-viz-999bfb27f22e44c2b04fb1121db86ebe\") {\n",
              "      outputDiv = document.getElementById(\"altair-viz-999bfb27f22e44c2b04fb1121db86ebe\");\n",
              "    }\n",
              "    const paths = {\n",
              "      \"vega\": \"https://cdn.jsdelivr.net/npm//vega@5?noext\",\n",
              "      \"vega-lib\": \"https://cdn.jsdelivr.net/npm//vega-lib?noext\",\n",
              "      \"vega-lite\": \"https://cdn.jsdelivr.net/npm//vega-lite@4.17.0?noext\",\n",
              "      \"vega-embed\": \"https://cdn.jsdelivr.net/npm//vega-embed@6?noext\",\n",
              "    };\n",
              "\n",
              "    function maybeLoadScript(lib, version) {\n",
              "      var key = `${lib.replace(\"-\", \"\")}_version`;\n",
              "      return (VEGA_DEBUG[key] == version) ?\n",
              "        Promise.resolve(paths[lib]) :\n",
              "        new Promise(function(resolve, reject) {\n",
              "          var s = document.createElement('script');\n",
              "          document.getElementsByTagName(\"head\")[0].appendChild(s);\n",
              "          s.async = true;\n",
              "          s.onload = () => {\n",
              "            VEGA_DEBUG[key] = version;\n",
              "            return resolve(paths[lib]);\n",
              "          };\n",
              "          s.onerror = () => reject(`Error loading script: ${paths[lib]}`);\n",
              "          s.src = paths[lib];\n",
              "        });\n",
              "    }\n",
              "\n",
              "    function showError(err) {\n",
              "      outputDiv.innerHTML = `<div class=\"error\" style=\"color:red;\">${err}</div>`;\n",
              "      throw err;\n",
              "    }\n",
              "\n",
              "    function displayChart(vegaEmbed) {\n",
              "      vegaEmbed(outputDiv, spec, embedOpt)\n",
              "        .catch(err => showError(`Javascript Error: ${err.message}<br>This usually means there's a typo in your chart specification. See the javascript console for the full traceback.`));\n",
              "    }\n",
              "\n",
              "    if(typeof define === \"function\" && define.amd) {\n",
              "      requirejs.config({paths});\n",
              "      require([\"vega-embed\"], displayChart, err => showError(`Error loading script: ${err.message}`));\n",
              "    } else {\n",
              "      maybeLoadScript(\"vega\", \"5\")\n",
              "        .then(() => maybeLoadScript(\"vega-lite\", \"4.17.0\"))\n",
              "        .then(() => maybeLoadScript(\"vega-embed\", \"6\"))\n",
              "        .catch(showError)\n",
              "        .then(() => displayChart(vegaEmbed));\n",
              "    }\n",
              "  })({\"config\": {\"view\": {\"continuousWidth\": 400, \"continuousHeight\": 300}}, \"data\": {\"name\": \"data-e1091ad9083535560c70525333a9b06f\"}, \"mark\": \"boxplot\", \"encoding\": {\"y\": {\"field\": \"Population\", \"title\": \"Population\", \"type\": \"quantitative\"}}, \"height\": 300, \"title\": \"Box Plot of Population\", \"width\": 400, \"$schema\": \"https://vega.github.io/schema/vega-lite/v4.17.0.json\", \"datasets\": {\"data-e1091ad9083535560c70525333a9b06f\": [{\"Country\": \"Netherlands\", \"Year\": 2015, \"Status\": \"Developed\", \"Life expectancy\": 81.9, \"Adult mortality\": 57.0, \"Infant deaths\": 1, \"Under-five deaths\": 1, \"Population\": 16939923, \"Schooling\": 18.1}, {\"Country\": \"Netherlands\", \"Year\": 2014, \"Status\": \"Developed\", \"Life expectancy\": 81.7, \"Adult mortality\": 58.0, \"Infant deaths\": 1, \"Under-five deaths\": 1, \"Population\": 16865800, \"Schooling\": 18.1}, {\"Country\": \"Netherlands\", \"Year\": 2013, \"Status\": \"Developed\", \"Life expectancy\": 81.4, \"Adult mortality\": 60.0, \"Infant deaths\": 1, \"Under-five deaths\": 1, \"Population\": 16844320, \"Schooling\": 18.1}, {\"Country\": \"Netherlands\", \"Year\": 2012, \"Status\": \"Developed\", \"Life expectancy\": 81.1, \"Adult mortality\": 62.0, \"Infant deaths\": 1, \"Under-five deaths\": 1, \"Population\": 16754962, \"Schooling\": 18.1}, {\"Country\": \"Netherlands\", \"Year\": 2011, \"Status\": \"Developed\", \"Life expectancy\": 81.1, \"Adult mortality\": 63.0, \"Infant deaths\": 1, \"Under-five deaths\": 1, \"Population\": 16693740, \"Schooling\": 17.2}, {\"Country\": \"Netherlands\", \"Year\": 2010, \"Status\": \"Developed\", \"Life expectancy\": 88.0, \"Adult mortality\": 64.0, \"Infant deaths\": 1, \"Under-five deaths\": 1, \"Population\": 16615394, \"Schooling\": 17.0}, {\"Country\": \"Netherlands\", \"Year\": 2009, \"Status\": \"Developed\", \"Life expectancy\": 86.0, \"Adult mortality\": 65.0, \"Infant deaths\": 1, \"Under-five deaths\": 1, \"Population\": 16533880, \"Schooling\": 16.9}, {\"Country\": \"Netherlands\", \"Year\": 2008, \"Status\": \"Developed\", \"Life expectancy\": 83.0, \"Adult mortality\": 68.0, \"Infant deaths\": 1, \"Under-five deaths\": 1, \"Population\": 16445593, \"Schooling\": 16.8}, {\"Country\": \"Netherlands\", \"Year\": 2007, \"Status\": \"Developed\", \"Life expectancy\": 82.0, \"Adult mortality\": 68.0, \"Infant deaths\": 1, \"Under-five deaths\": 1, \"Population\": 16381696, \"Schooling\": 16.6}, {\"Country\": \"Netherlands\", \"Year\": 2006, \"Status\": \"Developed\", \"Life expectancy\": 79.8, \"Adult mortality\": 71.0, \"Infant deaths\": 1, \"Under-five deaths\": 1, \"Population\": 16346110, \"Schooling\": 16.5}, {\"Country\": \"Netherlands\", \"Year\": 2005, \"Status\": \"Developed\", \"Life expectancy\": 79.4, \"Adult mortality\": 72.0, \"Infant deaths\": 1, \"Under-five deaths\": 1, \"Population\": 16319868, \"Schooling\": 16.4}, {\"Country\": \"Netherlands\", \"Year\": 2004, \"Status\": \"Developed\", \"Life expectancy\": 79.2, \"Adult mortality\": 77.0, \"Infant deaths\": 1, \"Under-five deaths\": 1, \"Population\": 16281779, \"Schooling\": 16.5}, {\"Country\": \"Netherlands\", \"Year\": 2003, \"Status\": \"Developed\", \"Life expectancy\": 78.7, \"Adult mortality\": 80.0, \"Infant deaths\": 1, \"Under-five deaths\": 1, \"Population\": 16225320, \"Schooling\": 16.5}, {\"Country\": \"Netherlands\", \"Year\": 2002, \"Status\": \"Developed\", \"Life expectancy\": 78.4, \"Adult mortality\": 81.0, \"Infant deaths\": 1, \"Under-five deaths\": 1, \"Population\": 16148929, \"Schooling\": 16.9}, {\"Country\": \"Netherlands\", \"Year\": 2001, \"Status\": \"Developed\", \"Life expectancy\": 78.3, \"Adult mortality\": 82.0, \"Infant deaths\": 1, \"Under-five deaths\": 1, \"Population\": 16225320, \"Schooling\": 16.7}, {\"Country\": \"Netherlands\", \"Year\": 2000, \"Status\": \"Developed\", \"Life expectancy\": 78.1, \"Adult mortality\": 84.0, \"Infant deaths\": 1, \"Under-five deaths\": 1, \"Population\": 15925513, \"Schooling\": 16.5}]}}, {\"mode\": \"vega-lite\"});\n",
              "</script>"
            ],
            "text/plain": [
              "alt.Chart(...)"
            ]
          },
          "metadata": {}
        },
        {
          "output_type": "display_data",
          "data": {
            "text/html": [
              "\n",
              "<div id=\"altair-viz-c8a7ad1e39b540e29c04357b53f87e70\"></div>\n",
              "<script type=\"text/javascript\">\n",
              "  var VEGA_DEBUG = (typeof VEGA_DEBUG == \"undefined\") ? {} : VEGA_DEBUG;\n",
              "  (function(spec, embedOpt){\n",
              "    let outputDiv = document.currentScript.previousElementSibling;\n",
              "    if (outputDiv.id !== \"altair-viz-c8a7ad1e39b540e29c04357b53f87e70\") {\n",
              "      outputDiv = document.getElementById(\"altair-viz-c8a7ad1e39b540e29c04357b53f87e70\");\n",
              "    }\n",
              "    const paths = {\n",
              "      \"vega\": \"https://cdn.jsdelivr.net/npm//vega@5?noext\",\n",
              "      \"vega-lib\": \"https://cdn.jsdelivr.net/npm//vega-lib?noext\",\n",
              "      \"vega-lite\": \"https://cdn.jsdelivr.net/npm//vega-lite@4.17.0?noext\",\n",
              "      \"vega-embed\": \"https://cdn.jsdelivr.net/npm//vega-embed@6?noext\",\n",
              "    };\n",
              "\n",
              "    function maybeLoadScript(lib, version) {\n",
              "      var key = `${lib.replace(\"-\", \"\")}_version`;\n",
              "      return (VEGA_DEBUG[key] == version) ?\n",
              "        Promise.resolve(paths[lib]) :\n",
              "        new Promise(function(resolve, reject) {\n",
              "          var s = document.createElement('script');\n",
              "          document.getElementsByTagName(\"head\")[0].appendChild(s);\n",
              "          s.async = true;\n",
              "          s.onload = () => {\n",
              "            VEGA_DEBUG[key] = version;\n",
              "            return resolve(paths[lib]);\n",
              "          };\n",
              "          s.onerror = () => reject(`Error loading script: ${paths[lib]}`);\n",
              "          s.src = paths[lib];\n",
              "        });\n",
              "    }\n",
              "\n",
              "    function showError(err) {\n",
              "      outputDiv.innerHTML = `<div class=\"error\" style=\"color:red;\">${err}</div>`;\n",
              "      throw err;\n",
              "    }\n",
              "\n",
              "    function displayChart(vegaEmbed) {\n",
              "      vegaEmbed(outputDiv, spec, embedOpt)\n",
              "        .catch(err => showError(`Javascript Error: ${err.message}<br>This usually means there's a typo in your chart specification. See the javascript console for the full traceback.`));\n",
              "    }\n",
              "\n",
              "    if(typeof define === \"function\" && define.amd) {\n",
              "      requirejs.config({paths});\n",
              "      require([\"vega-embed\"], displayChart, err => showError(`Error loading script: ${err.message}`));\n",
              "    } else {\n",
              "      maybeLoadScript(\"vega\", \"5\")\n",
              "        .then(() => maybeLoadScript(\"vega-lite\", \"4.17.0\"))\n",
              "        .then(() => maybeLoadScript(\"vega-embed\", \"6\"))\n",
              "        .catch(showError)\n",
              "        .then(() => displayChart(vegaEmbed));\n",
              "    }\n",
              "  })({\"config\": {\"view\": {\"continuousWidth\": 400, \"continuousHeight\": 300}}, \"data\": {\"name\": \"data-e1091ad9083535560c70525333a9b06f\"}, \"mark\": \"boxplot\", \"encoding\": {\"y\": {\"field\": \"Schooling\", \"title\": \"Schooling\", \"type\": \"quantitative\"}}, \"height\": 300, \"title\": \"Box Plot of Schooling\", \"width\": 400, \"$schema\": \"https://vega.github.io/schema/vega-lite/v4.17.0.json\", \"datasets\": {\"data-e1091ad9083535560c70525333a9b06f\": [{\"Country\": \"Netherlands\", \"Year\": 2015, \"Status\": \"Developed\", \"Life expectancy\": 81.9, \"Adult mortality\": 57.0, \"Infant deaths\": 1, \"Under-five deaths\": 1, \"Population\": 16939923, \"Schooling\": 18.1}, {\"Country\": \"Netherlands\", \"Year\": 2014, \"Status\": \"Developed\", \"Life expectancy\": 81.7, \"Adult mortality\": 58.0, \"Infant deaths\": 1, \"Under-five deaths\": 1, \"Population\": 16865800, \"Schooling\": 18.1}, {\"Country\": \"Netherlands\", \"Year\": 2013, \"Status\": \"Developed\", \"Life expectancy\": 81.4, \"Adult mortality\": 60.0, \"Infant deaths\": 1, \"Under-five deaths\": 1, \"Population\": 16844320, \"Schooling\": 18.1}, {\"Country\": \"Netherlands\", \"Year\": 2012, \"Status\": \"Developed\", \"Life expectancy\": 81.1, \"Adult mortality\": 62.0, \"Infant deaths\": 1, \"Under-five deaths\": 1, \"Population\": 16754962, \"Schooling\": 18.1}, {\"Country\": \"Netherlands\", \"Year\": 2011, \"Status\": \"Developed\", \"Life expectancy\": 81.1, \"Adult mortality\": 63.0, \"Infant deaths\": 1, \"Under-five deaths\": 1, \"Population\": 16693740, \"Schooling\": 17.2}, {\"Country\": \"Netherlands\", \"Year\": 2010, \"Status\": \"Developed\", \"Life expectancy\": 88.0, \"Adult mortality\": 64.0, \"Infant deaths\": 1, \"Under-five deaths\": 1, \"Population\": 16615394, \"Schooling\": 17.0}, {\"Country\": \"Netherlands\", \"Year\": 2009, \"Status\": \"Developed\", \"Life expectancy\": 86.0, \"Adult mortality\": 65.0, \"Infant deaths\": 1, \"Under-five deaths\": 1, \"Population\": 16533880, \"Schooling\": 16.9}, {\"Country\": \"Netherlands\", \"Year\": 2008, \"Status\": \"Developed\", \"Life expectancy\": 83.0, \"Adult mortality\": 68.0, \"Infant deaths\": 1, \"Under-five deaths\": 1, \"Population\": 16445593, \"Schooling\": 16.8}, {\"Country\": \"Netherlands\", \"Year\": 2007, \"Status\": \"Developed\", \"Life expectancy\": 82.0, \"Adult mortality\": 68.0, \"Infant deaths\": 1, \"Under-five deaths\": 1, \"Population\": 16381696, \"Schooling\": 16.6}, {\"Country\": \"Netherlands\", \"Year\": 2006, \"Status\": \"Developed\", \"Life expectancy\": 79.8, \"Adult mortality\": 71.0, \"Infant deaths\": 1, \"Under-five deaths\": 1, \"Population\": 16346110, \"Schooling\": 16.5}, {\"Country\": \"Netherlands\", \"Year\": 2005, \"Status\": \"Developed\", \"Life expectancy\": 79.4, \"Adult mortality\": 72.0, \"Infant deaths\": 1, \"Under-five deaths\": 1, \"Population\": 16319868, \"Schooling\": 16.4}, {\"Country\": \"Netherlands\", \"Year\": 2004, \"Status\": \"Developed\", \"Life expectancy\": 79.2, \"Adult mortality\": 77.0, \"Infant deaths\": 1, \"Under-five deaths\": 1, \"Population\": 16281779, \"Schooling\": 16.5}, {\"Country\": \"Netherlands\", \"Year\": 2003, \"Status\": \"Developed\", \"Life expectancy\": 78.7, \"Adult mortality\": 80.0, \"Infant deaths\": 1, \"Under-five deaths\": 1, \"Population\": 16225320, \"Schooling\": 16.5}, {\"Country\": \"Netherlands\", \"Year\": 2002, \"Status\": \"Developed\", \"Life expectancy\": 78.4, \"Adult mortality\": 81.0, \"Infant deaths\": 1, \"Under-five deaths\": 1, \"Population\": 16148929, \"Schooling\": 16.9}, {\"Country\": \"Netherlands\", \"Year\": 2001, \"Status\": \"Developed\", \"Life expectancy\": 78.3, \"Adult mortality\": 82.0, \"Infant deaths\": 1, \"Under-five deaths\": 1, \"Population\": 16225320, \"Schooling\": 16.7}, {\"Country\": \"Netherlands\", \"Year\": 2000, \"Status\": \"Developed\", \"Life expectancy\": 78.1, \"Adult mortality\": 84.0, \"Infant deaths\": 1, \"Under-five deaths\": 1, \"Population\": 15925513, \"Schooling\": 16.5}]}}, {\"mode\": \"vega-lite\"});\n",
              "</script>"
            ],
            "text/plain": [
              "alt.Chart(...)"
            ]
          },
          "metadata": {}
        }
      ]
    },
    {
      "cell_type": "code",
      "source": [
        "# changing illogical values for Adult Mortality in the Netherlands\n",
        "Change_Adult_mortality = subset_Netherlands.loc[subset_Netherlands['Adult mortality'] == 6.0, 'Adult mortality'] = 60\n",
        "Change_Adult_mortality = subset_Netherlands.loc[subset_Netherlands['Adult mortality'] == 8.0, 'Adult mortality'] = 80\n",
        "print(subset_Netherlands)"
      ],
      "metadata": {
        "colab": {
          "base_uri": "https://localhost:8080/"
        },
        "id": "Ay06J_y7fuYr",
        "outputId": "823249d2-d3fc-4b75-d653-9e93743d8fd3"
      },
      "execution_count": null,
      "outputs": [
        {
          "output_type": "stream",
          "name": "stdout",
          "text": [
            "          Country  Year     Status  Life expectancy  Adult mortality  \\\n",
            "1829  Netherlands  2015  Developed             81.9             57.0   \n",
            "1830  Netherlands  2014  Developed             81.7             58.0   \n",
            "1831  Netherlands  2013  Developed             81.4             60.0   \n",
            "1832  Netherlands  2012  Developed             81.1             62.0   \n",
            "1833  Netherlands  2011  Developed             81.1             63.0   \n",
            "1834  Netherlands  2010  Developed             88.0             64.0   \n",
            "1835  Netherlands  2009  Developed             86.0             65.0   \n",
            "1836  Netherlands  2008  Developed             83.0             68.0   \n",
            "1837  Netherlands  2007  Developed             82.0             68.0   \n",
            "1838  Netherlands  2006  Developed             79.8             71.0   \n",
            "1839  Netherlands  2005  Developed             79.4             72.0   \n",
            "1840  Netherlands  2004  Developed             79.2             77.0   \n",
            "1841  Netherlands  2003  Developed             78.7             80.0   \n",
            "1842  Netherlands  2002  Developed             78.4             81.0   \n",
            "1843  Netherlands  2001  Developed             78.3             82.0   \n",
            "1844  Netherlands  2000  Developed             78.1             84.0   \n",
            "\n",
            "      Infant deaths  Under-five deaths  Population  Schooling  \n",
            "1829              1                  1  16939923.0       18.1  \n",
            "1830              1                  1    168658.0       18.1  \n",
            "1831              1                  1   1684432.0       18.1  \n",
            "1832              1                  1  16754962.0       18.1  \n",
            "1833              1                  1   1669374.0       17.2  \n",
            "1834              1                  1  16615394.0       17.0  \n",
            "1835              1                  1   1653388.0       16.9  \n",
            "1836              1                  1  16445593.0       16.8  \n",
            "1837              1                  1  16381696.0       16.6  \n",
            "1838              1                  1   1634611.0       16.5  \n",
            "1839              1                  1  16319868.0       16.4  \n",
            "1840              1                  1  16281779.0       16.5  \n",
            "1841              1                  1   1622532.0       16.5  \n",
            "1842              1                  1  16148929.0       16.9  \n",
            "1843              1                  1    164618.0       16.7  \n",
            "1844              1                  1  15925513.0       16.5  \n"
          ]
        }
      ]
    },
    {
      "cell_type": "code",
      "source": [
        "# changing illogical values for population in the Netherlands\n",
        "subset_Netherlands = subset_Netherlands.copy()\n",
        "index_to_change = subset_Netherlands.loc[subset_Netherlands['Population'] == 168658.0].index\n",
        "subset_Netherlands.loc[index_to_change, 'Population'] =  16865800.0\n",
        "index_to_change = subset_Netherlands.loc[subset_Netherlands['Population'] == 1684432.0].index\n",
        "subset_Netherlands.loc[index_to_change, 'Population'] =  16844320.0\n",
        "index_to_change = subset_Netherlands.loc[subset_Netherlands['Population'] == 1669374.0].index\n",
        "subset_Netherlands.loc[index_to_change, 'Population'] =  16693740.0\n",
        "index_to_change = subset_Netherlands.loc[subset_Netherlands['Population'] ==  1653388.0].index\n",
        "subset_Netherlands.loc[index_to_change, 'Population'] =  165338800.0\n",
        "index_to_change = subset_Netherlands.loc[subset_Netherlands['Population'] == 1634611.0].index\n",
        "subset_Netherlands.loc[index_to_change, 'Population'] =  16346110.0\n",
        "index_to_change = subset_Netherlands.loc[subset_Netherlands['Population'] == 1622532.0].index\n",
        "subset_Netherlands.loc[index_to_change, 'Population'] =  16225320.0\n",
        "index_to_change = subset_Netherlands.loc[subset_Netherlands['Population'] == 164618.0].index\n",
        "subset_Netherlands.loc[index_to_change, 'Population'] =  162253200.0\n",
        "index_to_change = subset_Netherlands.loc[subset_Netherlands['Population'] == 165338800.0].index\n",
        "subset_Netherlands.loc[index_to_change, 'Population'] =  16533880.0\n",
        "index_to_change = subset_Netherlands.loc[subset_Netherlands['Population'] == 162253200.0].index\n",
        "subset_Netherlands.loc[index_to_change, 'Population'] =  16225320.0\n",
        "subset_Netherlands['Population'] = subset_Netherlands['Population'].astype(int)\n",
        "print(subset_Netherlands)"
      ],
      "metadata": {
        "colab": {
          "base_uri": "https://localhost:8080/"
        },
        "id": "i3TwjPkrgPNs",
        "outputId": "ea1d7ce4-6538-4099-c1a3-49b97bf754ff"
      },
      "execution_count": null,
      "outputs": [
        {
          "output_type": "stream",
          "name": "stdout",
          "text": [
            "          Country  Year     Status  Life expectancy  Adult mortality  \\\n",
            "1829  Netherlands  2015  Developed             81.9             57.0   \n",
            "1830  Netherlands  2014  Developed             81.7             58.0   \n",
            "1831  Netherlands  2013  Developed             81.4             60.0   \n",
            "1832  Netherlands  2012  Developed             81.1             62.0   \n",
            "1833  Netherlands  2011  Developed             81.1             63.0   \n",
            "1834  Netherlands  2010  Developed             88.0             64.0   \n",
            "1835  Netherlands  2009  Developed             86.0             65.0   \n",
            "1836  Netherlands  2008  Developed             83.0             68.0   \n",
            "1837  Netherlands  2007  Developed             82.0             68.0   \n",
            "1838  Netherlands  2006  Developed             79.8             71.0   \n",
            "1839  Netherlands  2005  Developed             79.4             72.0   \n",
            "1840  Netherlands  2004  Developed             79.2             77.0   \n",
            "1841  Netherlands  2003  Developed             78.7             80.0   \n",
            "1842  Netherlands  2002  Developed             78.4             81.0   \n",
            "1843  Netherlands  2001  Developed             78.3             82.0   \n",
            "1844  Netherlands  2000  Developed             78.1             84.0   \n",
            "\n",
            "      Infant deaths  Under-five deaths  Population  Schooling  \n",
            "1829              1                  1    16939923       18.1  \n",
            "1830              1                  1    16865800       18.1  \n",
            "1831              1                  1    16844320       18.1  \n",
            "1832              1                  1    16754962       18.1  \n",
            "1833              1                  1    16693740       17.2  \n",
            "1834              1                  1    16615394       17.0  \n",
            "1835              1                  1    16533880       16.9  \n",
            "1836              1                  1    16445593       16.8  \n",
            "1837              1                  1    16381696       16.6  \n",
            "1838              1                  1    16346110       16.5  \n",
            "1839              1                  1    16319868       16.4  \n",
            "1840              1                  1    16281779       16.5  \n",
            "1841              1                  1    16225320       16.5  \n",
            "1842              1                  1    16148929       16.9  \n",
            "1843              1                  1    16225320       16.7  \n",
            "1844              1                  1    15925513       16.5  \n"
          ]
        }
      ]
    },
    {
      "cell_type": "code",
      "source": [
        "# concatenate the Burundi and the Netherlands dataset\n",
        "concatenated_data = pd.concat([subset_Burundi, subset_Netherlands])\n",
        "print(concatenated_data)"
      ],
      "metadata": {
        "colab": {
          "base_uri": "https://localhost:8080/"
        },
        "id": "3bYB0WGJhMo6",
        "outputId": "08e5d343-00de-42c0-fa92-f9914c97be12"
      },
      "execution_count": null,
      "outputs": [
        {
          "output_type": "stream",
          "name": "stdout",
          "text": [
            "          Country  Year      Status  Life expectancy  Adult mortality  \\\n",
            "416       Burundi  2015  Developing             59.6            288.0   \n",
            "417       Burundi  2014  Developing             59.1            297.0   \n",
            "418       Burundi  2013  Developing             58.6            330.0   \n",
            "419       Burundi  2012  Developing             58.0            312.0   \n",
            "420       Burundi  2011  Developing             57.4            321.0   \n",
            "421       Burundi  2010  Developing             56.8            330.0   \n",
            "422       Burundi  2009  Developing             56.2            338.0   \n",
            "423       Burundi  2008  Developing             55.3            350.0   \n",
            "424       Burundi  2007  Developing             54.8            355.0   \n",
            "425       Burundi  2006  Developing             54.1            361.0   \n",
            "426       Burundi  2005  Developing             53.4            369.0   \n",
            "427       Burundi  2004  Developing             52.6            378.0   \n",
            "428       Burundi  2003  Developing             51.9            387.0   \n",
            "429       Burundi  2002  Developing             51.5            387.0   \n",
            "430       Burundi  2001  Developing             51.3            385.0   \n",
            "431       Burundi  2000  Developing             58.0            386.0   \n",
            "1829  Netherlands  2015   Developed             81.9             57.0   \n",
            "1830  Netherlands  2014   Developed             81.7             58.0   \n",
            "1831  Netherlands  2013   Developed             81.4             60.0   \n",
            "1832  Netherlands  2012   Developed             81.1             62.0   \n",
            "1833  Netherlands  2011   Developed             81.1             63.0   \n",
            "1834  Netherlands  2010   Developed             88.0             64.0   \n",
            "1835  Netherlands  2009   Developed             86.0             65.0   \n",
            "1836  Netherlands  2008   Developed             83.0             68.0   \n",
            "1837  Netherlands  2007   Developed             82.0             68.0   \n",
            "1838  Netherlands  2006   Developed             79.8             71.0   \n",
            "1839  Netherlands  2005   Developed             79.4             72.0   \n",
            "1840  Netherlands  2004   Developed             79.2             77.0   \n",
            "1841  Netherlands  2003   Developed             78.7             80.0   \n",
            "1842  Netherlands  2002   Developed             78.4             81.0   \n",
            "1843  Netherlands  2001   Developed             78.3             82.0   \n",
            "1844  Netherlands  2000   Developed             78.1             84.0   \n",
            "\n",
            "      Infant deaths  Under-five deaths  Population  Schooling  \n",
            "416              21                 31  11992700.0       10.6  \n",
            "417              22                 32   9891790.0       10.6  \n",
            "418              22                 32   9618600.0       10.5  \n",
            "419              22                 33   9319710.0       10.3  \n",
            "420              22                 33   9435800.0        9.9  \n",
            "421              23                 34   8766930.0        9.3  \n",
            "422              23                 34   8489310.0        8.6  \n",
            "423              23                 35   8212264.0        7.9  \n",
            "424              24                 36   7939573.0        7.2  \n",
            "425              24                 36   7675338.0        5.9  \n",
            "426              24                 37   7423289.0        5.6  \n",
            "427              24                 38   7182451.0        5.2  \n",
            "428              24                 38   6953113.0        4.7  \n",
            "429              24                 39   6741569.0        4.4  \n",
            "430              25                 40   6555829.0        4.5  \n",
            "431              25                 41   6476000.0        4.5  \n",
            "1829              1                  1  16939923.0       18.1  \n",
            "1830              1                  1  16865800.0       18.1  \n",
            "1831              1                  1  16844320.0       18.1  \n",
            "1832              1                  1  16754962.0       18.1  \n",
            "1833              1                  1  16693740.0       17.2  \n",
            "1834              1                  1  16615394.0       17.0  \n",
            "1835              1                  1  16533880.0       16.9  \n",
            "1836              1                  1  16445593.0       16.8  \n",
            "1837              1                  1  16381696.0       16.6  \n",
            "1838              1                  1  16346110.0       16.5  \n",
            "1839              1                  1  16319868.0       16.4  \n",
            "1840              1                  1  16281779.0       16.5  \n",
            "1841              1                  1  16225320.0       16.5  \n",
            "1842              1                  1  16148929.0       16.9  \n",
            "1843              1                  1  16225320.0       16.7  \n",
            "1844              1                  1  15925513.0       16.5  \n"
          ]
        }
      ]
    },
    {
      "cell_type": "markdown",
      "source": [
        "# Results"
      ],
      "metadata": {
        "id": "qyTACt7E--sy"
      }
    },
    {
      "cell_type": "code",
      "source": [
        "# getting population descriptives\n",
        "population_stats = concatenated_data.groupby('Country')['Population'].describe()\n",
        "print(population_stats)"
      ],
      "metadata": {
        "colab": {
          "base_uri": "https://localhost:8080/"
        },
        "id": "7TrQAsQ0hmhY",
        "outputId": "319fe49a-f5ab-49f1-f041-29051fbf7024"
      },
      "execution_count": null,
      "outputs": [
        {
          "output_type": "stream",
          "name": "stdout",
          "text": [
            "             count          mean           std         min          25%  \\\n",
            "Country                                                                   \n",
            "Burundi       16.0  8.292142e+06  1.497743e+06   6476000.0   7125116.50   \n",
            "Netherlands   16.0  1.647176e+07  2.915513e+05  15925513.0  16267664.25   \n",
            "\n",
            "                    50%         75%         max  \n",
            "Country                                          \n",
            "Burundi       8075918.5   9348732.5  11992700.0  \n",
            "Netherlands  16413644.5  16709045.5  16939923.0  \n"
          ]
        }
      ]
    },
    {
      "cell_type": "code",
      "source": [
        "# getting an interactive graph (with tooltip and legenda) for population for Burundi and the Netherlands\n",
        "\n",
        "selection = alt.selection_multi(fields=['Country'], bind='legend')\n",
        "\n",
        "chart = alt.Chart(concatenated_data).mark_line().encode(\n",
        "    x='Year:O',\n",
        "    y='Population:Q',\n",
        "    color='Country:N',\n",
        "    opacity=alt.condition(selection, alt.value(1), alt.value(0.2)),\n",
        "    tooltip=['Year:O', 'Population:Q', 'Country:N']  # Add tooltip here\n",
        ").add_selection(\n",
        "    selection\n",
        ").properties(\n",
        "    title='Population of The Netherlands and Burundi (2000-2015)',\n",
        "    width=600,\n",
        "    height=400\n",
        ")\n",
        "\n",
        "\n",
        "chart"
      ],
      "metadata": {
        "colab": {
          "base_uri": "https://localhost:8080/",
          "height": 498
        },
        "id": "ik6pzxI7rNVi",
        "outputId": "c0be414a-47d8-486c-8e9c-db0cb3e13445"
      },
      "execution_count": null,
      "outputs": [
        {
          "output_type": "execute_result",
          "data": {
            "text/html": [
              "\n",
              "<div id=\"altair-viz-defd44239f0b446b82bffc19aca37e29\"></div>\n",
              "<script type=\"text/javascript\">\n",
              "  var VEGA_DEBUG = (typeof VEGA_DEBUG == \"undefined\") ? {} : VEGA_DEBUG;\n",
              "  (function(spec, embedOpt){\n",
              "    let outputDiv = document.currentScript.previousElementSibling;\n",
              "    if (outputDiv.id !== \"altair-viz-defd44239f0b446b82bffc19aca37e29\") {\n",
              "      outputDiv = document.getElementById(\"altair-viz-defd44239f0b446b82bffc19aca37e29\");\n",
              "    }\n",
              "    const paths = {\n",
              "      \"vega\": \"https://cdn.jsdelivr.net/npm//vega@5?noext\",\n",
              "      \"vega-lib\": \"https://cdn.jsdelivr.net/npm//vega-lib?noext\",\n",
              "      \"vega-lite\": \"https://cdn.jsdelivr.net/npm//vega-lite@4.17.0?noext\",\n",
              "      \"vega-embed\": \"https://cdn.jsdelivr.net/npm//vega-embed@6?noext\",\n",
              "    };\n",
              "\n",
              "    function maybeLoadScript(lib, version) {\n",
              "      var key = `${lib.replace(\"-\", \"\")}_version`;\n",
              "      return (VEGA_DEBUG[key] == version) ?\n",
              "        Promise.resolve(paths[lib]) :\n",
              "        new Promise(function(resolve, reject) {\n",
              "          var s = document.createElement('script');\n",
              "          document.getElementsByTagName(\"head\")[0].appendChild(s);\n",
              "          s.async = true;\n",
              "          s.onload = () => {\n",
              "            VEGA_DEBUG[key] = version;\n",
              "            return resolve(paths[lib]);\n",
              "          };\n",
              "          s.onerror = () => reject(`Error loading script: ${paths[lib]}`);\n",
              "          s.src = paths[lib];\n",
              "        });\n",
              "    }\n",
              "\n",
              "    function showError(err) {\n",
              "      outputDiv.innerHTML = `<div class=\"error\" style=\"color:red;\">${err}</div>`;\n",
              "      throw err;\n",
              "    }\n",
              "\n",
              "    function displayChart(vegaEmbed) {\n",
              "      vegaEmbed(outputDiv, spec, embedOpt)\n",
              "        .catch(err => showError(`Javascript Error: ${err.message}<br>This usually means there's a typo in your chart specification. See the javascript console for the full traceback.`));\n",
              "    }\n",
              "\n",
              "    if(typeof define === \"function\" && define.amd) {\n",
              "      requirejs.config({paths});\n",
              "      require([\"vega-embed\"], displayChart, err => showError(`Error loading script: ${err.message}`));\n",
              "    } else {\n",
              "      maybeLoadScript(\"vega\", \"5\")\n",
              "        .then(() => maybeLoadScript(\"vega-lite\", \"4.17.0\"))\n",
              "        .then(() => maybeLoadScript(\"vega-embed\", \"6\"))\n",
              "        .catch(showError)\n",
              "        .then(() => displayChart(vegaEmbed));\n",
              "    }\n",
              "  })({\"config\": {\"view\": {\"continuousWidth\": 400, \"continuousHeight\": 300}}, \"data\": {\"name\": \"data-62f4c695e90ba80382457f98dad287db\"}, \"mark\": \"line\", \"encoding\": {\"color\": {\"field\": \"Country\", \"type\": \"nominal\"}, \"opacity\": {\"condition\": {\"value\": 1, \"selection\": \"selector002\"}, \"value\": 0.2}, \"tooltip\": [{\"field\": \"Year\", \"type\": \"ordinal\"}, {\"field\": \"Population\", \"type\": \"quantitative\"}, {\"field\": \"Country\", \"type\": \"nominal\"}], \"x\": {\"field\": \"Year\", \"type\": \"ordinal\"}, \"y\": {\"field\": \"Population\", \"type\": \"quantitative\"}}, \"height\": 400, \"selection\": {\"selector002\": {\"type\": \"multi\", \"fields\": [\"Country\"], \"bind\": \"legend\"}}, \"title\": \"Population of The Netherlands and Burundi (2000-2015)\", \"width\": 600, \"$schema\": \"https://vega.github.io/schema/vega-lite/v4.17.0.json\", \"datasets\": {\"data-62f4c695e90ba80382457f98dad287db\": [{\"Country\": \"Burundi\", \"Year\": 2015, \"Status\": \"Developing\", \"Life expectancy\": 59.6, \"Adult mortality\": 288.0, \"Infant deaths\": 21, \"Under-five deaths\": 31, \"Population\": 11992700.0, \"Schooling\": 10.6}, {\"Country\": \"Burundi\", \"Year\": 2014, \"Status\": \"Developing\", \"Life expectancy\": 59.1, \"Adult mortality\": 297.0, \"Infant deaths\": 22, \"Under-five deaths\": 32, \"Population\": 9891790.0, \"Schooling\": 10.6}, {\"Country\": \"Burundi\", \"Year\": 2013, \"Status\": \"Developing\", \"Life expectancy\": 58.6, \"Adult mortality\": 330.0, \"Infant deaths\": 22, \"Under-five deaths\": 32, \"Population\": 9618600.0, \"Schooling\": 10.5}, {\"Country\": \"Burundi\", \"Year\": 2012, \"Status\": \"Developing\", \"Life expectancy\": 58.0, \"Adult mortality\": 312.0, \"Infant deaths\": 22, \"Under-five deaths\": 33, \"Population\": 9319710.0, \"Schooling\": 10.3}, {\"Country\": \"Burundi\", \"Year\": 2011, \"Status\": \"Developing\", \"Life expectancy\": 57.4, \"Adult mortality\": 321.0, \"Infant deaths\": 22, \"Under-five deaths\": 33, \"Population\": 9435800.0, \"Schooling\": 9.9}, {\"Country\": \"Burundi\", \"Year\": 2010, \"Status\": \"Developing\", \"Life expectancy\": 56.8, \"Adult mortality\": 330.0, \"Infant deaths\": 23, \"Under-five deaths\": 34, \"Population\": 8766930.0, \"Schooling\": 9.3}, {\"Country\": \"Burundi\", \"Year\": 2009, \"Status\": \"Developing\", \"Life expectancy\": 56.2, \"Adult mortality\": 338.0, \"Infant deaths\": 23, \"Under-five deaths\": 34, \"Population\": 8489310.0, \"Schooling\": 8.6}, {\"Country\": \"Burundi\", \"Year\": 2008, \"Status\": \"Developing\", \"Life expectancy\": 55.3, \"Adult mortality\": 350.0, \"Infant deaths\": 23, \"Under-five deaths\": 35, \"Population\": 8212264.0, \"Schooling\": 7.9}, {\"Country\": \"Burundi\", \"Year\": 2007, \"Status\": \"Developing\", \"Life expectancy\": 54.8, \"Adult mortality\": 355.0, \"Infant deaths\": 24, \"Under-five deaths\": 36, \"Population\": 7939573.0, \"Schooling\": 7.2}, {\"Country\": \"Burundi\", \"Year\": 2006, \"Status\": \"Developing\", \"Life expectancy\": 54.1, \"Adult mortality\": 361.0, \"Infant deaths\": 24, \"Under-five deaths\": 36, \"Population\": 7675338.0, \"Schooling\": 5.9}, {\"Country\": \"Burundi\", \"Year\": 2005, \"Status\": \"Developing\", \"Life expectancy\": 53.4, \"Adult mortality\": 369.0, \"Infant deaths\": 24, \"Under-five deaths\": 37, \"Population\": 7423289.0, \"Schooling\": 5.6}, {\"Country\": \"Burundi\", \"Year\": 2004, \"Status\": \"Developing\", \"Life expectancy\": 52.6, \"Adult mortality\": 378.0, \"Infant deaths\": 24, \"Under-five deaths\": 38, \"Population\": 7182451.0, \"Schooling\": 5.2}, {\"Country\": \"Burundi\", \"Year\": 2003, \"Status\": \"Developing\", \"Life expectancy\": 51.9, \"Adult mortality\": 387.0, \"Infant deaths\": 24, \"Under-five deaths\": 38, \"Population\": 6953113.0, \"Schooling\": 4.7}, {\"Country\": \"Burundi\", \"Year\": 2002, \"Status\": \"Developing\", \"Life expectancy\": 51.5, \"Adult mortality\": 387.0, \"Infant deaths\": 24, \"Under-five deaths\": 39, \"Population\": 6741569.0, \"Schooling\": 4.4}, {\"Country\": \"Burundi\", \"Year\": 2001, \"Status\": \"Developing\", \"Life expectancy\": 51.3, \"Adult mortality\": 385.0, \"Infant deaths\": 25, \"Under-five deaths\": 40, \"Population\": 6555829.0, \"Schooling\": 4.5}, {\"Country\": \"Burundi\", \"Year\": 2000, \"Status\": \"Developing\", \"Life expectancy\": 58.0, \"Adult mortality\": 386.0, \"Infant deaths\": 25, \"Under-five deaths\": 41, \"Population\": 6476000.0, \"Schooling\": 4.5}, {\"Country\": \"Netherlands\", \"Year\": 2015, \"Status\": \"Developed\", \"Life expectancy\": 81.9, \"Adult mortality\": 57.0, \"Infant deaths\": 1, \"Under-five deaths\": 1, \"Population\": 16939923.0, \"Schooling\": 18.1}, {\"Country\": \"Netherlands\", \"Year\": 2014, \"Status\": \"Developed\", \"Life expectancy\": 81.7, \"Adult mortality\": 58.0, \"Infant deaths\": 1, \"Under-five deaths\": 1, \"Population\": 16865800.0, \"Schooling\": 18.1}, {\"Country\": \"Netherlands\", \"Year\": 2013, \"Status\": \"Developed\", \"Life expectancy\": 81.4, \"Adult mortality\": 60.0, \"Infant deaths\": 1, \"Under-five deaths\": 1, \"Population\": 16844320.0, \"Schooling\": 18.1}, {\"Country\": \"Netherlands\", \"Year\": 2012, \"Status\": \"Developed\", \"Life expectancy\": 81.1, \"Adult mortality\": 62.0, \"Infant deaths\": 1, \"Under-five deaths\": 1, \"Population\": 16754962.0, \"Schooling\": 18.1}, {\"Country\": \"Netherlands\", \"Year\": 2011, \"Status\": \"Developed\", \"Life expectancy\": 81.1, \"Adult mortality\": 63.0, \"Infant deaths\": 1, \"Under-five deaths\": 1, \"Population\": 16693740.0, \"Schooling\": 17.2}, {\"Country\": \"Netherlands\", \"Year\": 2010, \"Status\": \"Developed\", \"Life expectancy\": 88.0, \"Adult mortality\": 64.0, \"Infant deaths\": 1, \"Under-five deaths\": 1, \"Population\": 16615394.0, \"Schooling\": 17.0}, {\"Country\": \"Netherlands\", \"Year\": 2009, \"Status\": \"Developed\", \"Life expectancy\": 86.0, \"Adult mortality\": 65.0, \"Infant deaths\": 1, \"Under-five deaths\": 1, \"Population\": 16533880.0, \"Schooling\": 16.9}, {\"Country\": \"Netherlands\", \"Year\": 2008, \"Status\": \"Developed\", \"Life expectancy\": 83.0, \"Adult mortality\": 68.0, \"Infant deaths\": 1, \"Under-five deaths\": 1, \"Population\": 16445593.0, \"Schooling\": 16.8}, {\"Country\": \"Netherlands\", \"Year\": 2007, \"Status\": \"Developed\", \"Life expectancy\": 82.0, \"Adult mortality\": 68.0, \"Infant deaths\": 1, \"Under-five deaths\": 1, \"Population\": 16381696.0, \"Schooling\": 16.6}, {\"Country\": \"Netherlands\", \"Year\": 2006, \"Status\": \"Developed\", \"Life expectancy\": 79.8, \"Adult mortality\": 71.0, \"Infant deaths\": 1, \"Under-five deaths\": 1, \"Population\": 16346110.0, \"Schooling\": 16.5}, {\"Country\": \"Netherlands\", \"Year\": 2005, \"Status\": \"Developed\", \"Life expectancy\": 79.4, \"Adult mortality\": 72.0, \"Infant deaths\": 1, \"Under-five deaths\": 1, \"Population\": 16319868.0, \"Schooling\": 16.4}, {\"Country\": \"Netherlands\", \"Year\": 2004, \"Status\": \"Developed\", \"Life expectancy\": 79.2, \"Adult mortality\": 77.0, \"Infant deaths\": 1, \"Under-five deaths\": 1, \"Population\": 16281779.0, \"Schooling\": 16.5}, {\"Country\": \"Netherlands\", \"Year\": 2003, \"Status\": \"Developed\", \"Life expectancy\": 78.7, \"Adult mortality\": 80.0, \"Infant deaths\": 1, \"Under-five deaths\": 1, \"Population\": 16225320.0, \"Schooling\": 16.5}, {\"Country\": \"Netherlands\", \"Year\": 2002, \"Status\": \"Developed\", \"Life expectancy\": 78.4, \"Adult mortality\": 81.0, \"Infant deaths\": 1, \"Under-five deaths\": 1, \"Population\": 16148929.0, \"Schooling\": 16.9}, {\"Country\": \"Netherlands\", \"Year\": 2001, \"Status\": \"Developed\", \"Life expectancy\": 78.3, \"Adult mortality\": 82.0, \"Infant deaths\": 1, \"Under-five deaths\": 1, \"Population\": 16225320.0, \"Schooling\": 16.7}, {\"Country\": \"Netherlands\", \"Year\": 2000, \"Status\": \"Developed\", \"Life expectancy\": 78.1, \"Adult mortality\": 84.0, \"Infant deaths\": 1, \"Under-five deaths\": 1, \"Population\": 15925513.0, \"Schooling\": 16.5}]}}, {\"mode\": \"vega-lite\"});\n",
              "</script>"
            ],
            "text/plain": [
              "alt.Chart(...)"
            ]
          },
          "metadata": {},
          "execution_count": 32
        }
      ]
    },
    {
      "cell_type": "code",
      "source": [
        "# create scatterplots for Life Expectancty, Adult Mortality, Infant Deaths and Under-Five Deaths\n",
        "def create_scatter_plot(concatenated_data, x_var, y_var, title, y_title):\n",
        "    chart = alt.Chart(concatenated_data).mark_point().encode(\n",
        "        x=alt.X(f'{x_var}:Q', title=x_var),\n",
        "        y=alt.Y(f'{y_var}:Q', title=y_title),\n",
        "        color='Country:N',\n",
        "        tooltip=['Country', 'Year', x_var, y_var]\n",
        "    ).properties(\n",
        "        title=title,\n",
        "        width=400,\n",
        "        height=300\n",
        "    )\n",
        "\n",
        "    regression_line = chart.transform_regression(x_var, y_var, groupby=['Country']).mark_line().encode(\n",
        "        color='Country:N'\n",
        "    )\n",
        "\n",
        "    return chart + regression_line\n",
        "\n",
        "y_titles = {\n",
        "    'Adult mortality': 'Inhabitants dying between 15 and 60 years per 1000',\n",
        "    'Infant deaths': 'Number of infant deaths per 1000',\n",
        "    'Under_five_deaths': 'Under-five deaths per 1000'\n",
        "}\n",
        "\n",
        "chart1 = create_scatter_plot(concatenated_data, 'Schooling', 'Life expectancy', 'Schooling vs. Life Expectancy', 'Life Expectancy (years)')\n",
        "chart2 = create_scatter_plot(concatenated_data, 'Schooling', 'Adult mortality', 'Schooling vs. Adult Mortality', y_titles['Adult mortality'])\n",
        "chart3 = create_scatter_plot(concatenated_data, 'Schooling', 'Infant deaths', 'Schooling vs. Infant Deaths', y_titles['Infant deaths'])\n",
        "chart4 = create_scatter_plot(concatenated_data, 'Schooling', 'Under-five deaths', 'Schooling vs. Under-Five Deaths', y_titles['Under_five_deaths'])\n",
        "\n",
        "final_chart = alt.hconcat(chart1, chart2, chart3, chart4).resolve_scale(color='independent')\n",
        "final_chart.display()"
      ],
      "metadata": {
        "colab": {
          "base_uri": "https://localhost:8080/",
          "height": 407
        },
        "id": "bgMeUqnzikLD",
        "outputId": "a4753cd5-d078-4509-f2c3-11bbce8b0e90"
      },
      "execution_count": null,
      "outputs": [
        {
          "output_type": "display_data",
          "data": {
            "text/html": [
              "\n",
              "<div id=\"altair-viz-f1742e5924104f9189191fbad591e2bb\"></div>\n",
              "<script type=\"text/javascript\">\n",
              "  var VEGA_DEBUG = (typeof VEGA_DEBUG == \"undefined\") ? {} : VEGA_DEBUG;\n",
              "  (function(spec, embedOpt){\n",
              "    let outputDiv = document.currentScript.previousElementSibling;\n",
              "    if (outputDiv.id !== \"altair-viz-f1742e5924104f9189191fbad591e2bb\") {\n",
              "      outputDiv = document.getElementById(\"altair-viz-f1742e5924104f9189191fbad591e2bb\");\n",
              "    }\n",
              "    const paths = {\n",
              "      \"vega\": \"https://cdn.jsdelivr.net/npm//vega@5?noext\",\n",
              "      \"vega-lib\": \"https://cdn.jsdelivr.net/npm//vega-lib?noext\",\n",
              "      \"vega-lite\": \"https://cdn.jsdelivr.net/npm//vega-lite@4.17.0?noext\",\n",
              "      \"vega-embed\": \"https://cdn.jsdelivr.net/npm//vega-embed@6?noext\",\n",
              "    };\n",
              "\n",
              "    function maybeLoadScript(lib, version) {\n",
              "      var key = `${lib.replace(\"-\", \"\")}_version`;\n",
              "      return (VEGA_DEBUG[key] == version) ?\n",
              "        Promise.resolve(paths[lib]) :\n",
              "        new Promise(function(resolve, reject) {\n",
              "          var s = document.createElement('script');\n",
              "          document.getElementsByTagName(\"head\")[0].appendChild(s);\n",
              "          s.async = true;\n",
              "          s.onload = () => {\n",
              "            VEGA_DEBUG[key] = version;\n",
              "            return resolve(paths[lib]);\n",
              "          };\n",
              "          s.onerror = () => reject(`Error loading script: ${paths[lib]}`);\n",
              "          s.src = paths[lib];\n",
              "        });\n",
              "    }\n",
              "\n",
              "    function showError(err) {\n",
              "      outputDiv.innerHTML = `<div class=\"error\" style=\"color:red;\">${err}</div>`;\n",
              "      throw err;\n",
              "    }\n",
              "\n",
              "    function displayChart(vegaEmbed) {\n",
              "      vegaEmbed(outputDiv, spec, embedOpt)\n",
              "        .catch(err => showError(`Javascript Error: ${err.message}<br>This usually means there's a typo in your chart specification. See the javascript console for the full traceback.`));\n",
              "    }\n",
              "\n",
              "    if(typeof define === \"function\" && define.amd) {\n",
              "      requirejs.config({paths});\n",
              "      require([\"vega-embed\"], displayChart, err => showError(`Error loading script: ${err.message}`));\n",
              "    } else {\n",
              "      maybeLoadScript(\"vega\", \"5\")\n",
              "        .then(() => maybeLoadScript(\"vega-lite\", \"4.17.0\"))\n",
              "        .then(() => maybeLoadScript(\"vega-embed\", \"6\"))\n",
              "        .catch(showError)\n",
              "        .then(() => displayChart(vegaEmbed));\n",
              "    }\n",
              "  })({\"config\": {\"view\": {\"continuousWidth\": 400, \"continuousHeight\": 300}}, \"hconcat\": [{\"layer\": [{\"mark\": \"point\", \"encoding\": {\"color\": {\"field\": \"Country\", \"type\": \"nominal\"}, \"tooltip\": [{\"field\": \"Country\", \"type\": \"nominal\"}, {\"field\": \"Year\", \"type\": \"quantitative\"}, {\"field\": \"Schooling\", \"type\": \"quantitative\"}, {\"field\": \"Life expectancy\", \"type\": \"quantitative\"}], \"x\": {\"field\": \"Schooling\", \"title\": \"Schooling\", \"type\": \"quantitative\"}, \"y\": {\"field\": \"Life expectancy\", \"title\": \"Life Expectancy (years)\", \"type\": \"quantitative\"}}, \"height\": 300, \"title\": \"Schooling vs. Life Expectancy\", \"width\": 400}, {\"mark\": \"line\", \"encoding\": {\"color\": {\"field\": \"Country\", \"type\": \"nominal\"}, \"tooltip\": [{\"field\": \"Country\", \"type\": \"nominal\"}, {\"field\": \"Year\", \"type\": \"quantitative\"}, {\"field\": \"Schooling\", \"type\": \"quantitative\"}, {\"field\": \"Life expectancy\", \"type\": \"quantitative\"}], \"x\": {\"field\": \"Schooling\", \"title\": \"Schooling\", \"type\": \"quantitative\"}, \"y\": {\"field\": \"Life expectancy\", \"title\": \"Life Expectancy (years)\", \"type\": \"quantitative\"}}, \"height\": 300, \"title\": \"Schooling vs. Life Expectancy\", \"transform\": [{\"on\": \"Schooling\", \"regression\": \"Life expectancy\", \"groupby\": [\"Country\"]}], \"width\": 400}]}, {\"layer\": [{\"mark\": \"point\", \"encoding\": {\"color\": {\"field\": \"Country\", \"type\": \"nominal\"}, \"tooltip\": [{\"field\": \"Country\", \"type\": \"nominal\"}, {\"field\": \"Year\", \"type\": \"quantitative\"}, {\"field\": \"Schooling\", \"type\": \"quantitative\"}, {\"field\": \"Adult mortality\", \"type\": \"quantitative\"}], \"x\": {\"field\": \"Schooling\", \"title\": \"Schooling\", \"type\": \"quantitative\"}, \"y\": {\"field\": \"Adult mortality\", \"title\": \"Inhabitants dying between 15 and 60 years per 1000\", \"type\": \"quantitative\"}}, \"height\": 300, \"title\": \"Schooling vs. Adult Mortality\", \"width\": 400}, {\"mark\": \"line\", \"encoding\": {\"color\": {\"field\": \"Country\", \"type\": \"nominal\"}, \"tooltip\": [{\"field\": \"Country\", \"type\": \"nominal\"}, {\"field\": \"Year\", \"type\": \"quantitative\"}, {\"field\": \"Schooling\", \"type\": \"quantitative\"}, {\"field\": \"Adult mortality\", \"type\": \"quantitative\"}], \"x\": {\"field\": \"Schooling\", \"title\": \"Schooling\", \"type\": \"quantitative\"}, \"y\": {\"field\": \"Adult mortality\", \"title\": \"Inhabitants dying between 15 and 60 years per 1000\", \"type\": \"quantitative\"}}, \"height\": 300, \"title\": \"Schooling vs. Adult Mortality\", \"transform\": [{\"on\": \"Schooling\", \"regression\": \"Adult mortality\", \"groupby\": [\"Country\"]}], \"width\": 400}]}, {\"layer\": [{\"mark\": \"point\", \"encoding\": {\"color\": {\"field\": \"Country\", \"type\": \"nominal\"}, \"tooltip\": [{\"field\": \"Country\", \"type\": \"nominal\"}, {\"field\": \"Year\", \"type\": \"quantitative\"}, {\"field\": \"Schooling\", \"type\": \"quantitative\"}, {\"field\": \"Infant deaths\", \"type\": \"quantitative\"}], \"x\": {\"field\": \"Schooling\", \"title\": \"Schooling\", \"type\": \"quantitative\"}, \"y\": {\"field\": \"Infant deaths\", \"title\": \"Number of infant deaths per 1000\", \"type\": \"quantitative\"}}, \"height\": 300, \"title\": \"Schooling vs. Infant Deaths\", \"width\": 400}, {\"mark\": \"line\", \"encoding\": {\"color\": {\"field\": \"Country\", \"type\": \"nominal\"}, \"tooltip\": [{\"field\": \"Country\", \"type\": \"nominal\"}, {\"field\": \"Year\", \"type\": \"quantitative\"}, {\"field\": \"Schooling\", \"type\": \"quantitative\"}, {\"field\": \"Infant deaths\", \"type\": \"quantitative\"}], \"x\": {\"field\": \"Schooling\", \"title\": \"Schooling\", \"type\": \"quantitative\"}, \"y\": {\"field\": \"Infant deaths\", \"title\": \"Number of infant deaths per 1000\", \"type\": \"quantitative\"}}, \"height\": 300, \"title\": \"Schooling vs. Infant Deaths\", \"transform\": [{\"on\": \"Schooling\", \"regression\": \"Infant deaths\", \"groupby\": [\"Country\"]}], \"width\": 400}]}, {\"layer\": [{\"mark\": \"point\", \"encoding\": {\"color\": {\"field\": \"Country\", \"type\": \"nominal\"}, \"tooltip\": [{\"field\": \"Country\", \"type\": \"nominal\"}, {\"field\": \"Year\", \"type\": \"quantitative\"}, {\"field\": \"Schooling\", \"type\": \"quantitative\"}, {\"field\": \"Under-five deaths\", \"type\": \"quantitative\"}], \"x\": {\"field\": \"Schooling\", \"title\": \"Schooling\", \"type\": \"quantitative\"}, \"y\": {\"field\": \"Under-five deaths\", \"title\": \"Under-five deaths per 1000\", \"type\": \"quantitative\"}}, \"height\": 300, \"title\": \"Schooling vs. Under-Five Deaths\", \"width\": 400}, {\"mark\": \"line\", \"encoding\": {\"color\": {\"field\": \"Country\", \"type\": \"nominal\"}, \"tooltip\": [{\"field\": \"Country\", \"type\": \"nominal\"}, {\"field\": \"Year\", \"type\": \"quantitative\"}, {\"field\": \"Schooling\", \"type\": \"quantitative\"}, {\"field\": \"Under-five deaths\", \"type\": \"quantitative\"}], \"x\": {\"field\": \"Schooling\", \"title\": \"Schooling\", \"type\": \"quantitative\"}, \"y\": {\"field\": \"Under-five deaths\", \"title\": \"Under-five deaths per 1000\", \"type\": \"quantitative\"}}, \"height\": 300, \"title\": \"Schooling vs. Under-Five Deaths\", \"transform\": [{\"on\": \"Schooling\", \"regression\": \"Under-five deaths\", \"groupby\": [\"Country\"]}], \"width\": 400}]}], \"data\": {\"name\": \"data-62f4c695e90ba80382457f98dad287db\"}, \"resolve\": {\"scale\": {\"color\": \"independent\"}}, \"$schema\": \"https://vega.github.io/schema/vega-lite/v4.17.0.json\", \"datasets\": {\"data-62f4c695e90ba80382457f98dad287db\": [{\"Country\": \"Burundi\", \"Year\": 2015, \"Status\": \"Developing\", \"Life expectancy\": 59.6, \"Adult mortality\": 288.0, \"Infant deaths\": 21, \"Under-five deaths\": 31, \"Population\": 11992700.0, \"Schooling\": 10.6}, {\"Country\": \"Burundi\", \"Year\": 2014, \"Status\": \"Developing\", \"Life expectancy\": 59.1, \"Adult mortality\": 297.0, \"Infant deaths\": 22, \"Under-five deaths\": 32, \"Population\": 9891790.0, \"Schooling\": 10.6}, {\"Country\": \"Burundi\", \"Year\": 2013, \"Status\": \"Developing\", \"Life expectancy\": 58.6, \"Adult mortality\": 330.0, \"Infant deaths\": 22, \"Under-five deaths\": 32, \"Population\": 9618600.0, \"Schooling\": 10.5}, {\"Country\": \"Burundi\", \"Year\": 2012, \"Status\": \"Developing\", \"Life expectancy\": 58.0, \"Adult mortality\": 312.0, \"Infant deaths\": 22, \"Under-five deaths\": 33, \"Population\": 9319710.0, \"Schooling\": 10.3}, {\"Country\": \"Burundi\", \"Year\": 2011, \"Status\": \"Developing\", \"Life expectancy\": 57.4, \"Adult mortality\": 321.0, \"Infant deaths\": 22, \"Under-five deaths\": 33, \"Population\": 9435800.0, \"Schooling\": 9.9}, {\"Country\": \"Burundi\", \"Year\": 2010, \"Status\": \"Developing\", \"Life expectancy\": 56.8, \"Adult mortality\": 330.0, \"Infant deaths\": 23, \"Under-five deaths\": 34, \"Population\": 8766930.0, \"Schooling\": 9.3}, {\"Country\": \"Burundi\", \"Year\": 2009, \"Status\": \"Developing\", \"Life expectancy\": 56.2, \"Adult mortality\": 338.0, \"Infant deaths\": 23, \"Under-five deaths\": 34, \"Population\": 8489310.0, \"Schooling\": 8.6}, {\"Country\": \"Burundi\", \"Year\": 2008, \"Status\": \"Developing\", \"Life expectancy\": 55.3, \"Adult mortality\": 350.0, \"Infant deaths\": 23, \"Under-five deaths\": 35, \"Population\": 8212264.0, \"Schooling\": 7.9}, {\"Country\": \"Burundi\", \"Year\": 2007, \"Status\": \"Developing\", \"Life expectancy\": 54.8, \"Adult mortality\": 355.0, \"Infant deaths\": 24, \"Under-five deaths\": 36, \"Population\": 7939573.0, \"Schooling\": 7.2}, {\"Country\": \"Burundi\", \"Year\": 2006, \"Status\": \"Developing\", \"Life expectancy\": 54.1, \"Adult mortality\": 361.0, \"Infant deaths\": 24, \"Under-five deaths\": 36, \"Population\": 7675338.0, \"Schooling\": 5.9}, {\"Country\": \"Burundi\", \"Year\": 2005, \"Status\": \"Developing\", \"Life expectancy\": 53.4, \"Adult mortality\": 369.0, \"Infant deaths\": 24, \"Under-five deaths\": 37, \"Population\": 7423289.0, \"Schooling\": 5.6}, {\"Country\": \"Burundi\", \"Year\": 2004, \"Status\": \"Developing\", \"Life expectancy\": 52.6, \"Adult mortality\": 378.0, \"Infant deaths\": 24, \"Under-five deaths\": 38, \"Population\": 7182451.0, \"Schooling\": 5.2}, {\"Country\": \"Burundi\", \"Year\": 2003, \"Status\": \"Developing\", \"Life expectancy\": 51.9, \"Adult mortality\": 387.0, \"Infant deaths\": 24, \"Under-five deaths\": 38, \"Population\": 6953113.0, \"Schooling\": 4.7}, {\"Country\": \"Burundi\", \"Year\": 2002, \"Status\": \"Developing\", \"Life expectancy\": 51.5, \"Adult mortality\": 387.0, \"Infant deaths\": 24, \"Under-five deaths\": 39, \"Population\": 6741569.0, \"Schooling\": 4.4}, {\"Country\": \"Burundi\", \"Year\": 2001, \"Status\": \"Developing\", \"Life expectancy\": 51.3, \"Adult mortality\": 385.0, \"Infant deaths\": 25, \"Under-five deaths\": 40, \"Population\": 6555829.0, \"Schooling\": 4.5}, {\"Country\": \"Burundi\", \"Year\": 2000, \"Status\": \"Developing\", \"Life expectancy\": 58.0, \"Adult mortality\": 386.0, \"Infant deaths\": 25, \"Under-five deaths\": 41, \"Population\": 6476000.0, \"Schooling\": 4.5}, {\"Country\": \"Netherlands\", \"Year\": 2015, \"Status\": \"Developed\", \"Life expectancy\": 81.9, \"Adult mortality\": 57.0, \"Infant deaths\": 1, \"Under-five deaths\": 1, \"Population\": 16939923.0, \"Schooling\": 18.1}, {\"Country\": \"Netherlands\", \"Year\": 2014, \"Status\": \"Developed\", \"Life expectancy\": 81.7, \"Adult mortality\": 58.0, \"Infant deaths\": 1, \"Under-five deaths\": 1, \"Population\": 16865800.0, \"Schooling\": 18.1}, {\"Country\": \"Netherlands\", \"Year\": 2013, \"Status\": \"Developed\", \"Life expectancy\": 81.4, \"Adult mortality\": 60.0, \"Infant deaths\": 1, \"Under-five deaths\": 1, \"Population\": 16844320.0, \"Schooling\": 18.1}, {\"Country\": \"Netherlands\", \"Year\": 2012, \"Status\": \"Developed\", \"Life expectancy\": 81.1, \"Adult mortality\": 62.0, \"Infant deaths\": 1, \"Under-five deaths\": 1, \"Population\": 16754962.0, \"Schooling\": 18.1}, {\"Country\": \"Netherlands\", \"Year\": 2011, \"Status\": \"Developed\", \"Life expectancy\": 81.1, \"Adult mortality\": 63.0, \"Infant deaths\": 1, \"Under-five deaths\": 1, \"Population\": 16693740.0, \"Schooling\": 17.2}, {\"Country\": \"Netherlands\", \"Year\": 2010, \"Status\": \"Developed\", \"Life expectancy\": 88.0, \"Adult mortality\": 64.0, \"Infant deaths\": 1, \"Under-five deaths\": 1, \"Population\": 16615394.0, \"Schooling\": 17.0}, {\"Country\": \"Netherlands\", \"Year\": 2009, \"Status\": \"Developed\", \"Life expectancy\": 86.0, \"Adult mortality\": 65.0, \"Infant deaths\": 1, \"Under-five deaths\": 1, \"Population\": 16533880.0, \"Schooling\": 16.9}, {\"Country\": \"Netherlands\", \"Year\": 2008, \"Status\": \"Developed\", \"Life expectancy\": 83.0, \"Adult mortality\": 68.0, \"Infant deaths\": 1, \"Under-five deaths\": 1, \"Population\": 16445593.0, \"Schooling\": 16.8}, {\"Country\": \"Netherlands\", \"Year\": 2007, \"Status\": \"Developed\", \"Life expectancy\": 82.0, \"Adult mortality\": 68.0, \"Infant deaths\": 1, \"Under-five deaths\": 1, \"Population\": 16381696.0, \"Schooling\": 16.6}, {\"Country\": \"Netherlands\", \"Year\": 2006, \"Status\": \"Developed\", \"Life expectancy\": 79.8, \"Adult mortality\": 71.0, \"Infant deaths\": 1, \"Under-five deaths\": 1, \"Population\": 16346110.0, \"Schooling\": 16.5}, {\"Country\": \"Netherlands\", \"Year\": 2005, \"Status\": \"Developed\", \"Life expectancy\": 79.4, \"Adult mortality\": 72.0, \"Infant deaths\": 1, \"Under-five deaths\": 1, \"Population\": 16319868.0, \"Schooling\": 16.4}, {\"Country\": \"Netherlands\", \"Year\": 2004, \"Status\": \"Developed\", \"Life expectancy\": 79.2, \"Adult mortality\": 77.0, \"Infant deaths\": 1, \"Under-five deaths\": 1, \"Population\": 16281779.0, \"Schooling\": 16.5}, {\"Country\": \"Netherlands\", \"Year\": 2003, \"Status\": \"Developed\", \"Life expectancy\": 78.7, \"Adult mortality\": 80.0, \"Infant deaths\": 1, \"Under-five deaths\": 1, \"Population\": 16225320.0, \"Schooling\": 16.5}, {\"Country\": \"Netherlands\", \"Year\": 2002, \"Status\": \"Developed\", \"Life expectancy\": 78.4, \"Adult mortality\": 81.0, \"Infant deaths\": 1, \"Under-five deaths\": 1, \"Population\": 16148929.0, \"Schooling\": 16.9}, {\"Country\": \"Netherlands\", \"Year\": 2001, \"Status\": \"Developed\", \"Life expectancy\": 78.3, \"Adult mortality\": 82.0, \"Infant deaths\": 1, \"Under-five deaths\": 1, \"Population\": 16225320.0, \"Schooling\": 16.7}, {\"Country\": \"Netherlands\", \"Year\": 2000, \"Status\": \"Developed\", \"Life expectancy\": 78.1, \"Adult mortality\": 84.0, \"Infant deaths\": 1, \"Under-five deaths\": 1, \"Population\": 15925513.0, \"Schooling\": 16.5}]}}, {\"mode\": \"vega-lite\"});\n",
              "</script>"
            ],
            "text/plain": [
              "alt.HConcatChart(...)"
            ]
          },
          "metadata": {}
        }
      ]
    },
    {
      "cell_type": "markdown",
      "source": [
        "# Conclusion\n",
        "Schooling has a positive effect on Life Expectancy, Adult Mortality, Infant Deaths and Under-Five Deaths.\n"
      ],
      "metadata": {
        "id": "q6A-AK4M_BRU"
      }
    }
  ]
}