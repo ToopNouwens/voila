{
  "nbformat": 4,
  "nbformat_minor": 0,
  "metadata": {
    "colab": {
      "provenance": [],
      "include_colab_link": true
    },
    "kernelspec": {
      "name": "python3",
      "display_name": "Python 3"
    },
    "language_info": {
      "name": "python"
    }
  },
  "cells": [
    {
      "cell_type": "markdown",
      "metadata": {
        "id": "view-in-github",
        "colab_type": "text"
      },
      "source": [
        "<a href=\"https://colab.research.google.com/github/ToopNouwens/voila/blob/main/Take_Home_Exam_Finale.ipynb\" target=\"_parent\"><img src=\"https://colab.research.google.com/assets/colab-badge.svg\" alt=\"Open In Colab\"/></a>"
      ]
    },
    {
      "cell_type": "code",
      "source": [
        "Dirk Steijger & Toop Nouwens student id:"
      ],
      "metadata": {
        "id": "rYQQk54kW1Ls",
        "colab": {
          "base_uri": "https://localhost:8080/",
          "height": 105
        },
        "outputId": "c611597f-ec78-4f59-c7e8-1433fe6664af"
      },
      "execution_count": null,
      "outputs": [
        {
          "output_type": "error",
          "ename": "SyntaxError",
          "evalue": "invalid syntax (<ipython-input-2-755f192cfa69>, line 1)",
          "traceback": [
            "\u001b[0;36m  File \u001b[0;32m\"<ipython-input-2-755f192cfa69>\"\u001b[0;36m, line \u001b[0;32m1\u001b[0m\n\u001b[0;31m    Dirk Steijger & Toop Nouwens student id:\u001b[0m\n\u001b[0m         ^\u001b[0m\n\u001b[0;31mSyntaxError\u001b[0m\u001b[0;31m:\u001b[0m invalid syntax\n"
          ]
        }
      ]
    },
    {
      "cell_type": "code",
      "source": [
        "'How does schooling impact life expectancy and mortality rates in a developing country (Burundi) compared to a developed country (The Netherlands)?' #research question"
      ],
      "metadata": {
        "id": "il_cvIC_jaeR"
      },
      "execution_count": null,
      "outputs": []
    },
    {
      "cell_type": "code",
      "execution_count": null,
      "metadata": {
        "id": "COvBZp_ZWqcW"
      },
      "outputs": [],
      "source": [
        "import pandas as pd\n",
        "import altair as alt\n",
        "health = (pd.read_csv('https://raw.githubusercontent.com/NHameleers/dtz2025-datasets/master/CountryHealthFactors.csv'))\n"
      ]
    },
    {
      "cell_type": "code",
      "source": [],
      "metadata": {
        "id": "HjNW-PGCkwGe"
      },
      "execution_count": null,
      "outputs": []
    },
    {
      "cell_type": "code",
      "source": [
        "health.columns = health.columns.str.strip()"
      ],
      "metadata": {
        "id": "KNDp3Cg1XEiS"
      },
      "execution_count": null,
      "outputs": []
    },
    {
      "cell_type": "code",
      "source": [
        "health.drop(['Alcohol', 'percentage expenditure', 'Hepatitis B', 'Measles', 'Total expenditure', 'Diphtheria', 'GDP', 'thinness  1-19 years', 'thinness 5-9 years','BMI', 'Polio', 'Income composition of resources', 'HIV/AIDS'], axis=1)\n",
        "health = health.drop(['Alcohol', 'percentage expenditure', 'Hepatitis B', 'Measles', 'Total expenditure', 'Diphtheria', 'GDP', 'thinness  1-19 years', 'thinness 5-9 years','BMI', 'Polio', 'Income composition of resources', 'HIV/AIDS'], axis=1)"
      ],
      "metadata": {
        "id": "Vup2MYHlZ8GP"
      },
      "execution_count": null,
      "outputs": []
    },
    {
      "cell_type": "code",
      "source": [
        "health.rename(columns = {'infant deaths': 'Infant deaths', 'Adult Mortality': 'Adult mortality', 'under-five deaths': 'Under-five deaths', 'Life expectancy ': 'Life expectancy'})\n",
        "health = health.rename(columns = {'infant deaths': 'Infant deaths', 'Adult Mortality': 'Adult mortality', 'under-five deaths': 'Under-five deaths', 'Life expectancy ': 'Life expectancy'})"
      ],
      "metadata": {
        "id": "S0NYFBsyaoi6"
      },
      "execution_count": null,
      "outputs": []
    },
    {
      "cell_type": "code",
      "source": [
        "unique_countries = health['Country']. unique()\n",
        "print(unique_countries)"
      ],
      "metadata": {
        "colab": {
          "base_uri": "https://localhost:8080/"
        },
        "id": "Us1EQNFHbegO",
        "outputId": "a326812c-fd6e-4790-e83a-bbe0afd74187"
      },
      "execution_count": null,
      "outputs": [
        {
          "output_type": "stream",
          "name": "stdout",
          "text": [
            "['Afghanistan' 'Albania' 'Algeria' 'Angola' 'Antigua and Barbuda'\n",
            " 'Argentina' 'Armenia' 'Australia' 'Austria' 'Azerbaijan' 'Bahamas'\n",
            " 'Bahrain' 'Bangladesh' 'Barbados' 'Belarus' 'Belgium' 'Belize' 'Benin'\n",
            " 'Bhutan' 'Bolivia (Plurinational State of)' 'Bosnia and Herzegovina'\n",
            " 'Botswana' 'Brazil' 'Brunei Darussalam' 'Bulgaria' 'Burkina Faso'\n",
            " 'Burundi' \"Côte d'Ivoire\" 'Cabo Verde' 'Cambodia' 'Cameroon' 'Canada'\n",
            " 'Central African Republic' 'Chad' 'Chile' 'China' 'Colombia' 'Comoros'\n",
            " 'Congo' 'Cook Islands' 'Costa Rica' 'Croatia' 'Cuba' 'Cyprus' 'Czechia'\n",
            " \"Democratic People's Republic of Korea\"\n",
            " 'Democratic Republic of the Congo' 'Denmark' 'Djibouti' 'Dominica'\n",
            " 'Dominican Republic' 'Ecuador' 'Egypt' 'El Salvador' 'Equatorial Guinea'\n",
            " 'Eritrea' 'Estonia' 'Ethiopia' 'Fiji' 'Finland' 'France' 'Gabon' 'Gambia'\n",
            " 'Georgia' 'Germany' 'Ghana' 'Greece' 'Grenada' 'Guatemala' 'Guinea'\n",
            " 'Guinea-Bissau' 'Guyana' 'Haiti' 'Honduras' 'Hungary' 'Iceland' 'India'\n",
            " 'Indonesia' 'Iran (Islamic Republic of)' 'Iraq' 'Ireland' 'Israel'\n",
            " 'Italy' 'Jamaica' 'Japan' 'Jordan' 'Kazakhstan' 'Kenya' 'Kiribati'\n",
            " 'Kuwait' 'Kyrgyzstan' \"Lao People's Democratic Republic\" 'Latvia'\n",
            " 'Lebanon' 'Lesotho' 'Liberia' 'Libya' 'Lithuania' 'Luxembourg'\n",
            " 'Madagascar' 'Malawi' 'Malaysia' 'Maldives' 'Mali' 'Malta'\n",
            " 'Marshall Islands' 'Mauritania' 'Mauritius' 'Mexico'\n",
            " 'Micronesia (Federated States of)' 'Monaco' 'Mongolia' 'Montenegro'\n",
            " 'Morocco' 'Mozambique' 'Myanmar' 'Namibia' 'Nauru' 'Nepal' 'Netherlands'\n",
            " 'New Zealand' 'Nicaragua' 'Niger' 'Nigeria' 'Niue' 'Norway' 'Oman'\n",
            " 'Pakistan' 'Palau' 'Panama' 'Papua New Guinea' 'Paraguay' 'Peru'\n",
            " 'Philippines' 'Poland' 'Portugal' 'Qatar' 'Republic of Korea'\n",
            " 'Republic of Moldova' 'Romania' 'Russian Federation' 'Rwanda'\n",
            " 'Saint Kitts and Nevis' 'Saint Lucia' 'Saint Vincent and the Grenadines'\n",
            " 'Samoa' 'San Marino' 'Sao Tome and Principe' 'Saudi Arabia' 'Senegal'\n",
            " 'Serbia' 'Seychelles' 'Sierra Leone' 'Singapore' 'Slovakia' 'Slovenia'\n",
            " 'Solomon Islands' 'Somalia' 'South Africa' 'South Sudan' 'Spain'\n",
            " 'Sri Lanka' 'Sudan' 'Suriname' 'Swaziland' 'Sweden' 'Switzerland'\n",
            " 'Syrian Arab Republic' 'Tajikistan' 'Thailand'\n",
            " 'The former Yugoslav republic of Macedonia' 'Timor-Leste' 'Togo' 'Tonga'\n",
            " 'Trinidad and Tobago' 'Tunisia' 'Turkey' 'Turkmenistan' 'Tuvalu' 'Uganda'\n",
            " 'Ukraine' 'United Arab Emirates'\n",
            " 'United Kingdom of Great Britain and Northern Ireland'\n",
            " 'United Republic of Tanzania' 'United States of America' 'Uruguay'\n",
            " 'Uzbekistan' 'Vanuatu' 'Venezuela (Bolivarian Republic of)' 'Viet Nam'\n",
            " 'Yemen' 'Zambia' 'Zimbabwe']\n"
          ]
        }
      ]
    },
    {
      "cell_type": "code",
      "source": [
        "Burundi_rows = health[health['Country'] == 'Burundi']\n",
        "print(Burundi_rows)"
      ],
      "metadata": {
        "id": "tnxMZ5F9Y6uO",
        "colab": {
          "base_uri": "https://localhost:8080/"
        },
        "outputId": "a3186902-4324-499e-c3ab-88d4d0a4a623"
      },
      "execution_count": null,
      "outputs": [
        {
          "output_type": "stream",
          "name": "stdout",
          "text": [
            "     Country  Year      Status  Life expectancy  Adult mortality  \\\n",
            "416  Burundi  2015  Developing             59.6            288.0   \n",
            "417  Burundi  2014  Developing             59.1            297.0   \n",
            "418  Burundi  2013  Developing             58.6             33.0   \n",
            "419  Burundi  2012  Developing             58.0            312.0   \n",
            "420  Burundi  2011  Developing             57.4            321.0   \n",
            "421  Burundi  2010  Developing             56.8             33.0   \n",
            "422  Burundi  2009  Developing             56.2            338.0   \n",
            "423  Burundi  2008  Developing             55.3             35.0   \n",
            "424  Burundi  2007  Developing             54.8            355.0   \n",
            "425  Burundi  2006  Developing             54.1            361.0   \n",
            "426  Burundi  2005  Developing             53.4            369.0   \n",
            "427  Burundi  2004  Developing             52.6            378.0   \n",
            "428  Burundi  2003  Developing             51.9            387.0   \n",
            "429  Burundi  2002  Developing             51.5            387.0   \n",
            "430  Burundi  2001  Developing             51.3            385.0   \n",
            "431  Burundi  2000  Developing             58.0            386.0   \n",
            "\n",
            "     Infant deaths  Under-five deaths  Population  Schooling  \n",
            "416             21                 31    119927.0       10.6  \n",
            "417             22                 32    989179.0       10.6  \n",
            "418             22                 32     96186.0       10.5  \n",
            "419             22                 33    931971.0       10.3  \n",
            "420             22                 33     94358.0        9.9  \n",
            "421             23                 34    876693.0        9.3  \n",
            "422             23                 34    848931.0        8.6  \n",
            "423             23                 35   8212264.0        7.9  \n",
            "424             24                 36   7939573.0        7.2  \n",
            "425             24                 36   7675338.0        5.9  \n",
            "426             24                 37   7423289.0        5.6  \n",
            "427             24                 38   7182451.0        5.2  \n",
            "428             24                 38   6953113.0        4.7  \n",
            "429             24                 39   6741569.0        4.4  \n",
            "430             25                 40   6555829.0        4.5  \n",
            "431             25                 41      6476.0        4.5  \n"
          ]
        }
      ]
    },
    {
      "cell_type": "code",
      "source": [
        "subset_Burundi = health.iloc[416:432, :]\n",
        "subset_Burundi.to_csv('subset_Burundi.csc', index= True)"
      ],
      "metadata": {
        "id": "n2qQu1YbbcIg"
      },
      "execution_count": null,
      "outputs": []
    },
    {
      "cell_type": "code",
      "source": [
        "print(subset_Burundi.isnull().sum())"
      ],
      "metadata": {
        "colab": {
          "base_uri": "https://localhost:8080/"
        },
        "id": "WiZLYE3vler_",
        "outputId": "2b33dead-ceec-4f09-985a-b33e254c6b71"
      },
      "execution_count": null,
      "outputs": [
        {
          "output_type": "stream",
          "name": "stdout",
          "text": [
            "Country              0\n",
            "Year                 0\n",
            "Status               0\n",
            "Life expectancy      0\n",
            "Adult mortality      0\n",
            "Infant deaths        0\n",
            "Under-five deaths    0\n",
            "Population           0\n",
            "Schooling            0\n",
            "dtype: int64\n"
          ]
        }
      ]
    },
    {
      "cell_type": "code",
      "source": [
        "for column in subset_Burundi.select_dtypes(include=['float64', 'int64']).columns:\n",
        "    # Create a box plot for the current column\n",
        "    chart = alt.Chart(subset_Burundi).mark_boxplot().encode(\n",
        "        y=alt.Y(f'{column}:Q', title=column)  # Using f-string for dynamic column naming\n",
        "    ).properties(\n",
        "        width=400,\n",
        "        height=300,\n",
        "        title=f'Box Plot of {column}'\n",
        "    )\n",
        "\n",
        "    # Display the chart\n",
        "    chart.display()"
      ],
      "metadata": {
        "colab": {
          "base_uri": "https://localhost:8080/",
          "height": 1000
        },
        "id": "jqW3GIAhmMYN",
        "outputId": "843a9aa7-b42c-44de-c443-23550392c48c"
      },
      "execution_count": null,
      "outputs": [
        {
          "output_type": "display_data",
          "data": {
            "text/html": [
              "\n",
              "<div id=\"altair-viz-c4d8f6dd4709457dba93272b37f1f124\"></div>\n",
              "<script type=\"text/javascript\">\n",
              "  var VEGA_DEBUG = (typeof VEGA_DEBUG == \"undefined\") ? {} : VEGA_DEBUG;\n",
              "  (function(spec, embedOpt){\n",
              "    let outputDiv = document.currentScript.previousElementSibling;\n",
              "    if (outputDiv.id !== \"altair-viz-c4d8f6dd4709457dba93272b37f1f124\") {\n",
              "      outputDiv = document.getElementById(\"altair-viz-c4d8f6dd4709457dba93272b37f1f124\");\n",
              "    }\n",
              "    const paths = {\n",
              "      \"vega\": \"https://cdn.jsdelivr.net/npm//vega@5?noext\",\n",
              "      \"vega-lib\": \"https://cdn.jsdelivr.net/npm//vega-lib?noext\",\n",
              "      \"vega-lite\": \"https://cdn.jsdelivr.net/npm//vega-lite@4.17.0?noext\",\n",
              "      \"vega-embed\": \"https://cdn.jsdelivr.net/npm//vega-embed@6?noext\",\n",
              "    };\n",
              "\n",
              "    function maybeLoadScript(lib, version) {\n",
              "      var key = `${lib.replace(\"-\", \"\")}_version`;\n",
              "      return (VEGA_DEBUG[key] == version) ?\n",
              "        Promise.resolve(paths[lib]) :\n",
              "        new Promise(function(resolve, reject) {\n",
              "          var s = document.createElement('script');\n",
              "          document.getElementsByTagName(\"head\")[0].appendChild(s);\n",
              "          s.async = true;\n",
              "          s.onload = () => {\n",
              "            VEGA_DEBUG[key] = version;\n",
              "            return resolve(paths[lib]);\n",
              "          };\n",
              "          s.onerror = () => reject(`Error loading script: ${paths[lib]}`);\n",
              "          s.src = paths[lib];\n",
              "        });\n",
              "    }\n",
              "\n",
              "    function showError(err) {\n",
              "      outputDiv.innerHTML = `<div class=\"error\" style=\"color:red;\">${err}</div>`;\n",
              "      throw err;\n",
              "    }\n",
              "\n",
              "    function displayChart(vegaEmbed) {\n",
              "      vegaEmbed(outputDiv, spec, embedOpt)\n",
              "        .catch(err => showError(`Javascript Error: ${err.message}<br>This usually means there's a typo in your chart specification. See the javascript console for the full traceback.`));\n",
              "    }\n",
              "\n",
              "    if(typeof define === \"function\" && define.amd) {\n",
              "      requirejs.config({paths});\n",
              "      require([\"vega-embed\"], displayChart, err => showError(`Error loading script: ${err.message}`));\n",
              "    } else {\n",
              "      maybeLoadScript(\"vega\", \"5\")\n",
              "        .then(() => maybeLoadScript(\"vega-lite\", \"4.17.0\"))\n",
              "        .then(() => maybeLoadScript(\"vega-embed\", \"6\"))\n",
              "        .catch(showError)\n",
              "        .then(() => displayChart(vegaEmbed));\n",
              "    }\n",
              "  })({\"config\": {\"view\": {\"continuousWidth\": 400, \"continuousHeight\": 300}}, \"data\": {\"name\": \"data-131a47cd570fb7d24b7988a96d06887f\"}, \"mark\": \"boxplot\", \"encoding\": {\"y\": {\"field\": \"Year\", \"title\": \"Year\", \"type\": \"quantitative\"}}, \"height\": 300, \"title\": \"Box Plot of Year\", \"width\": 400, \"$schema\": \"https://vega.github.io/schema/vega-lite/v4.17.0.json\", \"datasets\": {\"data-131a47cd570fb7d24b7988a96d06887f\": [{\"Country\": \"Burundi\", \"Year\": 2015, \"Status\": \"Developing\", \"Life expectancy\": 59.6, \"Adult mortality\": 288.0, \"Infant deaths\": 21, \"Under-five deaths\": 31, \"Population\": 119927.0, \"Schooling\": 10.6}, {\"Country\": \"Burundi\", \"Year\": 2014, \"Status\": \"Developing\", \"Life expectancy\": 59.1, \"Adult mortality\": 297.0, \"Infant deaths\": 22, \"Under-five deaths\": 32, \"Population\": 989179.0, \"Schooling\": 10.6}, {\"Country\": \"Burundi\", \"Year\": 2013, \"Status\": \"Developing\", \"Life expectancy\": 58.6, \"Adult mortality\": 33.0, \"Infant deaths\": 22, \"Under-five deaths\": 32, \"Population\": 96186.0, \"Schooling\": 10.5}, {\"Country\": \"Burundi\", \"Year\": 2012, \"Status\": \"Developing\", \"Life expectancy\": 58.0, \"Adult mortality\": 312.0, \"Infant deaths\": 22, \"Under-five deaths\": 33, \"Population\": 931971.0, \"Schooling\": 10.3}, {\"Country\": \"Burundi\", \"Year\": 2011, \"Status\": \"Developing\", \"Life expectancy\": 57.4, \"Adult mortality\": 321.0, \"Infant deaths\": 22, \"Under-five deaths\": 33, \"Population\": 94358.0, \"Schooling\": 9.9}, {\"Country\": \"Burundi\", \"Year\": 2010, \"Status\": \"Developing\", \"Life expectancy\": 56.8, \"Adult mortality\": 33.0, \"Infant deaths\": 23, \"Under-five deaths\": 34, \"Population\": 876693.0, \"Schooling\": 9.3}, {\"Country\": \"Burundi\", \"Year\": 2009, \"Status\": \"Developing\", \"Life expectancy\": 56.2, \"Adult mortality\": 338.0, \"Infant deaths\": 23, \"Under-five deaths\": 34, \"Population\": 848931.0, \"Schooling\": 8.6}, {\"Country\": \"Burundi\", \"Year\": 2008, \"Status\": \"Developing\", \"Life expectancy\": 55.3, \"Adult mortality\": 35.0, \"Infant deaths\": 23, \"Under-five deaths\": 35, \"Population\": 8212264.0, \"Schooling\": 7.9}, {\"Country\": \"Burundi\", \"Year\": 2007, \"Status\": \"Developing\", \"Life expectancy\": 54.8, \"Adult mortality\": 355.0, \"Infant deaths\": 24, \"Under-five deaths\": 36, \"Population\": 7939573.0, \"Schooling\": 7.2}, {\"Country\": \"Burundi\", \"Year\": 2006, \"Status\": \"Developing\", \"Life expectancy\": 54.1, \"Adult mortality\": 361.0, \"Infant deaths\": 24, \"Under-five deaths\": 36, \"Population\": 7675338.0, \"Schooling\": 5.9}, {\"Country\": \"Burundi\", \"Year\": 2005, \"Status\": \"Developing\", \"Life expectancy\": 53.4, \"Adult mortality\": 369.0, \"Infant deaths\": 24, \"Under-five deaths\": 37, \"Population\": 7423289.0, \"Schooling\": 5.6}, {\"Country\": \"Burundi\", \"Year\": 2004, \"Status\": \"Developing\", \"Life expectancy\": 52.6, \"Adult mortality\": 378.0, \"Infant deaths\": 24, \"Under-five deaths\": 38, \"Population\": 7182451.0, \"Schooling\": 5.2}, {\"Country\": \"Burundi\", \"Year\": 2003, \"Status\": \"Developing\", \"Life expectancy\": 51.9, \"Adult mortality\": 387.0, \"Infant deaths\": 24, \"Under-five deaths\": 38, \"Population\": 6953113.0, \"Schooling\": 4.7}, {\"Country\": \"Burundi\", \"Year\": 2002, \"Status\": \"Developing\", \"Life expectancy\": 51.5, \"Adult mortality\": 387.0, \"Infant deaths\": 24, \"Under-five deaths\": 39, \"Population\": 6741569.0, \"Schooling\": 4.4}, {\"Country\": \"Burundi\", \"Year\": 2001, \"Status\": \"Developing\", \"Life expectancy\": 51.3, \"Adult mortality\": 385.0, \"Infant deaths\": 25, \"Under-five deaths\": 40, \"Population\": 6555829.0, \"Schooling\": 4.5}, {\"Country\": \"Burundi\", \"Year\": 2000, \"Status\": \"Developing\", \"Life expectancy\": 58.0, \"Adult mortality\": 386.0, \"Infant deaths\": 25, \"Under-five deaths\": 41, \"Population\": 6476.0, \"Schooling\": 4.5}]}}, {\"mode\": \"vega-lite\"});\n",
              "</script>"
            ],
            "text/plain": [
              "alt.Chart(...)"
            ]
          },
          "metadata": {}
        },
        {
          "output_type": "display_data",
          "data": {
            "text/html": [
              "\n",
              "<div id=\"altair-viz-ef636cb42ee04cfc808c590d7ae2672b\"></div>\n",
              "<script type=\"text/javascript\">\n",
              "  var VEGA_DEBUG = (typeof VEGA_DEBUG == \"undefined\") ? {} : VEGA_DEBUG;\n",
              "  (function(spec, embedOpt){\n",
              "    let outputDiv = document.currentScript.previousElementSibling;\n",
              "    if (outputDiv.id !== \"altair-viz-ef636cb42ee04cfc808c590d7ae2672b\") {\n",
              "      outputDiv = document.getElementById(\"altair-viz-ef636cb42ee04cfc808c590d7ae2672b\");\n",
              "    }\n",
              "    const paths = {\n",
              "      \"vega\": \"https://cdn.jsdelivr.net/npm//vega@5?noext\",\n",
              "      \"vega-lib\": \"https://cdn.jsdelivr.net/npm//vega-lib?noext\",\n",
              "      \"vega-lite\": \"https://cdn.jsdelivr.net/npm//vega-lite@4.17.0?noext\",\n",
              "      \"vega-embed\": \"https://cdn.jsdelivr.net/npm//vega-embed@6?noext\",\n",
              "    };\n",
              "\n",
              "    function maybeLoadScript(lib, version) {\n",
              "      var key = `${lib.replace(\"-\", \"\")}_version`;\n",
              "      return (VEGA_DEBUG[key] == version) ?\n",
              "        Promise.resolve(paths[lib]) :\n",
              "        new Promise(function(resolve, reject) {\n",
              "          var s = document.createElement('script');\n",
              "          document.getElementsByTagName(\"head\")[0].appendChild(s);\n",
              "          s.async = true;\n",
              "          s.onload = () => {\n",
              "            VEGA_DEBUG[key] = version;\n",
              "            return resolve(paths[lib]);\n",
              "          };\n",
              "          s.onerror = () => reject(`Error loading script: ${paths[lib]}`);\n",
              "          s.src = paths[lib];\n",
              "        });\n",
              "    }\n",
              "\n",
              "    function showError(err) {\n",
              "      outputDiv.innerHTML = `<div class=\"error\" style=\"color:red;\">${err}</div>`;\n",
              "      throw err;\n",
              "    }\n",
              "\n",
              "    function displayChart(vegaEmbed) {\n",
              "      vegaEmbed(outputDiv, spec, embedOpt)\n",
              "        .catch(err => showError(`Javascript Error: ${err.message}<br>This usually means there's a typo in your chart specification. See the javascript console for the full traceback.`));\n",
              "    }\n",
              "\n",
              "    if(typeof define === \"function\" && define.amd) {\n",
              "      requirejs.config({paths});\n",
              "      require([\"vega-embed\"], displayChart, err => showError(`Error loading script: ${err.message}`));\n",
              "    } else {\n",
              "      maybeLoadScript(\"vega\", \"5\")\n",
              "        .then(() => maybeLoadScript(\"vega-lite\", \"4.17.0\"))\n",
              "        .then(() => maybeLoadScript(\"vega-embed\", \"6\"))\n",
              "        .catch(showError)\n",
              "        .then(() => displayChart(vegaEmbed));\n",
              "    }\n",
              "  })({\"config\": {\"view\": {\"continuousWidth\": 400, \"continuousHeight\": 300}}, \"data\": {\"name\": \"data-131a47cd570fb7d24b7988a96d06887f\"}, \"mark\": \"boxplot\", \"encoding\": {\"y\": {\"field\": \"Life expectancy\", \"title\": \"Life expectancy\", \"type\": \"quantitative\"}}, \"height\": 300, \"title\": \"Box Plot of Life expectancy\", \"width\": 400, \"$schema\": \"https://vega.github.io/schema/vega-lite/v4.17.0.json\", \"datasets\": {\"data-131a47cd570fb7d24b7988a96d06887f\": [{\"Country\": \"Burundi\", \"Year\": 2015, \"Status\": \"Developing\", \"Life expectancy\": 59.6, \"Adult mortality\": 288.0, \"Infant deaths\": 21, \"Under-five deaths\": 31, \"Population\": 119927.0, \"Schooling\": 10.6}, {\"Country\": \"Burundi\", \"Year\": 2014, \"Status\": \"Developing\", \"Life expectancy\": 59.1, \"Adult mortality\": 297.0, \"Infant deaths\": 22, \"Under-five deaths\": 32, \"Population\": 989179.0, \"Schooling\": 10.6}, {\"Country\": \"Burundi\", \"Year\": 2013, \"Status\": \"Developing\", \"Life expectancy\": 58.6, \"Adult mortality\": 33.0, \"Infant deaths\": 22, \"Under-five deaths\": 32, \"Population\": 96186.0, \"Schooling\": 10.5}, {\"Country\": \"Burundi\", \"Year\": 2012, \"Status\": \"Developing\", \"Life expectancy\": 58.0, \"Adult mortality\": 312.0, \"Infant deaths\": 22, \"Under-five deaths\": 33, \"Population\": 931971.0, \"Schooling\": 10.3}, {\"Country\": \"Burundi\", \"Year\": 2011, \"Status\": \"Developing\", \"Life expectancy\": 57.4, \"Adult mortality\": 321.0, \"Infant deaths\": 22, \"Under-five deaths\": 33, \"Population\": 94358.0, \"Schooling\": 9.9}, {\"Country\": \"Burundi\", \"Year\": 2010, \"Status\": \"Developing\", \"Life expectancy\": 56.8, \"Adult mortality\": 33.0, \"Infant deaths\": 23, \"Under-five deaths\": 34, \"Population\": 876693.0, \"Schooling\": 9.3}, {\"Country\": \"Burundi\", \"Year\": 2009, \"Status\": \"Developing\", \"Life expectancy\": 56.2, \"Adult mortality\": 338.0, \"Infant deaths\": 23, \"Under-five deaths\": 34, \"Population\": 848931.0, \"Schooling\": 8.6}, {\"Country\": \"Burundi\", \"Year\": 2008, \"Status\": \"Developing\", \"Life expectancy\": 55.3, \"Adult mortality\": 35.0, \"Infant deaths\": 23, \"Under-five deaths\": 35, \"Population\": 8212264.0, \"Schooling\": 7.9}, {\"Country\": \"Burundi\", \"Year\": 2007, \"Status\": \"Developing\", \"Life expectancy\": 54.8, \"Adult mortality\": 355.0, \"Infant deaths\": 24, \"Under-five deaths\": 36, \"Population\": 7939573.0, \"Schooling\": 7.2}, {\"Country\": \"Burundi\", \"Year\": 2006, \"Status\": \"Developing\", \"Life expectancy\": 54.1, \"Adult mortality\": 361.0, \"Infant deaths\": 24, \"Under-five deaths\": 36, \"Population\": 7675338.0, \"Schooling\": 5.9}, {\"Country\": \"Burundi\", \"Year\": 2005, \"Status\": \"Developing\", \"Life expectancy\": 53.4, \"Adult mortality\": 369.0, \"Infant deaths\": 24, \"Under-five deaths\": 37, \"Population\": 7423289.0, \"Schooling\": 5.6}, {\"Country\": \"Burundi\", \"Year\": 2004, \"Status\": \"Developing\", \"Life expectancy\": 52.6, \"Adult mortality\": 378.0, \"Infant deaths\": 24, \"Under-five deaths\": 38, \"Population\": 7182451.0, \"Schooling\": 5.2}, {\"Country\": \"Burundi\", \"Year\": 2003, \"Status\": \"Developing\", \"Life expectancy\": 51.9, \"Adult mortality\": 387.0, \"Infant deaths\": 24, \"Under-five deaths\": 38, \"Population\": 6953113.0, \"Schooling\": 4.7}, {\"Country\": \"Burundi\", \"Year\": 2002, \"Status\": \"Developing\", \"Life expectancy\": 51.5, \"Adult mortality\": 387.0, \"Infant deaths\": 24, \"Under-five deaths\": 39, \"Population\": 6741569.0, \"Schooling\": 4.4}, {\"Country\": \"Burundi\", \"Year\": 2001, \"Status\": \"Developing\", \"Life expectancy\": 51.3, \"Adult mortality\": 385.0, \"Infant deaths\": 25, \"Under-five deaths\": 40, \"Population\": 6555829.0, \"Schooling\": 4.5}, {\"Country\": \"Burundi\", \"Year\": 2000, \"Status\": \"Developing\", \"Life expectancy\": 58.0, \"Adult mortality\": 386.0, \"Infant deaths\": 25, \"Under-five deaths\": 41, \"Population\": 6476.0, \"Schooling\": 4.5}]}}, {\"mode\": \"vega-lite\"});\n",
              "</script>"
            ],
            "text/plain": [
              "alt.Chart(...)"
            ]
          },
          "metadata": {}
        },
        {
          "output_type": "display_data",
          "data": {
            "text/html": [
              "\n",
              "<div id=\"altair-viz-6c9b0c71ef42445899ca068df273b343\"></div>\n",
              "<script type=\"text/javascript\">\n",
              "  var VEGA_DEBUG = (typeof VEGA_DEBUG == \"undefined\") ? {} : VEGA_DEBUG;\n",
              "  (function(spec, embedOpt){\n",
              "    let outputDiv = document.currentScript.previousElementSibling;\n",
              "    if (outputDiv.id !== \"altair-viz-6c9b0c71ef42445899ca068df273b343\") {\n",
              "      outputDiv = document.getElementById(\"altair-viz-6c9b0c71ef42445899ca068df273b343\");\n",
              "    }\n",
              "    const paths = {\n",
              "      \"vega\": \"https://cdn.jsdelivr.net/npm//vega@5?noext\",\n",
              "      \"vega-lib\": \"https://cdn.jsdelivr.net/npm//vega-lib?noext\",\n",
              "      \"vega-lite\": \"https://cdn.jsdelivr.net/npm//vega-lite@4.17.0?noext\",\n",
              "      \"vega-embed\": \"https://cdn.jsdelivr.net/npm//vega-embed@6?noext\",\n",
              "    };\n",
              "\n",
              "    function maybeLoadScript(lib, version) {\n",
              "      var key = `${lib.replace(\"-\", \"\")}_version`;\n",
              "      return (VEGA_DEBUG[key] == version) ?\n",
              "        Promise.resolve(paths[lib]) :\n",
              "        new Promise(function(resolve, reject) {\n",
              "          var s = document.createElement('script');\n",
              "          document.getElementsByTagName(\"head\")[0].appendChild(s);\n",
              "          s.async = true;\n",
              "          s.onload = () => {\n",
              "            VEGA_DEBUG[key] = version;\n",
              "            return resolve(paths[lib]);\n",
              "          };\n",
              "          s.onerror = () => reject(`Error loading script: ${paths[lib]}`);\n",
              "          s.src = paths[lib];\n",
              "        });\n",
              "    }\n",
              "\n",
              "    function showError(err) {\n",
              "      outputDiv.innerHTML = `<div class=\"error\" style=\"color:red;\">${err}</div>`;\n",
              "      throw err;\n",
              "    }\n",
              "\n",
              "    function displayChart(vegaEmbed) {\n",
              "      vegaEmbed(outputDiv, spec, embedOpt)\n",
              "        .catch(err => showError(`Javascript Error: ${err.message}<br>This usually means there's a typo in your chart specification. See the javascript console for the full traceback.`));\n",
              "    }\n",
              "\n",
              "    if(typeof define === \"function\" && define.amd) {\n",
              "      requirejs.config({paths});\n",
              "      require([\"vega-embed\"], displayChart, err => showError(`Error loading script: ${err.message}`));\n",
              "    } else {\n",
              "      maybeLoadScript(\"vega\", \"5\")\n",
              "        .then(() => maybeLoadScript(\"vega-lite\", \"4.17.0\"))\n",
              "        .then(() => maybeLoadScript(\"vega-embed\", \"6\"))\n",
              "        .catch(showError)\n",
              "        .then(() => displayChart(vegaEmbed));\n",
              "    }\n",
              "  })({\"config\": {\"view\": {\"continuousWidth\": 400, \"continuousHeight\": 300}}, \"data\": {\"name\": \"data-131a47cd570fb7d24b7988a96d06887f\"}, \"mark\": \"boxplot\", \"encoding\": {\"y\": {\"field\": \"Adult mortality\", \"title\": \"Adult mortality\", \"type\": \"quantitative\"}}, \"height\": 300, \"title\": \"Box Plot of Adult mortality\", \"width\": 400, \"$schema\": \"https://vega.github.io/schema/vega-lite/v4.17.0.json\", \"datasets\": {\"data-131a47cd570fb7d24b7988a96d06887f\": [{\"Country\": \"Burundi\", \"Year\": 2015, \"Status\": \"Developing\", \"Life expectancy\": 59.6, \"Adult mortality\": 288.0, \"Infant deaths\": 21, \"Under-five deaths\": 31, \"Population\": 119927.0, \"Schooling\": 10.6}, {\"Country\": \"Burundi\", \"Year\": 2014, \"Status\": \"Developing\", \"Life expectancy\": 59.1, \"Adult mortality\": 297.0, \"Infant deaths\": 22, \"Under-five deaths\": 32, \"Population\": 989179.0, \"Schooling\": 10.6}, {\"Country\": \"Burundi\", \"Year\": 2013, \"Status\": \"Developing\", \"Life expectancy\": 58.6, \"Adult mortality\": 33.0, \"Infant deaths\": 22, \"Under-five deaths\": 32, \"Population\": 96186.0, \"Schooling\": 10.5}, {\"Country\": \"Burundi\", \"Year\": 2012, \"Status\": \"Developing\", \"Life expectancy\": 58.0, \"Adult mortality\": 312.0, \"Infant deaths\": 22, \"Under-five deaths\": 33, \"Population\": 931971.0, \"Schooling\": 10.3}, {\"Country\": \"Burundi\", \"Year\": 2011, \"Status\": \"Developing\", \"Life expectancy\": 57.4, \"Adult mortality\": 321.0, \"Infant deaths\": 22, \"Under-five deaths\": 33, \"Population\": 94358.0, \"Schooling\": 9.9}, {\"Country\": \"Burundi\", \"Year\": 2010, \"Status\": \"Developing\", \"Life expectancy\": 56.8, \"Adult mortality\": 33.0, \"Infant deaths\": 23, \"Under-five deaths\": 34, \"Population\": 876693.0, \"Schooling\": 9.3}, {\"Country\": \"Burundi\", \"Year\": 2009, \"Status\": \"Developing\", \"Life expectancy\": 56.2, \"Adult mortality\": 338.0, \"Infant deaths\": 23, \"Under-five deaths\": 34, \"Population\": 848931.0, \"Schooling\": 8.6}, {\"Country\": \"Burundi\", \"Year\": 2008, \"Status\": \"Developing\", \"Life expectancy\": 55.3, \"Adult mortality\": 35.0, \"Infant deaths\": 23, \"Under-five deaths\": 35, \"Population\": 8212264.0, \"Schooling\": 7.9}, {\"Country\": \"Burundi\", \"Year\": 2007, \"Status\": \"Developing\", \"Life expectancy\": 54.8, \"Adult mortality\": 355.0, \"Infant deaths\": 24, \"Under-five deaths\": 36, \"Population\": 7939573.0, \"Schooling\": 7.2}, {\"Country\": \"Burundi\", \"Year\": 2006, \"Status\": \"Developing\", \"Life expectancy\": 54.1, \"Adult mortality\": 361.0, \"Infant deaths\": 24, \"Under-five deaths\": 36, \"Population\": 7675338.0, \"Schooling\": 5.9}, {\"Country\": \"Burundi\", \"Year\": 2005, \"Status\": \"Developing\", \"Life expectancy\": 53.4, \"Adult mortality\": 369.0, \"Infant deaths\": 24, \"Under-five deaths\": 37, \"Population\": 7423289.0, \"Schooling\": 5.6}, {\"Country\": \"Burundi\", \"Year\": 2004, \"Status\": \"Developing\", \"Life expectancy\": 52.6, \"Adult mortality\": 378.0, \"Infant deaths\": 24, \"Under-five deaths\": 38, \"Population\": 7182451.0, \"Schooling\": 5.2}, {\"Country\": \"Burundi\", \"Year\": 2003, \"Status\": \"Developing\", \"Life expectancy\": 51.9, \"Adult mortality\": 387.0, \"Infant deaths\": 24, \"Under-five deaths\": 38, \"Population\": 6953113.0, \"Schooling\": 4.7}, {\"Country\": \"Burundi\", \"Year\": 2002, \"Status\": \"Developing\", \"Life expectancy\": 51.5, \"Adult mortality\": 387.0, \"Infant deaths\": 24, \"Under-five deaths\": 39, \"Population\": 6741569.0, \"Schooling\": 4.4}, {\"Country\": \"Burundi\", \"Year\": 2001, \"Status\": \"Developing\", \"Life expectancy\": 51.3, \"Adult mortality\": 385.0, \"Infant deaths\": 25, \"Under-five deaths\": 40, \"Population\": 6555829.0, \"Schooling\": 4.5}, {\"Country\": \"Burundi\", \"Year\": 2000, \"Status\": \"Developing\", \"Life expectancy\": 58.0, \"Adult mortality\": 386.0, \"Infant deaths\": 25, \"Under-five deaths\": 41, \"Population\": 6476.0, \"Schooling\": 4.5}]}}, {\"mode\": \"vega-lite\"});\n",
              "</script>"
            ],
            "text/plain": [
              "alt.Chart(...)"
            ]
          },
          "metadata": {}
        },
        {
          "output_type": "display_data",
          "data": {
            "text/html": [
              "\n",
              "<div id=\"altair-viz-fda25ae5ef484c8cafc799376e8da576\"></div>\n",
              "<script type=\"text/javascript\">\n",
              "  var VEGA_DEBUG = (typeof VEGA_DEBUG == \"undefined\") ? {} : VEGA_DEBUG;\n",
              "  (function(spec, embedOpt){\n",
              "    let outputDiv = document.currentScript.previousElementSibling;\n",
              "    if (outputDiv.id !== \"altair-viz-fda25ae5ef484c8cafc799376e8da576\") {\n",
              "      outputDiv = document.getElementById(\"altair-viz-fda25ae5ef484c8cafc799376e8da576\");\n",
              "    }\n",
              "    const paths = {\n",
              "      \"vega\": \"https://cdn.jsdelivr.net/npm//vega@5?noext\",\n",
              "      \"vega-lib\": \"https://cdn.jsdelivr.net/npm//vega-lib?noext\",\n",
              "      \"vega-lite\": \"https://cdn.jsdelivr.net/npm//vega-lite@4.17.0?noext\",\n",
              "      \"vega-embed\": \"https://cdn.jsdelivr.net/npm//vega-embed@6?noext\",\n",
              "    };\n",
              "\n",
              "    function maybeLoadScript(lib, version) {\n",
              "      var key = `${lib.replace(\"-\", \"\")}_version`;\n",
              "      return (VEGA_DEBUG[key] == version) ?\n",
              "        Promise.resolve(paths[lib]) :\n",
              "        new Promise(function(resolve, reject) {\n",
              "          var s = document.createElement('script');\n",
              "          document.getElementsByTagName(\"head\")[0].appendChild(s);\n",
              "          s.async = true;\n",
              "          s.onload = () => {\n",
              "            VEGA_DEBUG[key] = version;\n",
              "            return resolve(paths[lib]);\n",
              "          };\n",
              "          s.onerror = () => reject(`Error loading script: ${paths[lib]}`);\n",
              "          s.src = paths[lib];\n",
              "        });\n",
              "    }\n",
              "\n",
              "    function showError(err) {\n",
              "      outputDiv.innerHTML = `<div class=\"error\" style=\"color:red;\">${err}</div>`;\n",
              "      throw err;\n",
              "    }\n",
              "\n",
              "    function displayChart(vegaEmbed) {\n",
              "      vegaEmbed(outputDiv, spec, embedOpt)\n",
              "        .catch(err => showError(`Javascript Error: ${err.message}<br>This usually means there's a typo in your chart specification. See the javascript console for the full traceback.`));\n",
              "    }\n",
              "\n",
              "    if(typeof define === \"function\" && define.amd) {\n",
              "      requirejs.config({paths});\n",
              "      require([\"vega-embed\"], displayChart, err => showError(`Error loading script: ${err.message}`));\n",
              "    } else {\n",
              "      maybeLoadScript(\"vega\", \"5\")\n",
              "        .then(() => maybeLoadScript(\"vega-lite\", \"4.17.0\"))\n",
              "        .then(() => maybeLoadScript(\"vega-embed\", \"6\"))\n",
              "        .catch(showError)\n",
              "        .then(() => displayChart(vegaEmbed));\n",
              "    }\n",
              "  })({\"config\": {\"view\": {\"continuousWidth\": 400, \"continuousHeight\": 300}}, \"data\": {\"name\": \"data-131a47cd570fb7d24b7988a96d06887f\"}, \"mark\": \"boxplot\", \"encoding\": {\"y\": {\"field\": \"Infant deaths\", \"title\": \"Infant deaths\", \"type\": \"quantitative\"}}, \"height\": 300, \"title\": \"Box Plot of Infant deaths\", \"width\": 400, \"$schema\": \"https://vega.github.io/schema/vega-lite/v4.17.0.json\", \"datasets\": {\"data-131a47cd570fb7d24b7988a96d06887f\": [{\"Country\": \"Burundi\", \"Year\": 2015, \"Status\": \"Developing\", \"Life expectancy\": 59.6, \"Adult mortality\": 288.0, \"Infant deaths\": 21, \"Under-five deaths\": 31, \"Population\": 119927.0, \"Schooling\": 10.6}, {\"Country\": \"Burundi\", \"Year\": 2014, \"Status\": \"Developing\", \"Life expectancy\": 59.1, \"Adult mortality\": 297.0, \"Infant deaths\": 22, \"Under-five deaths\": 32, \"Population\": 989179.0, \"Schooling\": 10.6}, {\"Country\": \"Burundi\", \"Year\": 2013, \"Status\": \"Developing\", \"Life expectancy\": 58.6, \"Adult mortality\": 33.0, \"Infant deaths\": 22, \"Under-five deaths\": 32, \"Population\": 96186.0, \"Schooling\": 10.5}, {\"Country\": \"Burundi\", \"Year\": 2012, \"Status\": \"Developing\", \"Life expectancy\": 58.0, \"Adult mortality\": 312.0, \"Infant deaths\": 22, \"Under-five deaths\": 33, \"Population\": 931971.0, \"Schooling\": 10.3}, {\"Country\": \"Burundi\", \"Year\": 2011, \"Status\": \"Developing\", \"Life expectancy\": 57.4, \"Adult mortality\": 321.0, \"Infant deaths\": 22, \"Under-five deaths\": 33, \"Population\": 94358.0, \"Schooling\": 9.9}, {\"Country\": \"Burundi\", \"Year\": 2010, \"Status\": \"Developing\", \"Life expectancy\": 56.8, \"Adult mortality\": 33.0, \"Infant deaths\": 23, \"Under-five deaths\": 34, \"Population\": 876693.0, \"Schooling\": 9.3}, {\"Country\": \"Burundi\", \"Year\": 2009, \"Status\": \"Developing\", \"Life expectancy\": 56.2, \"Adult mortality\": 338.0, \"Infant deaths\": 23, \"Under-five deaths\": 34, \"Population\": 848931.0, \"Schooling\": 8.6}, {\"Country\": \"Burundi\", \"Year\": 2008, \"Status\": \"Developing\", \"Life expectancy\": 55.3, \"Adult mortality\": 35.0, \"Infant deaths\": 23, \"Under-five deaths\": 35, \"Population\": 8212264.0, \"Schooling\": 7.9}, {\"Country\": \"Burundi\", \"Year\": 2007, \"Status\": \"Developing\", \"Life expectancy\": 54.8, \"Adult mortality\": 355.0, \"Infant deaths\": 24, \"Under-five deaths\": 36, \"Population\": 7939573.0, \"Schooling\": 7.2}, {\"Country\": \"Burundi\", \"Year\": 2006, \"Status\": \"Developing\", \"Life expectancy\": 54.1, \"Adult mortality\": 361.0, \"Infant deaths\": 24, \"Under-five deaths\": 36, \"Population\": 7675338.0, \"Schooling\": 5.9}, {\"Country\": \"Burundi\", \"Year\": 2005, \"Status\": \"Developing\", \"Life expectancy\": 53.4, \"Adult mortality\": 369.0, \"Infant deaths\": 24, \"Under-five deaths\": 37, \"Population\": 7423289.0, \"Schooling\": 5.6}, {\"Country\": \"Burundi\", \"Year\": 2004, \"Status\": \"Developing\", \"Life expectancy\": 52.6, \"Adult mortality\": 378.0, \"Infant deaths\": 24, \"Under-five deaths\": 38, \"Population\": 7182451.0, \"Schooling\": 5.2}, {\"Country\": \"Burundi\", \"Year\": 2003, \"Status\": \"Developing\", \"Life expectancy\": 51.9, \"Adult mortality\": 387.0, \"Infant deaths\": 24, \"Under-five deaths\": 38, \"Population\": 6953113.0, \"Schooling\": 4.7}, {\"Country\": \"Burundi\", \"Year\": 2002, \"Status\": \"Developing\", \"Life expectancy\": 51.5, \"Adult mortality\": 387.0, \"Infant deaths\": 24, \"Under-five deaths\": 39, \"Population\": 6741569.0, \"Schooling\": 4.4}, {\"Country\": \"Burundi\", \"Year\": 2001, \"Status\": \"Developing\", \"Life expectancy\": 51.3, \"Adult mortality\": 385.0, \"Infant deaths\": 25, \"Under-five deaths\": 40, \"Population\": 6555829.0, \"Schooling\": 4.5}, {\"Country\": \"Burundi\", \"Year\": 2000, \"Status\": \"Developing\", \"Life expectancy\": 58.0, \"Adult mortality\": 386.0, \"Infant deaths\": 25, \"Under-five deaths\": 41, \"Population\": 6476.0, \"Schooling\": 4.5}]}}, {\"mode\": \"vega-lite\"});\n",
              "</script>"
            ],
            "text/plain": [
              "alt.Chart(...)"
            ]
          },
          "metadata": {}
        },
        {
          "output_type": "display_data",
          "data": {
            "text/html": [
              "\n",
              "<div id=\"altair-viz-fc86245b9b434fb7825d21d4a8078b83\"></div>\n",
              "<script type=\"text/javascript\">\n",
              "  var VEGA_DEBUG = (typeof VEGA_DEBUG == \"undefined\") ? {} : VEGA_DEBUG;\n",
              "  (function(spec, embedOpt){\n",
              "    let outputDiv = document.currentScript.previousElementSibling;\n",
              "    if (outputDiv.id !== \"altair-viz-fc86245b9b434fb7825d21d4a8078b83\") {\n",
              "      outputDiv = document.getElementById(\"altair-viz-fc86245b9b434fb7825d21d4a8078b83\");\n",
              "    }\n",
              "    const paths = {\n",
              "      \"vega\": \"https://cdn.jsdelivr.net/npm//vega@5?noext\",\n",
              "      \"vega-lib\": \"https://cdn.jsdelivr.net/npm//vega-lib?noext\",\n",
              "      \"vega-lite\": \"https://cdn.jsdelivr.net/npm//vega-lite@4.17.0?noext\",\n",
              "      \"vega-embed\": \"https://cdn.jsdelivr.net/npm//vega-embed@6?noext\",\n",
              "    };\n",
              "\n",
              "    function maybeLoadScript(lib, version) {\n",
              "      var key = `${lib.replace(\"-\", \"\")}_version`;\n",
              "      return (VEGA_DEBUG[key] == version) ?\n",
              "        Promise.resolve(paths[lib]) :\n",
              "        new Promise(function(resolve, reject) {\n",
              "          var s = document.createElement('script');\n",
              "          document.getElementsByTagName(\"head\")[0].appendChild(s);\n",
              "          s.async = true;\n",
              "          s.onload = () => {\n",
              "            VEGA_DEBUG[key] = version;\n",
              "            return resolve(paths[lib]);\n",
              "          };\n",
              "          s.onerror = () => reject(`Error loading script: ${paths[lib]}`);\n",
              "          s.src = paths[lib];\n",
              "        });\n",
              "    }\n",
              "\n",
              "    function showError(err) {\n",
              "      outputDiv.innerHTML = `<div class=\"error\" style=\"color:red;\">${err}</div>`;\n",
              "      throw err;\n",
              "    }\n",
              "\n",
              "    function displayChart(vegaEmbed) {\n",
              "      vegaEmbed(outputDiv, spec, embedOpt)\n",
              "        .catch(err => showError(`Javascript Error: ${err.message}<br>This usually means there's a typo in your chart specification. See the javascript console for the full traceback.`));\n",
              "    }\n",
              "\n",
              "    if(typeof define === \"function\" && define.amd) {\n",
              "      requirejs.config({paths});\n",
              "      require([\"vega-embed\"], displayChart, err => showError(`Error loading script: ${err.message}`));\n",
              "    } else {\n",
              "      maybeLoadScript(\"vega\", \"5\")\n",
              "        .then(() => maybeLoadScript(\"vega-lite\", \"4.17.0\"))\n",
              "        .then(() => maybeLoadScript(\"vega-embed\", \"6\"))\n",
              "        .catch(showError)\n",
              "        .then(() => displayChart(vegaEmbed));\n",
              "    }\n",
              "  })({\"config\": {\"view\": {\"continuousWidth\": 400, \"continuousHeight\": 300}}, \"data\": {\"name\": \"data-131a47cd570fb7d24b7988a96d06887f\"}, \"mark\": \"boxplot\", \"encoding\": {\"y\": {\"field\": \"Under-five deaths\", \"title\": \"Under-five deaths\", \"type\": \"quantitative\"}}, \"height\": 300, \"title\": \"Box Plot of Under-five deaths\", \"width\": 400, \"$schema\": \"https://vega.github.io/schema/vega-lite/v4.17.0.json\", \"datasets\": {\"data-131a47cd570fb7d24b7988a96d06887f\": [{\"Country\": \"Burundi\", \"Year\": 2015, \"Status\": \"Developing\", \"Life expectancy\": 59.6, \"Adult mortality\": 288.0, \"Infant deaths\": 21, \"Under-five deaths\": 31, \"Population\": 119927.0, \"Schooling\": 10.6}, {\"Country\": \"Burundi\", \"Year\": 2014, \"Status\": \"Developing\", \"Life expectancy\": 59.1, \"Adult mortality\": 297.0, \"Infant deaths\": 22, \"Under-five deaths\": 32, \"Population\": 989179.0, \"Schooling\": 10.6}, {\"Country\": \"Burundi\", \"Year\": 2013, \"Status\": \"Developing\", \"Life expectancy\": 58.6, \"Adult mortality\": 33.0, \"Infant deaths\": 22, \"Under-five deaths\": 32, \"Population\": 96186.0, \"Schooling\": 10.5}, {\"Country\": \"Burundi\", \"Year\": 2012, \"Status\": \"Developing\", \"Life expectancy\": 58.0, \"Adult mortality\": 312.0, \"Infant deaths\": 22, \"Under-five deaths\": 33, \"Population\": 931971.0, \"Schooling\": 10.3}, {\"Country\": \"Burundi\", \"Year\": 2011, \"Status\": \"Developing\", \"Life expectancy\": 57.4, \"Adult mortality\": 321.0, \"Infant deaths\": 22, \"Under-five deaths\": 33, \"Population\": 94358.0, \"Schooling\": 9.9}, {\"Country\": \"Burundi\", \"Year\": 2010, \"Status\": \"Developing\", \"Life expectancy\": 56.8, \"Adult mortality\": 33.0, \"Infant deaths\": 23, \"Under-five deaths\": 34, \"Population\": 876693.0, \"Schooling\": 9.3}, {\"Country\": \"Burundi\", \"Year\": 2009, \"Status\": \"Developing\", \"Life expectancy\": 56.2, \"Adult mortality\": 338.0, \"Infant deaths\": 23, \"Under-five deaths\": 34, \"Population\": 848931.0, \"Schooling\": 8.6}, {\"Country\": \"Burundi\", \"Year\": 2008, \"Status\": \"Developing\", \"Life expectancy\": 55.3, \"Adult mortality\": 35.0, \"Infant deaths\": 23, \"Under-five deaths\": 35, \"Population\": 8212264.0, \"Schooling\": 7.9}, {\"Country\": \"Burundi\", \"Year\": 2007, \"Status\": \"Developing\", \"Life expectancy\": 54.8, \"Adult mortality\": 355.0, \"Infant deaths\": 24, \"Under-five deaths\": 36, \"Population\": 7939573.0, \"Schooling\": 7.2}, {\"Country\": \"Burundi\", \"Year\": 2006, \"Status\": \"Developing\", \"Life expectancy\": 54.1, \"Adult mortality\": 361.0, \"Infant deaths\": 24, \"Under-five deaths\": 36, \"Population\": 7675338.0, \"Schooling\": 5.9}, {\"Country\": \"Burundi\", \"Year\": 2005, \"Status\": \"Developing\", \"Life expectancy\": 53.4, \"Adult mortality\": 369.0, \"Infant deaths\": 24, \"Under-five deaths\": 37, \"Population\": 7423289.0, \"Schooling\": 5.6}, {\"Country\": \"Burundi\", \"Year\": 2004, \"Status\": \"Developing\", \"Life expectancy\": 52.6, \"Adult mortality\": 378.0, \"Infant deaths\": 24, \"Under-five deaths\": 38, \"Population\": 7182451.0, \"Schooling\": 5.2}, {\"Country\": \"Burundi\", \"Year\": 2003, \"Status\": \"Developing\", \"Life expectancy\": 51.9, \"Adult mortality\": 387.0, \"Infant deaths\": 24, \"Under-five deaths\": 38, \"Population\": 6953113.0, \"Schooling\": 4.7}, {\"Country\": \"Burundi\", \"Year\": 2002, \"Status\": \"Developing\", \"Life expectancy\": 51.5, \"Adult mortality\": 387.0, \"Infant deaths\": 24, \"Under-five deaths\": 39, \"Population\": 6741569.0, \"Schooling\": 4.4}, {\"Country\": \"Burundi\", \"Year\": 2001, \"Status\": \"Developing\", \"Life expectancy\": 51.3, \"Adult mortality\": 385.0, \"Infant deaths\": 25, \"Under-five deaths\": 40, \"Population\": 6555829.0, \"Schooling\": 4.5}, {\"Country\": \"Burundi\", \"Year\": 2000, \"Status\": \"Developing\", \"Life expectancy\": 58.0, \"Adult mortality\": 386.0, \"Infant deaths\": 25, \"Under-five deaths\": 41, \"Population\": 6476.0, \"Schooling\": 4.5}]}}, {\"mode\": \"vega-lite\"});\n",
              "</script>"
            ],
            "text/plain": [
              "alt.Chart(...)"
            ]
          },
          "metadata": {}
        },
        {
          "output_type": "display_data",
          "data": {
            "text/html": [
              "\n",
              "<div id=\"altair-viz-241f14f32de445b89fcfb1d39c5465a5\"></div>\n",
              "<script type=\"text/javascript\">\n",
              "  var VEGA_DEBUG = (typeof VEGA_DEBUG == \"undefined\") ? {} : VEGA_DEBUG;\n",
              "  (function(spec, embedOpt){\n",
              "    let outputDiv = document.currentScript.previousElementSibling;\n",
              "    if (outputDiv.id !== \"altair-viz-241f14f32de445b89fcfb1d39c5465a5\") {\n",
              "      outputDiv = document.getElementById(\"altair-viz-241f14f32de445b89fcfb1d39c5465a5\");\n",
              "    }\n",
              "    const paths = {\n",
              "      \"vega\": \"https://cdn.jsdelivr.net/npm//vega@5?noext\",\n",
              "      \"vega-lib\": \"https://cdn.jsdelivr.net/npm//vega-lib?noext\",\n",
              "      \"vega-lite\": \"https://cdn.jsdelivr.net/npm//vega-lite@4.17.0?noext\",\n",
              "      \"vega-embed\": \"https://cdn.jsdelivr.net/npm//vega-embed@6?noext\",\n",
              "    };\n",
              "\n",
              "    function maybeLoadScript(lib, version) {\n",
              "      var key = `${lib.replace(\"-\", \"\")}_version`;\n",
              "      return (VEGA_DEBUG[key] == version) ?\n",
              "        Promise.resolve(paths[lib]) :\n",
              "        new Promise(function(resolve, reject) {\n",
              "          var s = document.createElement('script');\n",
              "          document.getElementsByTagName(\"head\")[0].appendChild(s);\n",
              "          s.async = true;\n",
              "          s.onload = () => {\n",
              "            VEGA_DEBUG[key] = version;\n",
              "            return resolve(paths[lib]);\n",
              "          };\n",
              "          s.onerror = () => reject(`Error loading script: ${paths[lib]}`);\n",
              "          s.src = paths[lib];\n",
              "        });\n",
              "    }\n",
              "\n",
              "    function showError(err) {\n",
              "      outputDiv.innerHTML = `<div class=\"error\" style=\"color:red;\">${err}</div>`;\n",
              "      throw err;\n",
              "    }\n",
              "\n",
              "    function displayChart(vegaEmbed) {\n",
              "      vegaEmbed(outputDiv, spec, embedOpt)\n",
              "        .catch(err => showError(`Javascript Error: ${err.message}<br>This usually means there's a typo in your chart specification. See the javascript console for the full traceback.`));\n",
              "    }\n",
              "\n",
              "    if(typeof define === \"function\" && define.amd) {\n",
              "      requirejs.config({paths});\n",
              "      require([\"vega-embed\"], displayChart, err => showError(`Error loading script: ${err.message}`));\n",
              "    } else {\n",
              "      maybeLoadScript(\"vega\", \"5\")\n",
              "        .then(() => maybeLoadScript(\"vega-lite\", \"4.17.0\"))\n",
              "        .then(() => maybeLoadScript(\"vega-embed\", \"6\"))\n",
              "        .catch(showError)\n",
              "        .then(() => displayChart(vegaEmbed));\n",
              "    }\n",
              "  })({\"config\": {\"view\": {\"continuousWidth\": 400, \"continuousHeight\": 300}}, \"data\": {\"name\": \"data-131a47cd570fb7d24b7988a96d06887f\"}, \"mark\": \"boxplot\", \"encoding\": {\"y\": {\"field\": \"Population\", \"title\": \"Population\", \"type\": \"quantitative\"}}, \"height\": 300, \"title\": \"Box Plot of Population\", \"width\": 400, \"$schema\": \"https://vega.github.io/schema/vega-lite/v4.17.0.json\", \"datasets\": {\"data-131a47cd570fb7d24b7988a96d06887f\": [{\"Country\": \"Burundi\", \"Year\": 2015, \"Status\": \"Developing\", \"Life expectancy\": 59.6, \"Adult mortality\": 288.0, \"Infant deaths\": 21, \"Under-five deaths\": 31, \"Population\": 119927.0, \"Schooling\": 10.6}, {\"Country\": \"Burundi\", \"Year\": 2014, \"Status\": \"Developing\", \"Life expectancy\": 59.1, \"Adult mortality\": 297.0, \"Infant deaths\": 22, \"Under-five deaths\": 32, \"Population\": 989179.0, \"Schooling\": 10.6}, {\"Country\": \"Burundi\", \"Year\": 2013, \"Status\": \"Developing\", \"Life expectancy\": 58.6, \"Adult mortality\": 33.0, \"Infant deaths\": 22, \"Under-five deaths\": 32, \"Population\": 96186.0, \"Schooling\": 10.5}, {\"Country\": \"Burundi\", \"Year\": 2012, \"Status\": \"Developing\", \"Life expectancy\": 58.0, \"Adult mortality\": 312.0, \"Infant deaths\": 22, \"Under-five deaths\": 33, \"Population\": 931971.0, \"Schooling\": 10.3}, {\"Country\": \"Burundi\", \"Year\": 2011, \"Status\": \"Developing\", \"Life expectancy\": 57.4, \"Adult mortality\": 321.0, \"Infant deaths\": 22, \"Under-five deaths\": 33, \"Population\": 94358.0, \"Schooling\": 9.9}, {\"Country\": \"Burundi\", \"Year\": 2010, \"Status\": \"Developing\", \"Life expectancy\": 56.8, \"Adult mortality\": 33.0, \"Infant deaths\": 23, \"Under-five deaths\": 34, \"Population\": 876693.0, \"Schooling\": 9.3}, {\"Country\": \"Burundi\", \"Year\": 2009, \"Status\": \"Developing\", \"Life expectancy\": 56.2, \"Adult mortality\": 338.0, \"Infant deaths\": 23, \"Under-five deaths\": 34, \"Population\": 848931.0, \"Schooling\": 8.6}, {\"Country\": \"Burundi\", \"Year\": 2008, \"Status\": \"Developing\", \"Life expectancy\": 55.3, \"Adult mortality\": 35.0, \"Infant deaths\": 23, \"Under-five deaths\": 35, \"Population\": 8212264.0, \"Schooling\": 7.9}, {\"Country\": \"Burundi\", \"Year\": 2007, \"Status\": \"Developing\", \"Life expectancy\": 54.8, \"Adult mortality\": 355.0, \"Infant deaths\": 24, \"Under-five deaths\": 36, \"Population\": 7939573.0, \"Schooling\": 7.2}, {\"Country\": \"Burundi\", \"Year\": 2006, \"Status\": \"Developing\", \"Life expectancy\": 54.1, \"Adult mortality\": 361.0, \"Infant deaths\": 24, \"Under-five deaths\": 36, \"Population\": 7675338.0, \"Schooling\": 5.9}, {\"Country\": \"Burundi\", \"Year\": 2005, \"Status\": \"Developing\", \"Life expectancy\": 53.4, \"Adult mortality\": 369.0, \"Infant deaths\": 24, \"Under-five deaths\": 37, \"Population\": 7423289.0, \"Schooling\": 5.6}, {\"Country\": \"Burundi\", \"Year\": 2004, \"Status\": \"Developing\", \"Life expectancy\": 52.6, \"Adult mortality\": 378.0, \"Infant deaths\": 24, \"Under-five deaths\": 38, \"Population\": 7182451.0, \"Schooling\": 5.2}, {\"Country\": \"Burundi\", \"Year\": 2003, \"Status\": \"Developing\", \"Life expectancy\": 51.9, \"Adult mortality\": 387.0, \"Infant deaths\": 24, \"Under-five deaths\": 38, \"Population\": 6953113.0, \"Schooling\": 4.7}, {\"Country\": \"Burundi\", \"Year\": 2002, \"Status\": \"Developing\", \"Life expectancy\": 51.5, \"Adult mortality\": 387.0, \"Infant deaths\": 24, \"Under-five deaths\": 39, \"Population\": 6741569.0, \"Schooling\": 4.4}, {\"Country\": \"Burundi\", \"Year\": 2001, \"Status\": \"Developing\", \"Life expectancy\": 51.3, \"Adult mortality\": 385.0, \"Infant deaths\": 25, \"Under-five deaths\": 40, \"Population\": 6555829.0, \"Schooling\": 4.5}, {\"Country\": \"Burundi\", \"Year\": 2000, \"Status\": \"Developing\", \"Life expectancy\": 58.0, \"Adult mortality\": 386.0, \"Infant deaths\": 25, \"Under-five deaths\": 41, \"Population\": 6476.0, \"Schooling\": 4.5}]}}, {\"mode\": \"vega-lite\"});\n",
              "</script>"
            ],
            "text/plain": [
              "alt.Chart(...)"
            ]
          },
          "metadata": {}
        },
        {
          "output_type": "display_data",
          "data": {
            "text/html": [
              "\n",
              "<div id=\"altair-viz-d2575ee517184e0e95d672e9e89b51af\"></div>\n",
              "<script type=\"text/javascript\">\n",
              "  var VEGA_DEBUG = (typeof VEGA_DEBUG == \"undefined\") ? {} : VEGA_DEBUG;\n",
              "  (function(spec, embedOpt){\n",
              "    let outputDiv = document.currentScript.previousElementSibling;\n",
              "    if (outputDiv.id !== \"altair-viz-d2575ee517184e0e95d672e9e89b51af\") {\n",
              "      outputDiv = document.getElementById(\"altair-viz-d2575ee517184e0e95d672e9e89b51af\");\n",
              "    }\n",
              "    const paths = {\n",
              "      \"vega\": \"https://cdn.jsdelivr.net/npm//vega@5?noext\",\n",
              "      \"vega-lib\": \"https://cdn.jsdelivr.net/npm//vega-lib?noext\",\n",
              "      \"vega-lite\": \"https://cdn.jsdelivr.net/npm//vega-lite@4.17.0?noext\",\n",
              "      \"vega-embed\": \"https://cdn.jsdelivr.net/npm//vega-embed@6?noext\",\n",
              "    };\n",
              "\n",
              "    function maybeLoadScript(lib, version) {\n",
              "      var key = `${lib.replace(\"-\", \"\")}_version`;\n",
              "      return (VEGA_DEBUG[key] == version) ?\n",
              "        Promise.resolve(paths[lib]) :\n",
              "        new Promise(function(resolve, reject) {\n",
              "          var s = document.createElement('script');\n",
              "          document.getElementsByTagName(\"head\")[0].appendChild(s);\n",
              "          s.async = true;\n",
              "          s.onload = () => {\n",
              "            VEGA_DEBUG[key] = version;\n",
              "            return resolve(paths[lib]);\n",
              "          };\n",
              "          s.onerror = () => reject(`Error loading script: ${paths[lib]}`);\n",
              "          s.src = paths[lib];\n",
              "        });\n",
              "    }\n",
              "\n",
              "    function showError(err) {\n",
              "      outputDiv.innerHTML = `<div class=\"error\" style=\"color:red;\">${err}</div>`;\n",
              "      throw err;\n",
              "    }\n",
              "\n",
              "    function displayChart(vegaEmbed) {\n",
              "      vegaEmbed(outputDiv, spec, embedOpt)\n",
              "        .catch(err => showError(`Javascript Error: ${err.message}<br>This usually means there's a typo in your chart specification. See the javascript console for the full traceback.`));\n",
              "    }\n",
              "\n",
              "    if(typeof define === \"function\" && define.amd) {\n",
              "      requirejs.config({paths});\n",
              "      require([\"vega-embed\"], displayChart, err => showError(`Error loading script: ${err.message}`));\n",
              "    } else {\n",
              "      maybeLoadScript(\"vega\", \"5\")\n",
              "        .then(() => maybeLoadScript(\"vega-lite\", \"4.17.0\"))\n",
              "        .then(() => maybeLoadScript(\"vega-embed\", \"6\"))\n",
              "        .catch(showError)\n",
              "        .then(() => displayChart(vegaEmbed));\n",
              "    }\n",
              "  })({\"config\": {\"view\": {\"continuousWidth\": 400, \"continuousHeight\": 300}}, \"data\": {\"name\": \"data-131a47cd570fb7d24b7988a96d06887f\"}, \"mark\": \"boxplot\", \"encoding\": {\"y\": {\"field\": \"Schooling\", \"title\": \"Schooling\", \"type\": \"quantitative\"}}, \"height\": 300, \"title\": \"Box Plot of Schooling\", \"width\": 400, \"$schema\": \"https://vega.github.io/schema/vega-lite/v4.17.0.json\", \"datasets\": {\"data-131a47cd570fb7d24b7988a96d06887f\": [{\"Country\": \"Burundi\", \"Year\": 2015, \"Status\": \"Developing\", \"Life expectancy\": 59.6, \"Adult mortality\": 288.0, \"Infant deaths\": 21, \"Under-five deaths\": 31, \"Population\": 119927.0, \"Schooling\": 10.6}, {\"Country\": \"Burundi\", \"Year\": 2014, \"Status\": \"Developing\", \"Life expectancy\": 59.1, \"Adult mortality\": 297.0, \"Infant deaths\": 22, \"Under-five deaths\": 32, \"Population\": 989179.0, \"Schooling\": 10.6}, {\"Country\": \"Burundi\", \"Year\": 2013, \"Status\": \"Developing\", \"Life expectancy\": 58.6, \"Adult mortality\": 33.0, \"Infant deaths\": 22, \"Under-five deaths\": 32, \"Population\": 96186.0, \"Schooling\": 10.5}, {\"Country\": \"Burundi\", \"Year\": 2012, \"Status\": \"Developing\", \"Life expectancy\": 58.0, \"Adult mortality\": 312.0, \"Infant deaths\": 22, \"Under-five deaths\": 33, \"Population\": 931971.0, \"Schooling\": 10.3}, {\"Country\": \"Burundi\", \"Year\": 2011, \"Status\": \"Developing\", \"Life expectancy\": 57.4, \"Adult mortality\": 321.0, \"Infant deaths\": 22, \"Under-five deaths\": 33, \"Population\": 94358.0, \"Schooling\": 9.9}, {\"Country\": \"Burundi\", \"Year\": 2010, \"Status\": \"Developing\", \"Life expectancy\": 56.8, \"Adult mortality\": 33.0, \"Infant deaths\": 23, \"Under-five deaths\": 34, \"Population\": 876693.0, \"Schooling\": 9.3}, {\"Country\": \"Burundi\", \"Year\": 2009, \"Status\": \"Developing\", \"Life expectancy\": 56.2, \"Adult mortality\": 338.0, \"Infant deaths\": 23, \"Under-five deaths\": 34, \"Population\": 848931.0, \"Schooling\": 8.6}, {\"Country\": \"Burundi\", \"Year\": 2008, \"Status\": \"Developing\", \"Life expectancy\": 55.3, \"Adult mortality\": 35.0, \"Infant deaths\": 23, \"Under-five deaths\": 35, \"Population\": 8212264.0, \"Schooling\": 7.9}, {\"Country\": \"Burundi\", \"Year\": 2007, \"Status\": \"Developing\", \"Life expectancy\": 54.8, \"Adult mortality\": 355.0, \"Infant deaths\": 24, \"Under-five deaths\": 36, \"Population\": 7939573.0, \"Schooling\": 7.2}, {\"Country\": \"Burundi\", \"Year\": 2006, \"Status\": \"Developing\", \"Life expectancy\": 54.1, \"Adult mortality\": 361.0, \"Infant deaths\": 24, \"Under-five deaths\": 36, \"Population\": 7675338.0, \"Schooling\": 5.9}, {\"Country\": \"Burundi\", \"Year\": 2005, \"Status\": \"Developing\", \"Life expectancy\": 53.4, \"Adult mortality\": 369.0, \"Infant deaths\": 24, \"Under-five deaths\": 37, \"Population\": 7423289.0, \"Schooling\": 5.6}, {\"Country\": \"Burundi\", \"Year\": 2004, \"Status\": \"Developing\", \"Life expectancy\": 52.6, \"Adult mortality\": 378.0, \"Infant deaths\": 24, \"Under-five deaths\": 38, \"Population\": 7182451.0, \"Schooling\": 5.2}, {\"Country\": \"Burundi\", \"Year\": 2003, \"Status\": \"Developing\", \"Life expectancy\": 51.9, \"Adult mortality\": 387.0, \"Infant deaths\": 24, \"Under-five deaths\": 38, \"Population\": 6953113.0, \"Schooling\": 4.7}, {\"Country\": \"Burundi\", \"Year\": 2002, \"Status\": \"Developing\", \"Life expectancy\": 51.5, \"Adult mortality\": 387.0, \"Infant deaths\": 24, \"Under-five deaths\": 39, \"Population\": 6741569.0, \"Schooling\": 4.4}, {\"Country\": \"Burundi\", \"Year\": 2001, \"Status\": \"Developing\", \"Life expectancy\": 51.3, \"Adult mortality\": 385.0, \"Infant deaths\": 25, \"Under-five deaths\": 40, \"Population\": 6555829.0, \"Schooling\": 4.5}, {\"Country\": \"Burundi\", \"Year\": 2000, \"Status\": \"Developing\", \"Life expectancy\": 58.0, \"Adult mortality\": 386.0, \"Infant deaths\": 25, \"Under-five deaths\": 41, \"Population\": 6476.0, \"Schooling\": 4.5}]}}, {\"mode\": \"vega-lite\"});\n",
              "</script>"
            ],
            "text/plain": [
              "alt.Chart(...)"
            ]
          },
          "metadata": {}
        }
      ]
    },
    {
      "cell_type": "code",
      "source": [
        "Change_Adult_mortality = subset_Burundi.loc[subset_Burundi['Adult mortality'] == 33.0, 'Adult mortality'] = 330.0\n",
        "Change_Adult_Mortality = subset_Burundi.loc[subset_Burundi['Adult mortality'] == 35.0, 'Adult mortality'] = 350.0\n",
        "Remove_integer_Adult_mortality = subset_Burundi['Adult mortality'] = subset_Burundi['Adult mortality'].astype(int)\n",
        "print(subset_Burundi)"
      ],
      "metadata": {
        "colab": {
          "base_uri": "https://localhost:8080/"
        },
        "id": "7IHHtpUpcDnR",
        "outputId": "74c92ac3-f00d-4481-ffed-3f7180137518"
      },
      "execution_count": null,
      "outputs": [
        {
          "output_type": "stream",
          "name": "stdout",
          "text": [
            "     Country  Year      Status  Life expectancy  Adult mortality  \\\n",
            "416  Burundi  2015  Developing             59.6              288   \n",
            "417  Burundi  2014  Developing             59.1              297   \n",
            "418  Burundi  2013  Developing             58.6              330   \n",
            "419  Burundi  2012  Developing             58.0              312   \n",
            "420  Burundi  2011  Developing             57.4              321   \n",
            "421  Burundi  2010  Developing             56.8              330   \n",
            "422  Burundi  2009  Developing             56.2              338   \n",
            "423  Burundi  2008  Developing             55.3              350   \n",
            "424  Burundi  2007  Developing             54.8              355   \n",
            "425  Burundi  2006  Developing             54.1              361   \n",
            "426  Burundi  2005  Developing             53.4              369   \n",
            "427  Burundi  2004  Developing             52.6              378   \n",
            "428  Burundi  2003  Developing             51.9              387   \n",
            "429  Burundi  2002  Developing             51.5              387   \n",
            "430  Burundi  2001  Developing             51.3              385   \n",
            "431  Burundi  2000  Developing             58.0              386   \n",
            "\n",
            "     Infant deaths  Under-five deaths  Population  Schooling  \n",
            "416             21                 31    119927.0       10.6  \n",
            "417             22                 32    989179.0       10.6  \n",
            "418             22                 32     96186.0       10.5  \n",
            "419             22                 33    931971.0       10.3  \n",
            "420             22                 33     94358.0        9.9  \n",
            "421             23                 34    876693.0        9.3  \n",
            "422             23                 34    848931.0        8.6  \n",
            "423             23                 35   8212264.0        7.9  \n",
            "424             24                 36   7939573.0        7.2  \n",
            "425             24                 36   7675338.0        5.9  \n",
            "426             24                 37   7423289.0        5.6  \n",
            "427             24                 38   7182451.0        5.2  \n",
            "428             24                 38   6953113.0        4.7  \n",
            "429             24                 39   6741569.0        4.4  \n",
            "430             25                 40   6555829.0        4.5  \n",
            "431             25                 41      6476.0        4.5  \n"
          ]
        },
        {
          "output_type": "stream",
          "name": "stderr",
          "text": [
            "<ipython-input-10-ed26aaeea7eb>:3: SettingWithCopyWarning: \n",
            "A value is trying to be set on a copy of a slice from a DataFrame.\n",
            "Try using .loc[row_indexer,col_indexer] = value instead\n",
            "\n",
            "See the caveats in the documentation: https://pandas.pydata.org/pandas-docs/stable/user_guide/indexing.html#returning-a-view-versus-a-copy\n",
            "  Remove_integer_Adult_mortality = subset_Burundi['Adult mortality'] = subset_Burundi['Adult mortality'].astype(int)\n"
          ]
        }
      ]
    },
    {
      "cell_type": "code",
      "source": [
        "subset_Burundi = subset_Burundi.copy()\n",
        "index_to_change = subset_Burundi.loc[subset_Burundi['Population'] == 6476.0].index\n",
        "subset_Burundi.loc[index_to_change, 'Population'] =  6476000.0\n",
        "index_to_change = subset_Burundi.loc[subset_Burundi['Population'] == 848931.0].index\n",
        "subset_Burundi.loc[index_to_change, 'Population'] =  8489310.0\n",
        "index_to_change = subset_Burundi.loc[subset_Burundi['Population'] == 876693.0].index\n",
        "subset_Burundi.loc[index_to_change, 'Population'] =  8766930.0\n",
        "index_to_change = subset_Burundi.loc[subset_Burundi['Population'] == 94358.0].index\n",
        "subset_Burundi.loc[index_to_change, 'Population'] =  9435800.0\n",
        "index_to_change = subset_Burundi.loc[subset_Burundi['Population'] == 931971.0].index\n",
        "subset_Burundi.loc[index_to_change, 'Population'] =  9319710.0\n",
        "index_to_change = subset_Burundi.loc[subset_Burundi['Population'] == 96186.0].index\n",
        "subset_Burundi.loc[index_to_change, 'Population'] =  9618600.0\n",
        "index_to_change = subset_Burundi.loc[subset_Burundi['Population'] == 989179.0].index\n",
        "subset_Burundi.loc[index_to_change, 'Population'] =  9891790.0\n",
        "index_to_change = subset_Burundi.loc[subset_Burundi['Population'] == 119927.0].index\n",
        "subset_Burundi.loc[index_to_change, 'Population'] =  11992700.0\n",
        "print(subset_Burundi)"
      ],
      "metadata": {
        "colab": {
          "base_uri": "https://localhost:8080/"
        },
        "id": "UUFqp7ZbdL87",
        "outputId": "4beaac73-b1b0-42c2-9e4f-3fb77407d4d3"
      },
      "execution_count": null,
      "outputs": [
        {
          "output_type": "stream",
          "name": "stdout",
          "text": [
            "     Country  Year      Status  Life expectancy  Adult mortality  \\\n",
            "416  Burundi  2015  Developing             59.6              288   \n",
            "417  Burundi  2014  Developing             59.1              297   \n",
            "418  Burundi  2013  Developing             58.6              330   \n",
            "419  Burundi  2012  Developing             58.0              312   \n",
            "420  Burundi  2011  Developing             57.4              321   \n",
            "421  Burundi  2010  Developing             56.8              330   \n",
            "422  Burundi  2009  Developing             56.2              338   \n",
            "423  Burundi  2008  Developing             55.3              350   \n",
            "424  Burundi  2007  Developing             54.8              355   \n",
            "425  Burundi  2006  Developing             54.1              361   \n",
            "426  Burundi  2005  Developing             53.4              369   \n",
            "427  Burundi  2004  Developing             52.6              378   \n",
            "428  Burundi  2003  Developing             51.9              387   \n",
            "429  Burundi  2002  Developing             51.5              387   \n",
            "430  Burundi  2001  Developing             51.3              385   \n",
            "431  Burundi  2000  Developing             58.0              386   \n",
            "\n",
            "     Infant deaths  Under-five deaths  Population  Schooling  \n",
            "416             21                 31  11992700.0       10.6  \n",
            "417             22                 32   9891790.0       10.6  \n",
            "418             22                 32   9618600.0       10.5  \n",
            "419             22                 33   9319710.0       10.3  \n",
            "420             22                 33   9435800.0        9.9  \n",
            "421             23                 34   8766930.0        9.3  \n",
            "422             23                 34   8489310.0        8.6  \n",
            "423             23                 35   8212264.0        7.9  \n",
            "424             24                 36   7939573.0        7.2  \n",
            "425             24                 36   7675338.0        5.9  \n",
            "426             24                 37   7423289.0        5.6  \n",
            "427             24                 38   7182451.0        5.2  \n",
            "428             24                 38   6953113.0        4.7  \n",
            "429             24                 39   6741569.0        4.4  \n",
            "430             25                 40   6555829.0        4.5  \n",
            "431             25                 41   6476000.0        4.5  \n"
          ]
        }
      ]
    },
    {
      "cell_type": "code",
      "source": [
        "Netherlands_rows = health[health['Country'] == 'Netherlands']\n",
        "print(Netherlands_rows)"
      ],
      "metadata": {
        "colab": {
          "base_uri": "https://localhost:8080/"
        },
        "id": "9cNKZKWgfHA_",
        "outputId": "1a01b7d9-3705-42a8-d896-8b630a632995"
      },
      "execution_count": null,
      "outputs": [
        {
          "output_type": "stream",
          "name": "stdout",
          "text": [
            "          Country  Year     Status  Life expectancy  Adult mortality  \\\n",
            "1829  Netherlands  2015  Developed             81.9             57.0   \n",
            "1830  Netherlands  2014  Developed             81.7             58.0   \n",
            "1831  Netherlands  2013  Developed             81.4              6.0   \n",
            "1832  Netherlands  2012  Developed             81.1             62.0   \n",
            "1833  Netherlands  2011  Developed             81.1             63.0   \n",
            "1834  Netherlands  2010  Developed             88.0             64.0   \n",
            "1835  Netherlands  2009  Developed             86.0             65.0   \n",
            "1836  Netherlands  2008  Developed             83.0             68.0   \n",
            "1837  Netherlands  2007  Developed             82.0             68.0   \n",
            "1838  Netherlands  2006  Developed             79.8             71.0   \n",
            "1839  Netherlands  2005  Developed             79.4             72.0   \n",
            "1840  Netherlands  2004  Developed             79.2             77.0   \n",
            "1841  Netherlands  2003  Developed             78.7              8.0   \n",
            "1842  Netherlands  2002  Developed             78.4             81.0   \n",
            "1843  Netherlands  2001  Developed             78.3             82.0   \n",
            "1844  Netherlands  2000  Developed             78.1             84.0   \n",
            "\n",
            "      Infant deaths  Under-five deaths  Population  Schooling  \n",
            "1829              1                  1  16939923.0       18.1  \n",
            "1830              1                  1    168658.0       18.1  \n",
            "1831              1                  1   1684432.0       18.1  \n",
            "1832              1                  1  16754962.0       18.1  \n",
            "1833              1                  1   1669374.0       17.2  \n",
            "1834              1                  1  16615394.0       17.0  \n",
            "1835              1                  1   1653388.0       16.9  \n",
            "1836              1                  1  16445593.0       16.8  \n",
            "1837              1                  1  16381696.0       16.6  \n",
            "1838              1                  1   1634611.0       16.5  \n",
            "1839              1                  1  16319868.0       16.4  \n",
            "1840              1                  1  16281779.0       16.5  \n",
            "1841              1                  1   1622532.0       16.5  \n",
            "1842              1                  1  16148929.0       16.9  \n",
            "1843              1                  1    164618.0       16.7  \n",
            "1844              1                  1  15925513.0       16.5  \n"
          ]
        }
      ]
    },
    {
      "cell_type": "code",
      "source": [
        "subset_Netherlands = health.iloc[1829:1845, :]\n",
        "subset_Netherlands.to_csv('subset_Netherlands.csc', index= True)"
      ],
      "metadata": {
        "id": "WQ3O41d-fV9M"
      },
      "execution_count": null,
      "outputs": []
    },
    {
      "cell_type": "code",
      "source": [
        "Change_Adult_mortality = subset_Netherlands.loc[subset_Netherlands['Adult mortality'] == 6.0, 'Adult mortality'] = 60\n",
        "Change_Adult_mortality = subset_Netherlands.loc[subset_Netherlands['Adult mortality'] == 8.0, 'Adult mortality'] = 80\n",
        "print(subset_Netherlands)"
      ],
      "metadata": {
        "colab": {
          "base_uri": "https://localhost:8080/"
        },
        "id": "Ay06J_y7fuYr",
        "outputId": "abed8d03-d020-421f-8d7a-382926e9e45a"
      },
      "execution_count": null,
      "outputs": [
        {
          "output_type": "stream",
          "name": "stdout",
          "text": [
            "          Country  Year     Status  Life expectancy  Adult mortality  \\\n",
            "1829  Netherlands  2015  Developed             81.9             57.0   \n",
            "1830  Netherlands  2014  Developed             81.7             58.0   \n",
            "1831  Netherlands  2013  Developed             81.4             60.0   \n",
            "1832  Netherlands  2012  Developed             81.1             62.0   \n",
            "1833  Netherlands  2011  Developed             81.1             63.0   \n",
            "1834  Netherlands  2010  Developed             88.0             64.0   \n",
            "1835  Netherlands  2009  Developed             86.0             65.0   \n",
            "1836  Netherlands  2008  Developed             83.0             68.0   \n",
            "1837  Netherlands  2007  Developed             82.0             68.0   \n",
            "1838  Netherlands  2006  Developed             79.8             71.0   \n",
            "1839  Netherlands  2005  Developed             79.4             72.0   \n",
            "1840  Netherlands  2004  Developed             79.2             77.0   \n",
            "1841  Netherlands  2003  Developed             78.7             80.0   \n",
            "1842  Netherlands  2002  Developed             78.4             81.0   \n",
            "1843  Netherlands  2001  Developed             78.3             82.0   \n",
            "1844  Netherlands  2000  Developed             78.1             84.0   \n",
            "\n",
            "      Infant deaths  Under-five deaths  Population  Schooling  \n",
            "1829              1                  1  16939923.0       18.1  \n",
            "1830              1                  1    168658.0       18.1  \n",
            "1831              1                  1   1684432.0       18.1  \n",
            "1832              1                  1  16754962.0       18.1  \n",
            "1833              1                  1   1669374.0       17.2  \n",
            "1834              1                  1  16615394.0       17.0  \n",
            "1835              1                  1   1653388.0       16.9  \n",
            "1836              1                  1  16445593.0       16.8  \n",
            "1837              1                  1  16381696.0       16.6  \n",
            "1838              1                  1   1634611.0       16.5  \n",
            "1839              1                  1  16319868.0       16.4  \n",
            "1840              1                  1  16281779.0       16.5  \n",
            "1841              1                  1   1622532.0       16.5  \n",
            "1842              1                  1  16148929.0       16.9  \n",
            "1843              1                  1    164618.0       16.7  \n",
            "1844              1                  1  15925513.0       16.5  \n"
          ]
        }
      ]
    },
    {
      "cell_type": "code",
      "source": [
        "subset_Netherlands = subset_Netherlands.copy()\n",
        "index_to_change = subset_Netherlands.loc[subset_Netherlands['Population'] == 168658.0].index\n",
        "subset_Netherlands.loc[index_to_change, 'Population'] =  16865800.0\n",
        "index_to_change = subset_Netherlands.loc[subset_Netherlands['Population'] == 1684432.0].index\n",
        "subset_Netherlands.loc[index_to_change, 'Population'] =  16844320.0\n",
        "index_to_change = subset_Netherlands.loc[subset_Netherlands['Population'] == 1669374.0].index\n",
        "subset_Netherlands.loc[index_to_change, 'Population'] =  16693740.0\n",
        "index_to_change = subset_Netherlands.loc[subset_Netherlands['Population'] ==  1653388.0].index\n",
        "subset_Netherlands.loc[index_to_change, 'Population'] =  165338800.0\n",
        "index_to_change = subset_Netherlands.loc[subset_Netherlands['Population'] == 1634611.0].index\n",
        "subset_Netherlands.loc[index_to_change, 'Population'] =  16346110.0\n",
        "index_to_change = subset_Netherlands.loc[subset_Netherlands['Population'] == 1622532.0].index\n",
        "subset_Netherlands.loc[index_to_change, 'Population'] =  16225320.0\n",
        "index_to_change = subset_Netherlands.loc[subset_Netherlands['Population'] == 164618.0].index\n",
        "subset_Netherlands.loc[index_to_change, 'Population'] =  162253200.0\n",
        "index_to_change = subset_Netherlands.loc[subset_Netherlands['Population'] == 165338800.0].index\n",
        "subset_Netherlands.loc[index_to_change, 'Population'] =  16533880.0\n",
        "index_to_change = subset_Netherlands.loc[subset_Netherlands['Population'] == 162253200.0].index\n",
        "subset_Netherlands.loc[index_to_change, 'Population'] =  16225320.0\n",
        "subset_Netherlands['Population'] = subset_Netherlands['Population'].astype(int)\n",
        "print(subset_Netherlands)"
      ],
      "metadata": {
        "colab": {
          "base_uri": "https://localhost:8080/"
        },
        "id": "i3TwjPkrgPNs",
        "outputId": "557dd169-fd10-416d-d569-44910f479aa1"
      },
      "execution_count": null,
      "outputs": [
        {
          "output_type": "stream",
          "name": "stdout",
          "text": [
            "          Country  Year     Status  Life expectancy  Adult mortality  \\\n",
            "1829  Netherlands  2015  Developed             81.9             57.0   \n",
            "1830  Netherlands  2014  Developed             81.7             58.0   \n",
            "1831  Netherlands  2013  Developed             81.4             60.0   \n",
            "1832  Netherlands  2012  Developed             81.1             62.0   \n",
            "1833  Netherlands  2011  Developed             81.1             63.0   \n",
            "1834  Netherlands  2010  Developed             88.0             64.0   \n",
            "1835  Netherlands  2009  Developed             86.0             65.0   \n",
            "1836  Netherlands  2008  Developed             83.0             68.0   \n",
            "1837  Netherlands  2007  Developed             82.0             68.0   \n",
            "1838  Netherlands  2006  Developed             79.8             71.0   \n",
            "1839  Netherlands  2005  Developed             79.4             72.0   \n",
            "1840  Netherlands  2004  Developed             79.2             77.0   \n",
            "1841  Netherlands  2003  Developed             78.7             80.0   \n",
            "1842  Netherlands  2002  Developed             78.4             81.0   \n",
            "1843  Netherlands  2001  Developed             78.3             82.0   \n",
            "1844  Netherlands  2000  Developed             78.1             84.0   \n",
            "\n",
            "      Infant deaths  Under-five deaths  Population  Schooling  \n",
            "1829              1                  1    16939923       18.1  \n",
            "1830              1                  1    16865800       18.1  \n",
            "1831              1                  1    16844320       18.1  \n",
            "1832              1                  1    16754962       18.1  \n",
            "1833              1                  1    16693740       17.2  \n",
            "1834              1                  1    16615394       17.0  \n",
            "1835              1                  1    16533880       16.9  \n",
            "1836              1                  1    16445593       16.8  \n",
            "1837              1                  1    16381696       16.6  \n",
            "1838              1                  1    16346110       16.5  \n",
            "1839              1                  1    16319868       16.4  \n",
            "1840              1                  1    16281779       16.5  \n",
            "1841              1                  1    16225320       16.5  \n",
            "1842              1                  1    16148929       16.9  \n",
            "1843              1                  1    16225320       16.7  \n",
            "1844              1                  1    15925513       16.5  \n"
          ]
        }
      ]
    },
    {
      "cell_type": "code",
      "source": [
        "concatenated_data = pd.concat([subset_Burundi, subset_Netherlands])\n",
        "print(concatenated_data)"
      ],
      "metadata": {
        "colab": {
          "base_uri": "https://localhost:8080/"
        },
        "id": "3bYB0WGJhMo6",
        "outputId": "f8500993-5b60-43e9-cf74-a52e9e8f04e9"
      },
      "execution_count": null,
      "outputs": [
        {
          "output_type": "stream",
          "name": "stdout",
          "text": [
            "          Country  Year      Status  Life expectancy  Adult mortality  \\\n",
            "416       Burundi  2015  Developing             59.6            288.0   \n",
            "417       Burundi  2014  Developing             59.1            297.0   \n",
            "418       Burundi  2013  Developing             58.6            330.0   \n",
            "419       Burundi  2012  Developing             58.0            312.0   \n",
            "420       Burundi  2011  Developing             57.4            321.0   \n",
            "421       Burundi  2010  Developing             56.8            330.0   \n",
            "422       Burundi  2009  Developing             56.2            338.0   \n",
            "423       Burundi  2008  Developing             55.3            350.0   \n",
            "424       Burundi  2007  Developing             54.8            355.0   \n",
            "425       Burundi  2006  Developing             54.1            361.0   \n",
            "426       Burundi  2005  Developing             53.4            369.0   \n",
            "427       Burundi  2004  Developing             52.6            378.0   \n",
            "428       Burundi  2003  Developing             51.9            387.0   \n",
            "429       Burundi  2002  Developing             51.5            387.0   \n",
            "430       Burundi  2001  Developing             51.3            385.0   \n",
            "431       Burundi  2000  Developing             58.0            386.0   \n",
            "1829  Netherlands  2015   Developed             81.9             57.0   \n",
            "1830  Netherlands  2014   Developed             81.7             58.0   \n",
            "1831  Netherlands  2013   Developed             81.4             60.0   \n",
            "1832  Netherlands  2012   Developed             81.1             62.0   \n",
            "1833  Netherlands  2011   Developed             81.1             63.0   \n",
            "1834  Netherlands  2010   Developed             88.0             64.0   \n",
            "1835  Netherlands  2009   Developed             86.0             65.0   \n",
            "1836  Netherlands  2008   Developed             83.0             68.0   \n",
            "1837  Netherlands  2007   Developed             82.0             68.0   \n",
            "1838  Netherlands  2006   Developed             79.8             71.0   \n",
            "1839  Netherlands  2005   Developed             79.4             72.0   \n",
            "1840  Netherlands  2004   Developed             79.2             77.0   \n",
            "1841  Netherlands  2003   Developed             78.7             80.0   \n",
            "1842  Netherlands  2002   Developed             78.4             81.0   \n",
            "1843  Netherlands  2001   Developed             78.3             82.0   \n",
            "1844  Netherlands  2000   Developed             78.1             84.0   \n",
            "\n",
            "      Infant deaths  Under-five deaths  Population  Schooling  \n",
            "416              21                 31  11992700.0       10.6  \n",
            "417              22                 32   9891790.0       10.6  \n",
            "418              22                 32   9618600.0       10.5  \n",
            "419              22                 33   9319710.0       10.3  \n",
            "420              22                 33   9435800.0        9.9  \n",
            "421              23                 34   8766930.0        9.3  \n",
            "422              23                 34   8489310.0        8.6  \n",
            "423              23                 35   8212264.0        7.9  \n",
            "424              24                 36   7939573.0        7.2  \n",
            "425              24                 36   7675338.0        5.9  \n",
            "426              24                 37   7423289.0        5.6  \n",
            "427              24                 38   7182451.0        5.2  \n",
            "428              24                 38   6953113.0        4.7  \n",
            "429              24                 39   6741569.0        4.4  \n",
            "430              25                 40   6555829.0        4.5  \n",
            "431              25                 41   6476000.0        4.5  \n",
            "1829              1                  1  16939923.0       18.1  \n",
            "1830              1                  1  16865800.0       18.1  \n",
            "1831              1                  1  16844320.0       18.1  \n",
            "1832              1                  1  16754962.0       18.1  \n",
            "1833              1                  1  16693740.0       17.2  \n",
            "1834              1                  1  16615394.0       17.0  \n",
            "1835              1                  1  16533880.0       16.9  \n",
            "1836              1                  1  16445593.0       16.8  \n",
            "1837              1                  1  16381696.0       16.6  \n",
            "1838              1                  1  16346110.0       16.5  \n",
            "1839              1                  1  16319868.0       16.4  \n",
            "1840              1                  1  16281779.0       16.5  \n",
            "1841              1                  1  16225320.0       16.5  \n",
            "1842              1                  1  16148929.0       16.9  \n",
            "1843              1                  1  16225320.0       16.7  \n",
            "1844              1                  1  15925513.0       16.5  \n"
          ]
        }
      ]
    },
    {
      "cell_type": "code",
      "source": [
        "population_stats = concatenated_data.groupby('Country')['Population'].describe()\n",
        "print(population_stats)"
      ],
      "metadata": {
        "colab": {
          "base_uri": "https://localhost:8080/"
        },
        "id": "7TrQAsQ0hmhY",
        "outputId": "8286bc20-d5fa-46ef-d26c-959afc3f139b"
      },
      "execution_count": null,
      "outputs": [
        {
          "output_type": "stream",
          "name": "stdout",
          "text": [
            "             count          mean           std         min          25%  \\\n",
            "Country                                                                   \n",
            "Burundi       16.0  8.292142e+06  1.497743e+06   6476000.0   7125116.50   \n",
            "Netherlands   16.0  1.647176e+07  2.915513e+05  15925513.0  16267664.25   \n",
            "\n",
            "                    50%         75%         max  \n",
            "Country                                          \n",
            "Burundi       8075918.5   9348732.5  11992700.0  \n",
            "Netherlands  16413644.5  16709045.5  16939923.0  \n"
          ]
        }
      ]
    },
    {
      "cell_type": "code",
      "source": [
        "selection = alt.selection_multi(fields=['Country'], bind='legend')\n",
        "\n",
        "chart = alt.Chart(concatenated_data).mark_line().encode(\n",
        "    x='Year:O',\n",
        "    y='Population:Q',\n",
        "    color='Country:N',\n",
        "    opacity=alt.condition(selection, alt.value(1), alt.value(0.2)),\n",
        ").add_selection(\n",
        "    selection\n",
        ").properties(\n",
        "    title='Population of The Netherlands and Burundi (2000-2015)',\n",
        "    width=600,\n",
        "    height=400\n",
        ")\n",
        "\n",
        "chart.display()"
      ],
      "metadata": {
        "colab": {
          "base_uri": "https://localhost:8080/",
          "height": 498
        },
        "id": "Z8mNCBu5hpru",
        "outputId": "ee957974-2517-4046-9b60-5dd499f7b9c4"
      },
      "execution_count": null,
      "outputs": [
        {
          "output_type": "display_data",
          "data": {
            "text/html": [
              "\n",
              "<div id=\"altair-viz-662323fd760045adae2520e3450677bc\"></div>\n",
              "<script type=\"text/javascript\">\n",
              "  var VEGA_DEBUG = (typeof VEGA_DEBUG == \"undefined\") ? {} : VEGA_DEBUG;\n",
              "  (function(spec, embedOpt){\n",
              "    let outputDiv = document.currentScript.previousElementSibling;\n",
              "    if (outputDiv.id !== \"altair-viz-662323fd760045adae2520e3450677bc\") {\n",
              "      outputDiv = document.getElementById(\"altair-viz-662323fd760045adae2520e3450677bc\");\n",
              "    }\n",
              "    const paths = {\n",
              "      \"vega\": \"https://cdn.jsdelivr.net/npm//vega@5?noext\",\n",
              "      \"vega-lib\": \"https://cdn.jsdelivr.net/npm//vega-lib?noext\",\n",
              "      \"vega-lite\": \"https://cdn.jsdelivr.net/npm//vega-lite@4.17.0?noext\",\n",
              "      \"vega-embed\": \"https://cdn.jsdelivr.net/npm//vega-embed@6?noext\",\n",
              "    };\n",
              "\n",
              "    function maybeLoadScript(lib, version) {\n",
              "      var key = `${lib.replace(\"-\", \"\")}_version`;\n",
              "      return (VEGA_DEBUG[key] == version) ?\n",
              "        Promise.resolve(paths[lib]) :\n",
              "        new Promise(function(resolve, reject) {\n",
              "          var s = document.createElement('script');\n",
              "          document.getElementsByTagName(\"head\")[0].appendChild(s);\n",
              "          s.async = true;\n",
              "          s.onload = () => {\n",
              "            VEGA_DEBUG[key] = version;\n",
              "            return resolve(paths[lib]);\n",
              "          };\n",
              "          s.onerror = () => reject(`Error loading script: ${paths[lib]}`);\n",
              "          s.src = paths[lib];\n",
              "        });\n",
              "    }\n",
              "\n",
              "    function showError(err) {\n",
              "      outputDiv.innerHTML = `<div class=\"error\" style=\"color:red;\">${err}</div>`;\n",
              "      throw err;\n",
              "    }\n",
              "\n",
              "    function displayChart(vegaEmbed) {\n",
              "      vegaEmbed(outputDiv, spec, embedOpt)\n",
              "        .catch(err => showError(`Javascript Error: ${err.message}<br>This usually means there's a typo in your chart specification. See the javascript console for the full traceback.`));\n",
              "    }\n",
              "\n",
              "    if(typeof define === \"function\" && define.amd) {\n",
              "      requirejs.config({paths});\n",
              "      require([\"vega-embed\"], displayChart, err => showError(`Error loading script: ${err.message}`));\n",
              "    } else {\n",
              "      maybeLoadScript(\"vega\", \"5\")\n",
              "        .then(() => maybeLoadScript(\"vega-lite\", \"4.17.0\"))\n",
              "        .then(() => maybeLoadScript(\"vega-embed\", \"6\"))\n",
              "        .catch(showError)\n",
              "        .then(() => displayChart(vegaEmbed));\n",
              "    }\n",
              "  })({\"config\": {\"view\": {\"continuousWidth\": 400, \"continuousHeight\": 300}}, \"data\": {\"name\": \"data-62f4c695e90ba80382457f98dad287db\"}, \"mark\": \"line\", \"encoding\": {\"color\": {\"field\": \"Country\", \"type\": \"nominal\"}, \"opacity\": {\"condition\": {\"value\": 1, \"selection\": \"selector001\"}, \"value\": 0.2}, \"x\": {\"field\": \"Year\", \"type\": \"ordinal\"}, \"y\": {\"field\": \"Population\", \"type\": \"quantitative\"}}, \"height\": 400, \"selection\": {\"selector001\": {\"type\": \"multi\", \"fields\": [\"Country\"], \"bind\": \"legend\"}}, \"title\": \"Population of The Netherlands and Burundi (2000-2015)\", \"width\": 600, \"$schema\": \"https://vega.github.io/schema/vega-lite/v4.17.0.json\", \"datasets\": {\"data-62f4c695e90ba80382457f98dad287db\": [{\"Country\": \"Burundi\", \"Year\": 2015, \"Status\": \"Developing\", \"Life expectancy\": 59.6, \"Adult mortality\": 288.0, \"Infant deaths\": 21, \"Under-five deaths\": 31, \"Population\": 11992700.0, \"Schooling\": 10.6}, {\"Country\": \"Burundi\", \"Year\": 2014, \"Status\": \"Developing\", \"Life expectancy\": 59.1, \"Adult mortality\": 297.0, \"Infant deaths\": 22, \"Under-five deaths\": 32, \"Population\": 9891790.0, \"Schooling\": 10.6}, {\"Country\": \"Burundi\", \"Year\": 2013, \"Status\": \"Developing\", \"Life expectancy\": 58.6, \"Adult mortality\": 330.0, \"Infant deaths\": 22, \"Under-five deaths\": 32, \"Population\": 9618600.0, \"Schooling\": 10.5}, {\"Country\": \"Burundi\", \"Year\": 2012, \"Status\": \"Developing\", \"Life expectancy\": 58.0, \"Adult mortality\": 312.0, \"Infant deaths\": 22, \"Under-five deaths\": 33, \"Population\": 9319710.0, \"Schooling\": 10.3}, {\"Country\": \"Burundi\", \"Year\": 2011, \"Status\": \"Developing\", \"Life expectancy\": 57.4, \"Adult mortality\": 321.0, \"Infant deaths\": 22, \"Under-five deaths\": 33, \"Population\": 9435800.0, \"Schooling\": 9.9}, {\"Country\": \"Burundi\", \"Year\": 2010, \"Status\": \"Developing\", \"Life expectancy\": 56.8, \"Adult mortality\": 330.0, \"Infant deaths\": 23, \"Under-five deaths\": 34, \"Population\": 8766930.0, \"Schooling\": 9.3}, {\"Country\": \"Burundi\", \"Year\": 2009, \"Status\": \"Developing\", \"Life expectancy\": 56.2, \"Adult mortality\": 338.0, \"Infant deaths\": 23, \"Under-five deaths\": 34, \"Population\": 8489310.0, \"Schooling\": 8.6}, {\"Country\": \"Burundi\", \"Year\": 2008, \"Status\": \"Developing\", \"Life expectancy\": 55.3, \"Adult mortality\": 350.0, \"Infant deaths\": 23, \"Under-five deaths\": 35, \"Population\": 8212264.0, \"Schooling\": 7.9}, {\"Country\": \"Burundi\", \"Year\": 2007, \"Status\": \"Developing\", \"Life expectancy\": 54.8, \"Adult mortality\": 355.0, \"Infant deaths\": 24, \"Under-five deaths\": 36, \"Population\": 7939573.0, \"Schooling\": 7.2}, {\"Country\": \"Burundi\", \"Year\": 2006, \"Status\": \"Developing\", \"Life expectancy\": 54.1, \"Adult mortality\": 361.0, \"Infant deaths\": 24, \"Under-five deaths\": 36, \"Population\": 7675338.0, \"Schooling\": 5.9}, {\"Country\": \"Burundi\", \"Year\": 2005, \"Status\": \"Developing\", \"Life expectancy\": 53.4, \"Adult mortality\": 369.0, \"Infant deaths\": 24, \"Under-five deaths\": 37, \"Population\": 7423289.0, \"Schooling\": 5.6}, {\"Country\": \"Burundi\", \"Year\": 2004, \"Status\": \"Developing\", \"Life expectancy\": 52.6, \"Adult mortality\": 378.0, \"Infant deaths\": 24, \"Under-five deaths\": 38, \"Population\": 7182451.0, \"Schooling\": 5.2}, {\"Country\": \"Burundi\", \"Year\": 2003, \"Status\": \"Developing\", \"Life expectancy\": 51.9, \"Adult mortality\": 387.0, \"Infant deaths\": 24, \"Under-five deaths\": 38, \"Population\": 6953113.0, \"Schooling\": 4.7}, {\"Country\": \"Burundi\", \"Year\": 2002, \"Status\": \"Developing\", \"Life expectancy\": 51.5, \"Adult mortality\": 387.0, \"Infant deaths\": 24, \"Under-five deaths\": 39, \"Population\": 6741569.0, \"Schooling\": 4.4}, {\"Country\": \"Burundi\", \"Year\": 2001, \"Status\": \"Developing\", \"Life expectancy\": 51.3, \"Adult mortality\": 385.0, \"Infant deaths\": 25, \"Under-five deaths\": 40, \"Population\": 6555829.0, \"Schooling\": 4.5}, {\"Country\": \"Burundi\", \"Year\": 2000, \"Status\": \"Developing\", \"Life expectancy\": 58.0, \"Adult mortality\": 386.0, \"Infant deaths\": 25, \"Under-five deaths\": 41, \"Population\": 6476000.0, \"Schooling\": 4.5}, {\"Country\": \"Netherlands\", \"Year\": 2015, \"Status\": \"Developed\", \"Life expectancy\": 81.9, \"Adult mortality\": 57.0, \"Infant deaths\": 1, \"Under-five deaths\": 1, \"Population\": 16939923.0, \"Schooling\": 18.1}, {\"Country\": \"Netherlands\", \"Year\": 2014, \"Status\": \"Developed\", \"Life expectancy\": 81.7, \"Adult mortality\": 58.0, \"Infant deaths\": 1, \"Under-five deaths\": 1, \"Population\": 16865800.0, \"Schooling\": 18.1}, {\"Country\": \"Netherlands\", \"Year\": 2013, \"Status\": \"Developed\", \"Life expectancy\": 81.4, \"Adult mortality\": 60.0, \"Infant deaths\": 1, \"Under-five deaths\": 1, \"Population\": 16844320.0, \"Schooling\": 18.1}, {\"Country\": \"Netherlands\", \"Year\": 2012, \"Status\": \"Developed\", \"Life expectancy\": 81.1, \"Adult mortality\": 62.0, \"Infant deaths\": 1, \"Under-five deaths\": 1, \"Population\": 16754962.0, \"Schooling\": 18.1}, {\"Country\": \"Netherlands\", \"Year\": 2011, \"Status\": \"Developed\", \"Life expectancy\": 81.1, \"Adult mortality\": 63.0, \"Infant deaths\": 1, \"Under-five deaths\": 1, \"Population\": 16693740.0, \"Schooling\": 17.2}, {\"Country\": \"Netherlands\", \"Year\": 2010, \"Status\": \"Developed\", \"Life expectancy\": 88.0, \"Adult mortality\": 64.0, \"Infant deaths\": 1, \"Under-five deaths\": 1, \"Population\": 16615394.0, \"Schooling\": 17.0}, {\"Country\": \"Netherlands\", \"Year\": 2009, \"Status\": \"Developed\", \"Life expectancy\": 86.0, \"Adult mortality\": 65.0, \"Infant deaths\": 1, \"Under-five deaths\": 1, \"Population\": 16533880.0, \"Schooling\": 16.9}, {\"Country\": \"Netherlands\", \"Year\": 2008, \"Status\": \"Developed\", \"Life expectancy\": 83.0, \"Adult mortality\": 68.0, \"Infant deaths\": 1, \"Under-five deaths\": 1, \"Population\": 16445593.0, \"Schooling\": 16.8}, {\"Country\": \"Netherlands\", \"Year\": 2007, \"Status\": \"Developed\", \"Life expectancy\": 82.0, \"Adult mortality\": 68.0, \"Infant deaths\": 1, \"Under-five deaths\": 1, \"Population\": 16381696.0, \"Schooling\": 16.6}, {\"Country\": \"Netherlands\", \"Year\": 2006, \"Status\": \"Developed\", \"Life expectancy\": 79.8, \"Adult mortality\": 71.0, \"Infant deaths\": 1, \"Under-five deaths\": 1, \"Population\": 16346110.0, \"Schooling\": 16.5}, {\"Country\": \"Netherlands\", \"Year\": 2005, \"Status\": \"Developed\", \"Life expectancy\": 79.4, \"Adult mortality\": 72.0, \"Infant deaths\": 1, \"Under-five deaths\": 1, \"Population\": 16319868.0, \"Schooling\": 16.4}, {\"Country\": \"Netherlands\", \"Year\": 2004, \"Status\": \"Developed\", \"Life expectancy\": 79.2, \"Adult mortality\": 77.0, \"Infant deaths\": 1, \"Under-five deaths\": 1, \"Population\": 16281779.0, \"Schooling\": 16.5}, {\"Country\": \"Netherlands\", \"Year\": 2003, \"Status\": \"Developed\", \"Life expectancy\": 78.7, \"Adult mortality\": 80.0, \"Infant deaths\": 1, \"Under-five deaths\": 1, \"Population\": 16225320.0, \"Schooling\": 16.5}, {\"Country\": \"Netherlands\", \"Year\": 2002, \"Status\": \"Developed\", \"Life expectancy\": 78.4, \"Adult mortality\": 81.0, \"Infant deaths\": 1, \"Under-five deaths\": 1, \"Population\": 16148929.0, \"Schooling\": 16.9}, {\"Country\": \"Netherlands\", \"Year\": 2001, \"Status\": \"Developed\", \"Life expectancy\": 78.3, \"Adult mortality\": 82.0, \"Infant deaths\": 1, \"Under-five deaths\": 1, \"Population\": 16225320.0, \"Schooling\": 16.7}, {\"Country\": \"Netherlands\", \"Year\": 2000, \"Status\": \"Developed\", \"Life expectancy\": 78.1, \"Adult mortality\": 84.0, \"Infant deaths\": 1, \"Under-five deaths\": 1, \"Population\": 15925513.0, \"Schooling\": 16.5}]}}, {\"mode\": \"vega-lite\"});\n",
              "</script>"
            ],
            "text/plain": [
              "alt.Chart(...)"
            ]
          },
          "metadata": {}
        }
      ]
    },
    {
      "cell_type": "code",
      "source": [
        "def create_scatter_plot(concatenated_data, x_var, y_var, title, y_title):\n",
        "    chart = alt.Chart(concatenated_data).mark_point().encode(\n",
        "        x=alt.X(f'{x_var}:Q', title=x_var),\n",
        "        y=alt.Y(f'{y_var}:Q', title=y_title),\n",
        "        color='Country:N',\n",
        "        tooltip=['Country', 'Year', x_var, y_var]\n",
        "    ).properties(\n",
        "        title=title,\n",
        "        width=400,\n",
        "        height=300\n",
        "    )\n",
        "\n",
        "    regression_line = chart.transform_regression(x_var, y_var, groupby=['Country']).mark_line().encode(\n",
        "        color='Country:N'\n",
        "    )\n",
        "\n",
        "    return chart + regression_line\n",
        "\n",
        "y_titles = {\n",
        "    'Adult mortality': 'Inhabitants dying between 15 and 60 years per 1000',\n",
        "    'Infant deaths': 'Number of infant deaths per 1000',\n",
        "    'Under_five_deaths': 'Under-five deaths per 1000'\n",
        "}\n",
        "\n",
        "chart1 = create_scatter_plot(concatenated_data, 'Schooling', 'Life expectancy', 'Schooling vs. Life Expectancy', 'Life Expectancy (years)')\n",
        "chart2 = create_scatter_plot(concatenated_data, 'Schooling', 'Adult mortality', 'Schooling vs. Adult Mortality', y_titles['Adult mortality'])\n",
        "chart3 = create_scatter_plot(concatenated_data, 'Schooling', 'Infant deaths', 'Schooling vs. Infant Deaths', y_titles['Infant deaths'])\n",
        "chart4 = create_scatter_plot(concatenated_data, 'Schooling', 'Under-five deaths', 'Schooling vs. Under-Five Deaths', y_titles['Under_five_deaths'])\n",
        "\n",
        "final_chart = alt.hconcat(chart1, chart2, chart3, chart4).resolve_scale(color='independent')\n",
        "final_chart.display()"
      ],
      "metadata": {
        "colab": {
          "base_uri": "https://localhost:8080/",
          "height": 407
        },
        "id": "bgMeUqnzikLD",
        "outputId": "2692591b-4b84-4a6a-bd79-a9a6b7a6ed9c"
      },
      "execution_count": null,
      "outputs": [
        {
          "output_type": "display_data",
          "data": {
            "text/html": [
              "\n",
              "<div id=\"altair-viz-7520f521d6a8432a925f7d80defbc55b\"></div>\n",
              "<script type=\"text/javascript\">\n",
              "  var VEGA_DEBUG = (typeof VEGA_DEBUG == \"undefined\") ? {} : VEGA_DEBUG;\n",
              "  (function(spec, embedOpt){\n",
              "    let outputDiv = document.currentScript.previousElementSibling;\n",
              "    if (outputDiv.id !== \"altair-viz-7520f521d6a8432a925f7d80defbc55b\") {\n",
              "      outputDiv = document.getElementById(\"altair-viz-7520f521d6a8432a925f7d80defbc55b\");\n",
              "    }\n",
              "    const paths = {\n",
              "      \"vega\": \"https://cdn.jsdelivr.net/npm//vega@5?noext\",\n",
              "      \"vega-lib\": \"https://cdn.jsdelivr.net/npm//vega-lib?noext\",\n",
              "      \"vega-lite\": \"https://cdn.jsdelivr.net/npm//vega-lite@4.17.0?noext\",\n",
              "      \"vega-embed\": \"https://cdn.jsdelivr.net/npm//vega-embed@6?noext\",\n",
              "    };\n",
              "\n",
              "    function maybeLoadScript(lib, version) {\n",
              "      var key = `${lib.replace(\"-\", \"\")}_version`;\n",
              "      return (VEGA_DEBUG[key] == version) ?\n",
              "        Promise.resolve(paths[lib]) :\n",
              "        new Promise(function(resolve, reject) {\n",
              "          var s = document.createElement('script');\n",
              "          document.getElementsByTagName(\"head\")[0].appendChild(s);\n",
              "          s.async = true;\n",
              "          s.onload = () => {\n",
              "            VEGA_DEBUG[key] = version;\n",
              "            return resolve(paths[lib]);\n",
              "          };\n",
              "          s.onerror = () => reject(`Error loading script: ${paths[lib]}`);\n",
              "          s.src = paths[lib];\n",
              "        });\n",
              "    }\n",
              "\n",
              "    function showError(err) {\n",
              "      outputDiv.innerHTML = `<div class=\"error\" style=\"color:red;\">${err}</div>`;\n",
              "      throw err;\n",
              "    }\n",
              "\n",
              "    function displayChart(vegaEmbed) {\n",
              "      vegaEmbed(outputDiv, spec, embedOpt)\n",
              "        .catch(err => showError(`Javascript Error: ${err.message}<br>This usually means there's a typo in your chart specification. See the javascript console for the full traceback.`));\n",
              "    }\n",
              "\n",
              "    if(typeof define === \"function\" && define.amd) {\n",
              "      requirejs.config({paths});\n",
              "      require([\"vega-embed\"], displayChart, err => showError(`Error loading script: ${err.message}`));\n",
              "    } else {\n",
              "      maybeLoadScript(\"vega\", \"5\")\n",
              "        .then(() => maybeLoadScript(\"vega-lite\", \"4.17.0\"))\n",
              "        .then(() => maybeLoadScript(\"vega-embed\", \"6\"))\n",
              "        .catch(showError)\n",
              "        .then(() => displayChart(vegaEmbed));\n",
              "    }\n",
              "  })({\"config\": {\"view\": {\"continuousWidth\": 400, \"continuousHeight\": 300}}, \"hconcat\": [{\"layer\": [{\"mark\": \"point\", \"encoding\": {\"color\": {\"field\": \"Country\", \"type\": \"nominal\"}, \"tooltip\": [{\"field\": \"Country\", \"type\": \"nominal\"}, {\"field\": \"Year\", \"type\": \"quantitative\"}, {\"field\": \"Schooling\", \"type\": \"quantitative\"}, {\"field\": \"Life expectancy\", \"type\": \"quantitative\"}], \"x\": {\"field\": \"Schooling\", \"title\": \"Schooling\", \"type\": \"quantitative\"}, \"y\": {\"field\": \"Life expectancy\", \"title\": \"Life Expectancy (years)\", \"type\": \"quantitative\"}}, \"height\": 300, \"title\": \"Schooling vs. Life Expectancy\", \"width\": 400}, {\"mark\": \"line\", \"encoding\": {\"color\": {\"field\": \"Country\", \"type\": \"nominal\"}, \"tooltip\": [{\"field\": \"Country\", \"type\": \"nominal\"}, {\"field\": \"Year\", \"type\": \"quantitative\"}, {\"field\": \"Schooling\", \"type\": \"quantitative\"}, {\"field\": \"Life expectancy\", \"type\": \"quantitative\"}], \"x\": {\"field\": \"Schooling\", \"title\": \"Schooling\", \"type\": \"quantitative\"}, \"y\": {\"field\": \"Life expectancy\", \"title\": \"Life Expectancy (years)\", \"type\": \"quantitative\"}}, \"height\": 300, \"title\": \"Schooling vs. Life Expectancy\", \"transform\": [{\"on\": \"Schooling\", \"regression\": \"Life expectancy\", \"groupby\": [\"Country\"]}], \"width\": 400}]}, {\"layer\": [{\"mark\": \"point\", \"encoding\": {\"color\": {\"field\": \"Country\", \"type\": \"nominal\"}, \"tooltip\": [{\"field\": \"Country\", \"type\": \"nominal\"}, {\"field\": \"Year\", \"type\": \"quantitative\"}, {\"field\": \"Schooling\", \"type\": \"quantitative\"}, {\"field\": \"Adult mortality\", \"type\": \"quantitative\"}], \"x\": {\"field\": \"Schooling\", \"title\": \"Schooling\", \"type\": \"quantitative\"}, \"y\": {\"field\": \"Adult mortality\", \"title\": \"Inhabitants dying between 15 and 60 years per 1000\", \"type\": \"quantitative\"}}, \"height\": 300, \"title\": \"Schooling vs. Adult Mortality\", \"width\": 400}, {\"mark\": \"line\", \"encoding\": {\"color\": {\"field\": \"Country\", \"type\": \"nominal\"}, \"tooltip\": [{\"field\": \"Country\", \"type\": \"nominal\"}, {\"field\": \"Year\", \"type\": \"quantitative\"}, {\"field\": \"Schooling\", \"type\": \"quantitative\"}, {\"field\": \"Adult mortality\", \"type\": \"quantitative\"}], \"x\": {\"field\": \"Schooling\", \"title\": \"Schooling\", \"type\": \"quantitative\"}, \"y\": {\"field\": \"Adult mortality\", \"title\": \"Inhabitants dying between 15 and 60 years per 1000\", \"type\": \"quantitative\"}}, \"height\": 300, \"title\": \"Schooling vs. Adult Mortality\", \"transform\": [{\"on\": \"Schooling\", \"regression\": \"Adult mortality\", \"groupby\": [\"Country\"]}], \"width\": 400}]}, {\"layer\": [{\"mark\": \"point\", \"encoding\": {\"color\": {\"field\": \"Country\", \"type\": \"nominal\"}, \"tooltip\": [{\"field\": \"Country\", \"type\": \"nominal\"}, {\"field\": \"Year\", \"type\": \"quantitative\"}, {\"field\": \"Schooling\", \"type\": \"quantitative\"}, {\"field\": \"Infant deaths\", \"type\": \"quantitative\"}], \"x\": {\"field\": \"Schooling\", \"title\": \"Schooling\", \"type\": \"quantitative\"}, \"y\": {\"field\": \"Infant deaths\", \"title\": \"Number of infant deaths per 1000\", \"type\": \"quantitative\"}}, \"height\": 300, \"title\": \"Schooling vs. Infant Deaths\", \"width\": 400}, {\"mark\": \"line\", \"encoding\": {\"color\": {\"field\": \"Country\", \"type\": \"nominal\"}, \"tooltip\": [{\"field\": \"Country\", \"type\": \"nominal\"}, {\"field\": \"Year\", \"type\": \"quantitative\"}, {\"field\": \"Schooling\", \"type\": \"quantitative\"}, {\"field\": \"Infant deaths\", \"type\": \"quantitative\"}], \"x\": {\"field\": \"Schooling\", \"title\": \"Schooling\", \"type\": \"quantitative\"}, \"y\": {\"field\": \"Infant deaths\", \"title\": \"Number of infant deaths per 1000\", \"type\": \"quantitative\"}}, \"height\": 300, \"title\": \"Schooling vs. Infant Deaths\", \"transform\": [{\"on\": \"Schooling\", \"regression\": \"Infant deaths\", \"groupby\": [\"Country\"]}], \"width\": 400}]}, {\"layer\": [{\"mark\": \"point\", \"encoding\": {\"color\": {\"field\": \"Country\", \"type\": \"nominal\"}, \"tooltip\": [{\"field\": \"Country\", \"type\": \"nominal\"}, {\"field\": \"Year\", \"type\": \"quantitative\"}, {\"field\": \"Schooling\", \"type\": \"quantitative\"}, {\"field\": \"Under-five deaths\", \"type\": \"quantitative\"}], \"x\": {\"field\": \"Schooling\", \"title\": \"Schooling\", \"type\": \"quantitative\"}, \"y\": {\"field\": \"Under-five deaths\", \"title\": \"Under-five deaths per 1000\", \"type\": \"quantitative\"}}, \"height\": 300, \"title\": \"Schooling vs. Under-Five Deaths\", \"width\": 400}, {\"mark\": \"line\", \"encoding\": {\"color\": {\"field\": \"Country\", \"type\": \"nominal\"}, \"tooltip\": [{\"field\": \"Country\", \"type\": \"nominal\"}, {\"field\": \"Year\", \"type\": \"quantitative\"}, {\"field\": \"Schooling\", \"type\": \"quantitative\"}, {\"field\": \"Under-five deaths\", \"type\": \"quantitative\"}], \"x\": {\"field\": \"Schooling\", \"title\": \"Schooling\", \"type\": \"quantitative\"}, \"y\": {\"field\": \"Under-five deaths\", \"title\": \"Under-five deaths per 1000\", \"type\": \"quantitative\"}}, \"height\": 300, \"title\": \"Schooling vs. Under-Five Deaths\", \"transform\": [{\"on\": \"Schooling\", \"regression\": \"Under-five deaths\", \"groupby\": [\"Country\"]}], \"width\": 400}]}], \"data\": {\"name\": \"data-62f4c695e90ba80382457f98dad287db\"}, \"resolve\": {\"scale\": {\"color\": \"independent\"}}, \"$schema\": \"https://vega.github.io/schema/vega-lite/v4.17.0.json\", \"datasets\": {\"data-62f4c695e90ba80382457f98dad287db\": [{\"Country\": \"Burundi\", \"Year\": 2015, \"Status\": \"Developing\", \"Life expectancy\": 59.6, \"Adult mortality\": 288.0, \"Infant deaths\": 21, \"Under-five deaths\": 31, \"Population\": 11992700.0, \"Schooling\": 10.6}, {\"Country\": \"Burundi\", \"Year\": 2014, \"Status\": \"Developing\", \"Life expectancy\": 59.1, \"Adult mortality\": 297.0, \"Infant deaths\": 22, \"Under-five deaths\": 32, \"Population\": 9891790.0, \"Schooling\": 10.6}, {\"Country\": \"Burundi\", \"Year\": 2013, \"Status\": \"Developing\", \"Life expectancy\": 58.6, \"Adult mortality\": 330.0, \"Infant deaths\": 22, \"Under-five deaths\": 32, \"Population\": 9618600.0, \"Schooling\": 10.5}, {\"Country\": \"Burundi\", \"Year\": 2012, \"Status\": \"Developing\", \"Life expectancy\": 58.0, \"Adult mortality\": 312.0, \"Infant deaths\": 22, \"Under-five deaths\": 33, \"Population\": 9319710.0, \"Schooling\": 10.3}, {\"Country\": \"Burundi\", \"Year\": 2011, \"Status\": \"Developing\", \"Life expectancy\": 57.4, \"Adult mortality\": 321.0, \"Infant deaths\": 22, \"Under-five deaths\": 33, \"Population\": 9435800.0, \"Schooling\": 9.9}, {\"Country\": \"Burundi\", \"Year\": 2010, \"Status\": \"Developing\", \"Life expectancy\": 56.8, \"Adult mortality\": 330.0, \"Infant deaths\": 23, \"Under-five deaths\": 34, \"Population\": 8766930.0, \"Schooling\": 9.3}, {\"Country\": \"Burundi\", \"Year\": 2009, \"Status\": \"Developing\", \"Life expectancy\": 56.2, \"Adult mortality\": 338.0, \"Infant deaths\": 23, \"Under-five deaths\": 34, \"Population\": 8489310.0, \"Schooling\": 8.6}, {\"Country\": \"Burundi\", \"Year\": 2008, \"Status\": \"Developing\", \"Life expectancy\": 55.3, \"Adult mortality\": 350.0, \"Infant deaths\": 23, \"Under-five deaths\": 35, \"Population\": 8212264.0, \"Schooling\": 7.9}, {\"Country\": \"Burundi\", \"Year\": 2007, \"Status\": \"Developing\", \"Life expectancy\": 54.8, \"Adult mortality\": 355.0, \"Infant deaths\": 24, \"Under-five deaths\": 36, \"Population\": 7939573.0, \"Schooling\": 7.2}, {\"Country\": \"Burundi\", \"Year\": 2006, \"Status\": \"Developing\", \"Life expectancy\": 54.1, \"Adult mortality\": 361.0, \"Infant deaths\": 24, \"Under-five deaths\": 36, \"Population\": 7675338.0, \"Schooling\": 5.9}, {\"Country\": \"Burundi\", \"Year\": 2005, \"Status\": \"Developing\", \"Life expectancy\": 53.4, \"Adult mortality\": 369.0, \"Infant deaths\": 24, \"Under-five deaths\": 37, \"Population\": 7423289.0, \"Schooling\": 5.6}, {\"Country\": \"Burundi\", \"Year\": 2004, \"Status\": \"Developing\", \"Life expectancy\": 52.6, \"Adult mortality\": 378.0, \"Infant deaths\": 24, \"Under-five deaths\": 38, \"Population\": 7182451.0, \"Schooling\": 5.2}, {\"Country\": \"Burundi\", \"Year\": 2003, \"Status\": \"Developing\", \"Life expectancy\": 51.9, \"Adult mortality\": 387.0, \"Infant deaths\": 24, \"Under-five deaths\": 38, \"Population\": 6953113.0, \"Schooling\": 4.7}, {\"Country\": \"Burundi\", \"Year\": 2002, \"Status\": \"Developing\", \"Life expectancy\": 51.5, \"Adult mortality\": 387.0, \"Infant deaths\": 24, \"Under-five deaths\": 39, \"Population\": 6741569.0, \"Schooling\": 4.4}, {\"Country\": \"Burundi\", \"Year\": 2001, \"Status\": \"Developing\", \"Life expectancy\": 51.3, \"Adult mortality\": 385.0, \"Infant deaths\": 25, \"Under-five deaths\": 40, \"Population\": 6555829.0, \"Schooling\": 4.5}, {\"Country\": \"Burundi\", \"Year\": 2000, \"Status\": \"Developing\", \"Life expectancy\": 58.0, \"Adult mortality\": 386.0, \"Infant deaths\": 25, \"Under-five deaths\": 41, \"Population\": 6476000.0, \"Schooling\": 4.5}, {\"Country\": \"Netherlands\", \"Year\": 2015, \"Status\": \"Developed\", \"Life expectancy\": 81.9, \"Adult mortality\": 57.0, \"Infant deaths\": 1, \"Under-five deaths\": 1, \"Population\": 16939923.0, \"Schooling\": 18.1}, {\"Country\": \"Netherlands\", \"Year\": 2014, \"Status\": \"Developed\", \"Life expectancy\": 81.7, \"Adult mortality\": 58.0, \"Infant deaths\": 1, \"Under-five deaths\": 1, \"Population\": 16865800.0, \"Schooling\": 18.1}, {\"Country\": \"Netherlands\", \"Year\": 2013, \"Status\": \"Developed\", \"Life expectancy\": 81.4, \"Adult mortality\": 60.0, \"Infant deaths\": 1, \"Under-five deaths\": 1, \"Population\": 16844320.0, \"Schooling\": 18.1}, {\"Country\": \"Netherlands\", \"Year\": 2012, \"Status\": \"Developed\", \"Life expectancy\": 81.1, \"Adult mortality\": 62.0, \"Infant deaths\": 1, \"Under-five deaths\": 1, \"Population\": 16754962.0, \"Schooling\": 18.1}, {\"Country\": \"Netherlands\", \"Year\": 2011, \"Status\": \"Developed\", \"Life expectancy\": 81.1, \"Adult mortality\": 63.0, \"Infant deaths\": 1, \"Under-five deaths\": 1, \"Population\": 16693740.0, \"Schooling\": 17.2}, {\"Country\": \"Netherlands\", \"Year\": 2010, \"Status\": \"Developed\", \"Life expectancy\": 88.0, \"Adult mortality\": 64.0, \"Infant deaths\": 1, \"Under-five deaths\": 1, \"Population\": 16615394.0, \"Schooling\": 17.0}, {\"Country\": \"Netherlands\", \"Year\": 2009, \"Status\": \"Developed\", \"Life expectancy\": 86.0, \"Adult mortality\": 65.0, \"Infant deaths\": 1, \"Under-five deaths\": 1, \"Population\": 16533880.0, \"Schooling\": 16.9}, {\"Country\": \"Netherlands\", \"Year\": 2008, \"Status\": \"Developed\", \"Life expectancy\": 83.0, \"Adult mortality\": 68.0, \"Infant deaths\": 1, \"Under-five deaths\": 1, \"Population\": 16445593.0, \"Schooling\": 16.8}, {\"Country\": \"Netherlands\", \"Year\": 2007, \"Status\": \"Developed\", \"Life expectancy\": 82.0, \"Adult mortality\": 68.0, \"Infant deaths\": 1, \"Under-five deaths\": 1, \"Population\": 16381696.0, \"Schooling\": 16.6}, {\"Country\": \"Netherlands\", \"Year\": 2006, \"Status\": \"Developed\", \"Life expectancy\": 79.8, \"Adult mortality\": 71.0, \"Infant deaths\": 1, \"Under-five deaths\": 1, \"Population\": 16346110.0, \"Schooling\": 16.5}, {\"Country\": \"Netherlands\", \"Year\": 2005, \"Status\": \"Developed\", \"Life expectancy\": 79.4, \"Adult mortality\": 72.0, \"Infant deaths\": 1, \"Under-five deaths\": 1, \"Population\": 16319868.0, \"Schooling\": 16.4}, {\"Country\": \"Netherlands\", \"Year\": 2004, \"Status\": \"Developed\", \"Life expectancy\": 79.2, \"Adult mortality\": 77.0, \"Infant deaths\": 1, \"Under-five deaths\": 1, \"Population\": 16281779.0, \"Schooling\": 16.5}, {\"Country\": \"Netherlands\", \"Year\": 2003, \"Status\": \"Developed\", \"Life expectancy\": 78.7, \"Adult mortality\": 80.0, \"Infant deaths\": 1, \"Under-five deaths\": 1, \"Population\": 16225320.0, \"Schooling\": 16.5}, {\"Country\": \"Netherlands\", \"Year\": 2002, \"Status\": \"Developed\", \"Life expectancy\": 78.4, \"Adult mortality\": 81.0, \"Infant deaths\": 1, \"Under-five deaths\": 1, \"Population\": 16148929.0, \"Schooling\": 16.9}, {\"Country\": \"Netherlands\", \"Year\": 2001, \"Status\": \"Developed\", \"Life expectancy\": 78.3, \"Adult mortality\": 82.0, \"Infant deaths\": 1, \"Under-five deaths\": 1, \"Population\": 16225320.0, \"Schooling\": 16.7}, {\"Country\": \"Netherlands\", \"Year\": 2000, \"Status\": \"Developed\", \"Life expectancy\": 78.1, \"Adult mortality\": 84.0, \"Infant deaths\": 1, \"Under-five deaths\": 1, \"Population\": 15925513.0, \"Schooling\": 16.5}]}}, {\"mode\": \"vega-lite\"});\n",
              "</script>"
            ],
            "text/plain": [
              "alt.HConcatChart(...)"
            ]
          },
          "metadata": {}
        }
      ]
    }
  ]
}